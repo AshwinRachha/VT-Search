{
 "cells": [
  {
   "cell_type": "markdown",
   "metadata": {},
   "source": [
    "\n",
    "# Submission instructions\n",
    "\n",
    "In this programming assignment, you will create a simple search engine. More specifically, you will implement an index over a corpus of webpages, and also compress the index using variable length encoding. Both uncompressed and compressed indices will be tested on retrieval with Boolean conjunctive queries. The assignment is object-oriented and relies on python concepts such as functions, files and classes. Our TA, Makanjuola, has compiled a list of tutorials on these concepts:\n",
    "\n",
    "1. A short video: [Learn python in 1 hour](https://www.youtube.com/watch?v=kqtD5dpn9C8)\n",
    "2. [These docs](https://docs.python.org/3.7/reference/datamodel.html#special-method-names) describe special functions such as `__getitem__` , etc. \n",
    "3. This [short tutorial](https://www.omkarpathak.in/2018/04/11/python-getitem-and-setitem/) is also useful to get started with special functions.\n",
    "4. Here is a very helpful tutorial on Python [file handling](https://www.programiz.com/python-programming/file-operation).\n",
    "5. [This youtube video](https://www.youtube.com/watch?v=wfcWRAxRVBA) and [this article](https://www.w3schools.com/python/python_classes.asp) can help get you started with Classes in Python.\n",
    "6. All tutorials (and more) are categorized in this [Google doc](https://docs.google.com/document/d/1Q_aw1bW2Dx3eUMnlQLYl1p8iMyf4lXkBDjNfk688jHw/edit?usp=sharing).\n",
    "\n",
    "The HW is due **Wednesday, September 29, 2021 @ 11:59 pm**. You can form teams of two or work individually. Note that there exists no difference in terms of grading, i.e., we will grade the same for one and two person teams. Only one of the team members needs to submit the HW. \n",
    " \n",
    "\n",
    "Instructions on how to submit will be given soon. We will use an autograding system. Please do **NOT** change class and method names, otherwise autograding will fail. ONLY edit the parts with **\"### Begin your code\"** and **\"### End your code\"** comments. Note that all aspects of this assignment are covered by the [Honor Code](https://graduateschool.vt.edu/content/dam/graduateschool_vt_edu/graduate-honor-system/Constitution2021.pdf) and that the autograding system will also perform screening checks for code similarity. We will also inspect each student's code for implementation correctness. Finally, note that we will increase office hours before the HW deadline."
   ]
  },
  {
   "cell_type": "markdown",
   "metadata": {},
   "source": [
    "## Declare your teammate here \n",
    "Include the name and email for your team member. If you are working independenty, write \"Myself\"\n",
    "> My teammate for this HW is: `Divyansh Mishra, divyanshmishra@vt.edu`"
   ]
  },
  {
   "cell_type": "markdown",
   "metadata": {},
   "source": [
    "## Grading breakdown\n",
    "\n",
    "**Autograder (60%)**: To ensure your indices are built correctly, both the uncompressed and compressed index versions of your implementations will be tested on 20 Boolean conjunctive queries of one or multiple terms. For those queries, you will get 1.5% of the final grade for each query you answer correctly, for a total of 60% of your grade (30% for the compressed index and 30% for the uncompressed index). \n",
    "\n",
    "**Code inspection (40%)**: We will also grade each function implementation individually. The grading breakdown is as follows:\n",
    "1. `IdMap` - 4%\n",
    "2. `BSBIIndex parse_block` - 4%\n",
    "3. `InvertedIndexWriter append` - 2%\n",
    "4. `BSBIIndex invert_write` - 4%\n",
    "5. `InvertedIndexIterator` - 2%\n",
    "6. `BSBIIndex merge` - 4%\n",
    "7. `InvertedIndexMapper _get_postings_list` - 2%\n",
    "8. `sorted_intersect` - 4%\n",
    "9. `BSBIIndex retrieve` - 4%\n",
    "10. `CompressedPostings` - 4%\n",
    "11. Index size & Performance Questions (Q1-Q4) - 1.5% each question, for a total for 6% (4 x 1.5)\n",
    "\n",
    "\n",
    "Finally note that in order to get full score:\n",
    "- The `retrieve` function should NOT load the whole index into memory  but rather load the postings lists of just the query terms.\n",
    "- The `merge` function should NOT load the complete intermediate indices or keep the whole merged index in memory.\n",
    "- The `retrieve` function should order the query terms by postings list length.\n",
    "- Both the `merge` function and the `sorted_intersect` function should NOT use the built in set operations  while merging postings lists or intersecting sorted lists.\n",
    "- Timings for the `retrieve` function should be within a time range. This will be ensured if you do NOT iterate through your index instead of seeking just the query terms, as this will significantly increase the time complexity. \n",
    "- Your compression algorithm should indeed achieve a compressed index, i.e., you should see a significant index size decrease."
   ]
  },
  {
   "cell_type": "markdown",
   "metadata": {},
   "source": [
    "Let's import a few necessary packages"
   ]
  },
  {
   "cell_type": "code",
   "execution_count": 125,
   "metadata": {},
   "outputs": [],
   "source": [
    "import sys\n",
    "import pickle as pkl\n",
    "import array\n",
    "import os\n",
    "import timeit\n",
    "import contextlib"
   ]
  },
  {
   "cell_type": "markdown",
   "metadata": {},
   "source": [
    "# Corpus"
   ]
  },
  {
   "cell_type": "markdown",
   "metadata": {},
   "source": [
    "The corpus you will be working with for this assignment contains webpages from the cs.vt.edu, vt.edu, illinois.edu and cs.illinois.edu domains. The data for this assignment are included as a .zip file. There are 4 sub-directories under the data directory. We will also remove HTML tags so that each webpage is a sequence of space-delimited words. Each consecutive span of non-space characters consists of a word token in the corpus. "
   ]
  },
  {
   "cell_type": "code",
   "execution_count": 126,
   "metadata": {},
   "outputs": [
    {
     "data": {
      "text/plain": [
       "['0', '1', '2', '3', '4', '5', '6']"
      ]
     },
     "execution_count": 126,
     "metadata": {},
     "output_type": "execute_result"
    }
   ],
   "source": [
    "import zipfile\n",
    "\n",
    "data_dir = 'hw1data'\n",
    "zip_ref = zipfile.ZipFile(data_dir+'.zip', 'r')\n",
    "zip_ref.extractall()\n",
    "zip_ref.close()\n",
    "sorted(os.listdir('hw1data'))"
   ]
  },
  {
   "cell_type": "code",
   "execution_count": 127,
   "metadata": {},
   "outputs": [
    {
     "name": "stderr",
     "output_type": "stream",
     "text": [
      "0it [00:00, ?it/s]\n",
      "  0%|                                                                                          | 0/100 [00:00<?, ?it/s]"
     ]
    },
    {
     "name": "stdout",
     "output_type": "stream",
     "text": [
      "Going over hw1data ...\n",
      "Going over hw1data\\0 ...\n"
     ]
    },
    {
     "name": "stderr",
     "output_type": "stream",
     "text": [
      "100%|████████████████████████████████████████████████████████████████████████████████| 100/100 [00:10<00:00,  9.69it/s]\n",
      "  2%|█▋                                                                                | 2/100 [00:00<00:06, 14.23it/s]"
     ]
    },
    {
     "name": "stdout",
     "output_type": "stream",
     "text": [
      "Going over hw1data\\1 ...\n"
     ]
    },
    {
     "name": "stderr",
     "output_type": "stream",
     "text": [
      "100%|████████████████████████████████████████████████████████████████████████████████| 100/100 [00:10<00:00,  9.12it/s]\n",
      "  2%|█▋                                                                                | 2/100 [00:00<00:06, 15.72it/s]"
     ]
    },
    {
     "name": "stdout",
     "output_type": "stream",
     "text": [
      "Going over hw1data\\2 ...\n"
     ]
    },
    {
     "name": "stderr",
     "output_type": "stream",
     "text": [
      "100%|████████████████████████████████████████████████████████████████████████████████| 100/100 [00:14<00:00,  7.00it/s]\n",
      "  0%|                                                                                          | 0/100 [00:00<?, ?it/s]"
     ]
    },
    {
     "name": "stdout",
     "output_type": "stream",
     "text": [
      "Going over hw1data\\3 ...\n"
     ]
    },
    {
     "name": "stderr",
     "output_type": "stream",
     "text": [
      "100%|████████████████████████████████████████████████████████████████████████████████| 100/100 [00:12<00:00,  8.23it/s]\n",
      "  1%|▊                                                                                 | 1/101 [00:00<00:15,  6.31it/s]"
     ]
    },
    {
     "name": "stdout",
     "output_type": "stream",
     "text": [
      "Going over hw1data\\4 ...\n"
     ]
    },
    {
     "name": "stderr",
     "output_type": "stream",
     "text": [
      "100%|████████████████████████████████████████████████████████████████████████████████| 101/101 [00:14<00:00,  7.02it/s]\n",
      "  0%|                                                                                          | 0/100 [00:00<?, ?it/s]"
     ]
    },
    {
     "name": "stdout",
     "output_type": "stream",
     "text": [
      "Going over hw1data\\5 ...\n"
     ]
    },
    {
     "name": "stderr",
     "output_type": "stream",
     "text": [
      "100%|████████████████████████████████████████████████████████████████████████████████| 100/100 [00:12<00:00,  7.97it/s]\n",
      "  2%|█▋                                                                                | 2/100 [00:00<00:06, 15.36it/s]"
     ]
    },
    {
     "name": "stdout",
     "output_type": "stream",
     "text": [
      "Going over hw1data\\6 ...\n"
     ]
    },
    {
     "name": "stderr",
     "output_type": "stream",
     "text": [
      "100%|████████████████████████████████████████████████████████████████████████████████| 100/100 [00:15<00:00,  6.31it/s]"
     ]
    },
    {
     "name": "stdout",
     "output_type": "stream",
     "text": [
      "(function(w,d,s,l,i){w[l]=w[l]||[];w[l].push({'gtm.start':\n",
      "new date().gettime(),event:'gtm.js'});var f=d.getelementsbytagname(s)[0],\n",
      "j=d.createelement(s),dl=l!='datalayer'?'&l='+l:'';j.async=true;j.src=\n",
      "'//www.googletagmanager.com/gtm.js?id='+i+dl;f.parentnode.insertbefore(j,f);\n",
      "})(window,document,'script','datalayer','gtm-3sqhdc'); (function(w,d,s,l,i){w[l]=w[l]||[];w[l].push({'gtm.start':\n",
      "      new date().gettime(),event:'gtm.js'});var f=d.getelementsbytagname(s)[0],\n",
      "      j=d.createelement(s),dl=l!='datalayer'?'&l='+l:'';j.async=true;j.src=\n",
      "      'https://www.googletagmanager.com/gtm.js?id='+i+dl;f.parentnode.insertbefore(j,f);\n",
      "      })(window,document,'script','datalayer','gtm-p6f85q5'); apply | virginia tech skip to main content skip to search virginia techâ® universal access universal access options report a barrier accessibility portal pause all background videos underline all links apply visit give shop hokie gear apparel, clothing, gear and merchandise hokie shop university bookstore, merchandise and gifts hokie license plates part of every virginia tech plate purchase funds scholarships resources for future students current students parents and families faculty and staff alumni industry and partners virginia tech menu virginia tech about facts about virginia tech campus locations university leadership arts@virginiatech history and traditions rankings academics colleges undergraduate majors undergraduate minors graduate school beyond boundaries online learning libraries continuing and professional education summer and winter sessions experiential learning living-learning programs study abroad admissions & aid cost & aid federal cares act reporting disclosure undergraduate admissions applying to virginia tech visit virginia tech transfer admissions international admissions veteran admissions graduate school admissions undergraduate admissions calendar first-generation students first-generation college institute black college institute tribal initiatives frequently asked questions online programs admissions staff site map campus life discover blacksburg housing dining career and professional development health and wellness corps of cadets clubs, organizations, and involvement cultural centers athletics inclusivevt engagement and outreach research apply visit give shop hokie gear apparel, clothing, gear and merchandise hokie shop university bookstore, merchandise and gifts hokie license plates part of every virginia tech plate purchase funds scholarships resources for future students current students parents and families faculty and staff alumni industry and partners search search submit home / apply / explore about academics admissions & aid campus life inclusivevt engagement and outreach research apply ready1 apply ready to apply? choose the experience that you're seeking. apply for undergraduate admission apply to the virginia-maryland college of veterinary medicine apply for graduate school apply to the virginia tech carilion school of medicine get directions see all locations contact virginia tech university status principles of community privacy statement acceptable use we remember university libraries accessibility consumer information stop abuse policies equal opportunity wvtf university bookstore jobs at virginia tech strategic plan â©â 2021 virginia polytechnic institute and state university. all rights reserved.\n"
     ]
    },
    {
     "name": "stderr",
     "output_type": "stream",
     "text": [
      "\n"
     ]
    }
   ],
   "source": [
    "# Strip of HTML tags from all files and lowercase all words. This might take a while.\n",
    "from bs4 import BeautifulSoup\n",
    "from tqdm import tqdm #progress bars\n",
    "\n",
    "new_data_dir = 'hw1dataraw'\n",
    "os.makedirs(new_data_dir, exist_ok=True)\n",
    "\n",
    "def removeTags(soup):\n",
    "    for item in soup.find_all('span', 'sr-only'):\n",
    "        item.decompose()\n",
    "    return soup\n",
    "\n",
    "for (dirpath, dirnames, filenames) in os.walk(data_dir):\n",
    "    print(f'Going over {dirpath} ...')\n",
    "    for filename in tqdm(filenames, total=len(filenames)):\n",
    "        inF = open(os.sep.join([dirpath, filename]),'rb')\n",
    "        soup = BeautifulSoup(inF, features=\"html.parser\")\n",
    "        soup = removeTags(soup)\n",
    "        text = soup.get_text(strip=True, separator = \" \").lower()\n",
    "        newsubdir = dirpath.replace(data_dir, new_data_dir)\n",
    "        os.makedirs(newsubdir, exist_ok=True)\n",
    "        outF = open(os.sep.join([newsubdir, filename]), \"w\", encoding = 'utf-8')\n",
    "        outF.write(text)\n",
    "        outF.close()\n",
    "        inF.close()\n",
    "\n",
    "data_dir = new_data_dir # point data_dir to the new dir.\n",
    "filename = 'hw1dataraw/6/apply.html'\n",
    "soup = BeautifulSoup(open(filename,'r'), features=\"html.parser\")\n",
    "soup = removeTags(soup)\n",
    "print(soup.get_text(strip=True, separator = \" \").lower()) "
   ]
  },
  {
   "cell_type": "markdown",
   "metadata": {},
   "source": [
    "We will create the directory for where the index will be stored (`index_dir`) and a separate folder `tmp` that will contain some temporary files. A small test corpus in subfolder `testdata` is included in the HW folder, which you can use for code testing purposes, and faster implementation cycles. The index for the `testdata` will be stored in `test_index_dir`"
   ]
  },
  {
   "cell_type": "code",
   "execution_count": 128,
   "metadata": {},
   "outputs": [],
   "source": [
    "try: \n",
    "    os.mkdir('index_dir')\n",
    "except FileExistsError:\n",
    "    pass\n",
    "try: \n",
    "    os.mkdir('tmp')\n",
    "except FileExistsError:\n",
    "    pass\n",
    "try: \n",
    "    os.mkdir('test_index_dir')\n",
    "except FileExistsError:\n",
    "    pass"
   ]
  },
  {
   "cell_type": "markdown",
   "metadata": {},
   "source": [
    "# Build an uncompressed index"
   ]
  },
  {
   "cell_type": "markdown",
   "metadata": {},
   "source": [
    "The first part of this assignment is to build an inverted index of this corpus, and implement Boolean conjunctive queries. **In particular, you need to implement the blocked sort-based indexing (BSBI) algorithm described in [Section 4.2](http://nlp.stanford.edu/IR-book/pdf/04const.pdf) of the textbook.** To fully understand the details of BSBI, we recommend that you read Section 4.2 .\n",
    "\n",
    "> Remember from lectures, to construct an index, first we assemble all term-docID pairs, where each document is represented with a unique serial numbers instead of strings. Then, we sort term-docID pairs by the term and docID. Finally, we organize docIDs for each term into a postings list and compute statistics like term and document frequency. To make the index more efficient, we can also represent terms as termIDs (unique serial numbers instead of strings). The dictionary that maps terms to termIDs can be built on the fly as we are processing the document collection. For small collections, the whole index construction can be done in memory. Here, we will implement large-scale methods that require use of secondary storage (disk)."
   ]
  },
  {
   "cell_type": "markdown",
   "metadata": {},
   "source": [
    "## IdMap\n",
    "\n",
    "Let us first build a helper class `IdMap`, which maps strings to numeric ids (and vice-versa). This will be useful for mapping terms to termIDs and docs to docIDs. Data structures used include: i) dictionary (from strings to numeric ids) and ii) lists (from numeric ids to strings).\n",
    "\n",
    "\n",
    "In the following code, fill in the functions `_get_str` and `_get_id` . Notice that accessing items can be done by `__getitem__` which gets the correct mapping depending on the type of the key. We will later on incorporate functionality to add a string if it doesn't already exist in the map.   \n",
    "\n"
   ]
  },
  {
   "cell_type": "code",
   "execution_count": 129,
   "metadata": {},
   "outputs": [],
   "source": [
    "\n",
    "class IdMap:\n",
    "    \"\"\"Helper class to store a mapping from strings to ids.\"\"\"\n",
    "    def __init__(self):\n",
    "        self.str_to_id = {}\n",
    "        self.id_to_str = []\n",
    "        \n",
    "    def __len__(self):\n",
    "        \"\"\"Return number of terms stored in the IdMap\"\"\"\n",
    "        return len(self.id_to_str)\n",
    "        \n",
    "    def _get_str(self, i):\n",
    "        \"\"\"Returns the string corresponding to a given id (`i`).\"\"\"\n",
    "        ### Begin your code\n",
    "        return self.id_to_str[i]\n",
    "        ### End your code\n",
    "        \n",
    "    def _get_id(self, s):\n",
    "        \"\"\"Returns the id corresponding to a string (`s`). \n",
    "        If `s` is not in the IdMap yet, then assigns a new id and returns the new id.\n",
    "        \"\"\"\n",
    "        ### Begin your code\n",
    "        if s not in self.str_to_id:\n",
    "            self.str_to_id[s] = self.__len__()\n",
    "            self.id_to_str.append(s)\n",
    "            return self.str_to_id[s]\n",
    "        else:\n",
    "            return self.str_to_id[s]\n",
    "        ### End your code\n",
    "            \n",
    "    def __getitem__(self, key):\n",
    "        \"\"\"If `key` is a integer, use _get_str; \n",
    "           If `key` is a string, use _get_id;\"\"\"\n",
    "        if type(key) is int:\n",
    "            return self._get_str(key)\n",
    "        elif type(key) is str:\n",
    "            return self._get_id(key)\n",
    "        else:\n",
    "            raise TypeError"
   ]
  },
  {
   "cell_type": "markdown",
   "metadata": {},
   "source": [
    "Make sure your code passes the following test cases:"
   ]
  },
  {
   "cell_type": "code",
   "execution_count": 130,
   "metadata": {},
   "outputs": [],
   "source": [
    "testIdMap = IdMap()\n",
    "assert testIdMap['a'] == 0, \"Unable to add a new string to the IdMap\"\n",
    "assert testIdMap['bcd'] == 1, \"Unable to add a new string to the IdMap\"\n",
    "assert testIdMap['a'] == 0, \"Unable to retrieve the id of an existing string\"\n",
    "assert testIdMap[1] == 'bcd', \"Unable to retrive the string corresponding to a given id\"\n",
    "try:\n",
    "    testIdMap[2]\n",
    "except IndexError as e:\n",
    "    assert True, \"Doesn't throw an IndexError for out of range numeric ids\"\n",
    "assert len(testIdMap) == 2"
   ]
  },
  {
   "cell_type": "markdown",
   "metadata": {},
   "source": [
    "From now on you can use the `testdata` to write your own test cases, if you want to make sure that your code is working as expected. "
   ]
  },
  {
   "cell_type": "markdown",
   "metadata": {},
   "source": [
    "## Encoding Postings List as bytearrays\n",
    "\n",
    "In order to write and read lists of postings (docIDs) efficiently from the disk, we store them as bytearrays. The provided`UncompressedPostings` class which contains static encode and decode functions. In the next task you'll be required to implement compressed versions with the same inferface. \n",
    "\n",
    "Some links for reference:\n",
    "1. https://docs.python.org/3/library/array.html\n",
    "2. https://pymotw.com/3/array/#module-array\n",
    "3. https://realpython.com/instance-class-and-static-methods-demystified/"
   ]
  },
  {
   "cell_type": "code",
   "execution_count": 131,
   "metadata": {},
   "outputs": [],
   "source": [
    "class UncompressedPostings:\n",
    "    \n",
    "    @staticmethod\n",
    "    def encode(postings_list):\n",
    "        \"\"\"Encodes postings_list into a stream of bytes\n",
    "\n",
    "        Parameters\n",
    "        ----------\n",
    "        postings_list: List[int] of docIDs (postings)\n",
    "            \n",
    "        Returns\n",
    "        -------\n",
    "        bytes: bytearray representing integers in the postings_list\n",
    "        \"\"\"\n",
    "        return array.array('L', postings_list).tobytes()\n",
    "        \n",
    "    @staticmethod\n",
    "    def decode(encoded_postings_list):\n",
    "        \"\"\"Decodes postings_list from a stream of bytes\n",
    "        \n",
    "        Parameters\n",
    "        ----------\n",
    "        encoded_postings_list: bytearray representing encoded postings list as output by encode function\n",
    "            \n",
    "        Returns\n",
    "        -------\n",
    "        decoded_postings_list: Decoded List[int] of docIDs from encoded_postings_list\n",
    "        \"\"\"\n",
    "        decoded_postings_list = array.array('L')\n",
    "        decoded_postings_list.frombytes(encoded_postings_list)\n",
    "        return decoded_postings_list.tolist()"
   ]
  },
  {
   "cell_type": "markdown",
   "metadata": {},
   "source": [
    "To illustrate how it works, run the following cell"
   ]
  },
  {
   "cell_type": "code",
   "execution_count": 132,
   "metadata": {},
   "outputs": [
    {
     "name": "stdout",
     "output_type": "stream",
     "text": [
      "b'\\x01\\x00\\x00\\x00\\x02\\x00\\x00\\x00\\x03\\x00\\x00\\x00'\n",
      "[1, 2, 3]\n"
     ]
    }
   ],
   "source": [
    "x = UncompressedPostings.encode([1,2,3])\n",
    "print(x)\n",
    "print(UncompressedPostings.decode(x))"
   ]
  },
  {
   "cell_type": "markdown",
   "metadata": {},
   "source": [
    "## Inverted Index on Disk\n",
    "\n",
    "As mentioned in lectures, inverted indices utilize external sorting algorithms (that uses disk). For efficiency, any such sorting algorithm needs to minize the number of random disks seeks, i.e., sequential disk reads are much faster than random seeks.\n",
    "\n",
    "In this section we provide a base class `InvertedIndex` which would be subsequently subclassed into `InvertedIndexWriter`, `InvertedIndexIterator` and `InvertedIndexMapper`."
   ]
  },
  {
   "cell_type": "code",
   "execution_count": 133,
   "metadata": {},
   "outputs": [],
   "source": [
    "class InvertedIndex:\n",
    "    \"\"\"Implements efficient reads and writes of an inverted index to disk\n",
    "    \n",
    "    Attributes\n",
    "    ----------\n",
    "    postings_dict: Dictionary mapping: termID->(start_position_in_index_file, \n",
    "                                                number_of_postings_in_list,\n",
    "                                                length_in_bytes_of_postings_list)\n",
    "        \n",
    "        This is a dictionary that maps from termIDs to a 3-tuple of metadata that is helpful in reading \n",
    "        and writing the postings in the index file to/from disk. This mapping is supposed to be kept in memory. \n",
    "        \n",
    "        start_position_in_index_file is the position (in bytes) of the postings list in the index file\n",
    "        number_of_postings_in_list is the number of postings (docIDs) in the postings list\n",
    "        length_in_bytes_of_postings_list is the length of the byte encoding of the postings list\n",
    "    \n",
    "    terms: List[int]\n",
    "        A list of termIDs to remember the order in which terms and their postings lists were added to index. \n",
    "    \"\"\"\n",
    "    \n",
    "    def __init__(self, index_name, postings_encoding=None, directory=''):\n",
    "        \"\"\"\n",
    "        Parameters\n",
    "        ----------\n",
    "        index_name (str): Name used to store files related to the index \n",
    "        postings_encoding: A class implementing static methods for encoding and decoding lists of integers. \n",
    "                           Default is None, which gets replaced with UncompressedPostings\n",
    "        directory (str): Directory where the index files will be stored\n",
    "        \"\"\"\n",
    "        self.index_file_path = os.path.join(directory, index_name+'.index')\n",
    "        self.metadata_file_path = os.path.join(directory, index_name+'.dict')\n",
    "        if postings_encoding is None:\n",
    "            self.postings_encoding = UncompressedPostings\n",
    "        else:\n",
    "            self.postings_encoding = postings_encoding\n",
    "        self.directory = directory\n",
    "        self.postings_dict = {}\n",
    "        self.terms = []         \n",
    "\n",
    "    def __enter__(self):\n",
    "        \"\"\"Opens the index_file and loads metadata upon entering the context\"\"\"\n",
    "        # Open the index file\n",
    "        self.index_file = open(self.index_file_path, 'rb+')\n",
    "        # Load the postings dict and terms from the metadata file\n",
    "        with open(self.metadata_file_path, 'rb') as f:\n",
    "            self.postings_dict, self.terms = pkl.load(f)\n",
    "            self.term_iter = self.terms.__iter__()                       \n",
    "        return self\n",
    "    \n",
    "    def __exit__(self, exception_type, exception_value, traceback):\n",
    "        \"\"\"Closes the index_file and saves metadata upon exiting the context\"\"\"\n",
    "        # Close the index file\n",
    "        self.index_file.close()\n",
    "        # Write the postings dict and terms to the metadata file\n",
    "        with open(self.metadata_file_path, 'wb') as f:\n",
    "            pkl.dump([self.postings_dict, self.terms], f)"
   ]
  },
  {
   "cell_type": "markdown",
   "metadata": {},
   "source": [
    "Note that `__enter__` and `__exit__` functions make `InvertedIndexWriter` a [context manager](https://docs.python.org/3/library/contextlib.html) that allows using the `with` statement just like native file I/O in python. \n",
    "\n",
    "```python\n",
    "with InvertedIndexWriter('test', directory='tmp/') as index:\n",
    "    # Some code here\n",
    "```\n",
    "\n",
    "Additional references on context managers in python (although thorough understanding is not neeed for this HW):\n",
    "1. https://jeffknupp.com/blog/2016/03/07/python-with-context-managers/\n",
    "2. http://arnavk.com/posts/python-context-managers/"
   ]
  },
  {
   "cell_type": "markdown",
   "metadata": {},
   "source": [
    "## Indexing\n",
    "\n",
    "BSBI segments the collection into blocks of equal size, sorts the termID-docID pairs of each part in memory, and stores intermediate sorted results on disk. Finally, all intermediate results are merged as the final index. \n",
    "\n",
    "Here, we treat each sub-directory as a block, i.e.,  small enough to be stored in memory, and only load one block in memory at a time when we build the index. We will build upon the `BSBIIndex` class. The `index` function provides the skeleton for BSBI. \n",
    "\n",
    "The next HW task is to implement `parse_block`, `invert_write` and `merge` functions in the subsequent sections."
   ]
  },
  {
   "cell_type": "code",
   "execution_count": 134,
   "metadata": {},
   "outputs": [],
   "source": [
    "class BSBIIndex:\n",
    "    \"\"\" \n",
    "    Attributes\n",
    "    ----------\n",
    "    term_id_map(IdMap): For mapping terms to termIDs\n",
    "    doc_id_map(IdMap): For mapping relative paths of documents to docIDs\n",
    "    data_dir(str): Path to data\n",
    "    output_dir(str): Path to output index files\n",
    "    index_name(str): Name assigned to index\n",
    "    postings_encoding: Encoding used for storing the postings. The default (None) implies UncompressedPostings\n",
    "    \"\"\"\n",
    "    def __init__(self, data_dir, output_dir, index_name = \"BSBI\", postings_encoding = None):\n",
    "        self.term_id_map = IdMap()\n",
    "        self.doc_id_map = IdMap()\n",
    "        self.data_dir = data_dir\n",
    "        self.output_dir = output_dir\n",
    "        self.index_name = index_name\n",
    "        self.postings_encoding = postings_encoding\n",
    "        # Stores names of intermediate indices\n",
    "        self.intermediate_indices = []\n",
    "        \n",
    "    def save(self):\n",
    "        \"\"\"Dumps doc_id_map and term_id_map into output directory\"\"\"\n",
    "        with open(os.path.join(self.output_dir, 'terms.dict'), 'wb') as f:\n",
    "            pkl.dump(self.term_id_map, f)\n",
    "        with open(os.path.join(self.output_dir, 'docs.dict'), 'wb') as f:\n",
    "            pkl.dump(self.doc_id_map, f)\n",
    "    \n",
    "    def load(self):\n",
    "        \"\"\"Loads doc_id_map and term_id_map from output directory\"\"\"\n",
    "        with open(os.path.join(self.output_dir, 'terms.dict'), 'rb') as f:\n",
    "            self.term_id_map = pkl.load(f)\n",
    "        with open(os.path.join(self.output_dir, 'docs.dict'), 'rb') as f:\n",
    "            self.doc_id_map = pkl.load(f)\n",
    "            \n",
    "    def index(self):\n",
    "        \"\"\"\n",
    "        This function loops through the data directories, calls parse_block to parse the documents, \n",
    "        calls invert_write, which inverts each block and writes to a new index and then saves the \n",
    "        id maps and calls merge on the intermediate indices.\n",
    "        \"\"\"\n",
    "        for block_dir_relative in sorted(next(os.walk(self.data_dir))[1]):\n",
    "            td_pairs = self.parse_block(block_dir_relative)\n",
    "            index_id = 'index_'+block_dir_relative\n",
    "            self.intermediate_indices.append(index_id)\n",
    "            with InvertedIndexWriter(index_id, directory=self.output_dir, \n",
    "                                     postings_encoding=self.postings_encoding) as index:\n",
    "                self.invert_write(td_pairs, index)\n",
    "                td_pairs = None\n",
    "        self.save()\n",
    "        with InvertedIndexWriter(self.index_name, directory=self.output_dir, \n",
    "                                 postings_encoding=self.postings_encoding) as merged_index:\n",
    "            with contextlib.ExitStack() as stack:\n",
    "                indices = [stack.enter_context(InvertedIndexIterator(index_id, directory=self.output_dir, \n",
    "                                          postings_encoding=self.postings_encoding)) \n",
    "                 for index_id in self.intermediate_indices]\n",
    "                self.merge(indices, merged_index)"
   ]
  },
  {
   "cell_type": "markdown",
   "metadata": {},
   "source": [
    "### Parsing\n",
    "\n",
    "The function `parse_block` parses documents into termID-docID pairs and accumulates the pairs in memory until a block of a fixed size is full. Here, we treat each sub-directory as a block (`parse_block` expects the path to the sub-directory). You can assume that the full path of the files are unique. That means that while the individual file names are unique within each sub-directory, this may not necessarily be the case across sub-directories. \n",
    "\n",
    "*Disclaimer: it may seem that `BSBIIndex` inherits `BSBIIndex` (same class), but this is just a convenient way to split class definitions into two parts, such that we can add a new method to an existing class. This note is to avoid confusion on how we used the same name for two classes.*"
   ]
  },
  {
   "cell_type": "code",
   "execution_count": 147,
   "metadata": {},
   "outputs": [],
   "source": [
    "class BSBIIndex(BSBIIndex):            \n",
    "    def parse_block(self, block_dir_relative):\n",
    "        \"\"\"Parses a tokenized text file into termID-docID pairs\n",
    "        \n",
    "        Parameters\n",
    "        ----------\n",
    "        block_dir_relative : str Relative Path to the directory that contains the files for the block\n",
    "        \n",
    "        Returns\n",
    "        -------\n",
    "        parseLst: List[Tuple[Int, Int]] \n",
    "        Returns all the termID-docID pairs extracted from the block\n",
    "        Should use self.term_id_map and self.doc_id_map to get termIDs and docIDs.\n",
    "        These persist across calls to parse_block\n",
    "        \"\"\"\n",
    "        ### Begin your code\n",
    "        parseList = []\n",
    "        file_rel_path = os.path.join(self.data_dir, block_dir_relative)\n",
    "        list_of_files = os.listdir(file_rel_path)\n",
    "        for files in list_of_files:\n",
    "#             index_of_file = self.doc_id_map[os.path.join(block_dir_relative, files)]\n",
    "            index_of_file = self.doc_id_map[files]\n",
    "            with open(os.path.join(file_rel_path, files), 'r', encoding=\"utf-8\") as file:\n",
    "                for line in file.readlines():\n",
    "                    # line = line.translate(str.maketrans('', '', string.punctuation))\n",
    "                    for word in line.lower().split():\n",
    "                        term_id = self.term_id_map[word]\n",
    "                        parseList.append((term_id, index_of_file))\n",
    "\n",
    "#         self.term_id_map._dump()\n",
    "        return parseList\n",
    "        ### End your code"
   ]
  },
  {
   "cell_type": "markdown",
   "metadata": {},
   "source": [
    "See if the function works as expected on the toy data."
   ]
  },
  {
   "cell_type": "code",
   "execution_count": 140,
   "metadata": {},
   "outputs": [
    {
     "name": "stdout",
     "output_type": "stream",
     "text": [
      "i'm fine , thank you\n",
      "\n",
      "hi hi\n",
      "how are you ?\n",
      "\n"
     ]
    }
   ],
   "source": [
    "with open('testdata/0/fine.txt', 'r') as f:\n",
    "    print(f.read())\n",
    "with open('testdata/0/hello.txt', 'r') as f:\n",
    "    print(f.read())"
   ]
  },
  {
   "cell_type": "code",
   "execution_count": 141,
   "metadata": {},
   "outputs": [
    {
     "data": {
      "text/plain": [
       "[[0, 0],\n",
       " [1, 0],\n",
       " [2, 0],\n",
       " [3, 0],\n",
       " [4, 0],\n",
       " [5, 1],\n",
       " [5, 1],\n",
       " [6, 1],\n",
       " [7, 1],\n",
       " [4, 1],\n",
       " [8, 1]]"
      ]
     },
     "execution_count": 141,
     "metadata": {},
     "output_type": "execute_result"
    }
   ],
   "source": [
    "BSBI_instance = BSBIIndex(data_dir='testdata', output_dir = 'tmp/', index_name = 'test')\n",
    "BSBI_instance.parse_block('0')"
   ]
  },
  {
   "cell_type": "markdown",
   "metadata": {},
   "source": [
    "Does `parse_block` work as expected on a block of the `testdata`? \n",
    "Write a test to make sure that a given word gets the same id each time it appears."
   ]
  },
  {
   "cell_type": "code",
   "execution_count": 142,
   "metadata": {},
   "outputs": [],
   "source": [
    "### Begin your code\n",
    "assert BSBI_instance.parse_block('1') == BSBI_instance.parse_block('1')\n",
    "### End your code"
   ]
  },
  {
   "cell_type": "markdown",
   "metadata": {},
   "source": [
    "### Inversion\n",
    "\n",
    "However, we first implement the class `InvertedIndexWriter`, which provides an append function, just like appending to a list, with the difference that the postings_list isn't stored in memory but is directly written to disk. Next, we will add a function `invert_write` that inverts a block and writes it to disk. Inversion involves first sorting the termID-docID pairs and then collect all of pairs with the same termID into a postings list, where a posting is simply a docID. The result is an inverted index for the block, which is finally written to disk. You might find it helpful to read the [Python I/O docs](https://docs.python.org/3/tutorial/inputoutput.html) for information about appending to the end of a file."
   ]
  },
  {
   "cell_type": "code",
   "execution_count": 143,
   "metadata": {},
   "outputs": [],
   "source": [
    "class InvertedIndexWriter(InvertedIndex):\n",
    "    \"\"\"\"\"\"\n",
    "    def __enter__(self):\n",
    "        self.index_file = open(self.index_file_path, 'wb+')              \n",
    "        return self\n",
    "\n",
    "    def append(self, term, postings_list):\n",
    "        \"\"\"Appends the term and postings_list to end of the index file.\n",
    "        \n",
    "        This function should:\n",
    "        1. Encode the postings_list using self.postings_encoding\n",
    "        2. Store metadata in the form of self.terms and self.postings_dict\n",
    "           Note that self.postings_dict maps termID to a tuple of \n",
    "           (start_position_in_index_file, number_of_postings_in_list, length_in_bytes_of_postings_list)\n",
    "        3. Appends the bytestream to the index file on disk\n",
    "        \n",
    "        Parameters\n",
    "        ----------\n",
    "        term: term or termID is the unique identifier for the term\n",
    "        postings_list: List[Int] of docIDs where the term appears\n",
    "        \"\"\"\n",
    "        ### Begin your code\n",
    "        encoded_postings_list = self.postings_encoding.encode(postings_list)\n",
    "        start_position_in_index_file = self.index_file.seek(0, 2)\n",
    "        length_in_bytes_of_postings_list = self.index_file.write(encoded_postings_list)\n",
    "        self.terms.append(term)\n",
    "        self.postings_dict[term] = (start_position_in_index_file, len(postings_list), length_in_bytes_of_postings_list)\n",
    "        ### End your code"
   ]
  },
  {
   "cell_type": "markdown",
   "metadata": {},
   "source": [
    "Make sure you pass the following asserts before moving forward:"
   ]
  },
  {
   "cell_type": "code",
   "execution_count": 144,
   "metadata": {},
   "outputs": [],
   "source": [
    "with InvertedIndexWriter('test', directory='tmp/') as index:\n",
    "    index.append(1, [2, 3, 4])\n",
    "    index.append(2, [3, 4, 5])\n",
    "    index.index_file.seek(0)\n",
    "    assert index.terms == [1,2], \"terms sequence incorrect\"\n",
    "    assert index.postings_dict == {1: (0, 3, len(UncompressedPostings.encode([2,3,4]))), \n",
    "                                   2: (len(UncompressedPostings.encode([2,3,4])), 3, \n",
    "                                       len(UncompressedPostings.encode([3,4,5])))}, \"postings_dict incorrect\"\n",
    "    assert UncompressedPostings.decode(index.index_file.read()) == [2, 3, 4, 3, 4, 5], \"postings on disk incorrect\""
   ]
  },
  {
   "cell_type": "markdown",
   "metadata": {},
   "source": [
    "Now we will implement `invert_write`, which takes as input the termID-docID pairs created with parse_block and writes them to the given index directory, by using `InvertedIndexWriter` to write to disk."
   ]
  },
  {
   "cell_type": "code",
   "execution_count": 52,
   "metadata": {},
   "outputs": [],
   "source": [
    "from collections import defaultdict"
   ]
  },
  {
   "cell_type": "code",
   "execution_count": 145,
   "metadata": {},
   "outputs": [],
   "source": [
    "class BSBIIndex(BSBIIndex):\n",
    "    def invert_write(self, td_pairs, index):\n",
    "        \"\"\"Inverts termID-docID pairs into postings_lists and writes them to the given index\n",
    "        \n",
    "        Parameters\n",
    "        ----------\n",
    "        td_pairs: List[Tuple[Int, Int]]  (List of termID-docID pairs)\n",
    "        index: InvertedIndexWriter  (Inverted index on disk corresponding to the block)   \n",
    "        \"\"\"\n",
    "        ### Begin your code\n",
    "        td_dict = defaultdict(list)\n",
    "        for t, d in td_pairs:\n",
    "            td_dict[t].append(d)\n",
    "        for t in sorted(td_dict.keys()):\n",
    "            p_list = sorted(td_dict[t])\n",
    "            index.append(t, sorted(p_list))\n",
    "        ### End your code"
   ]
  },
  {
   "cell_type": "markdown",
   "metadata": {},
   "source": [
    "Write some tests as you did for the `InvertedIndexWriter`, to test this on a block of the `testdata` (using the `tmp` directory) and see what the inverted index contains. "
   ]
  },
  {
   "cell_type": "code",
   "execution_count": 54,
   "metadata": {},
   "outputs": [],
   "source": [
    "### Begin your code\n",
    "BSBI_instance = BSBIIndex(data_dir='testdata', output_dir = 'tmp/', index_name = 'test')\n",
    "with InvertedIndexWriter('test', directory='tmp/') as index:\n",
    "    test_pair = [[2,3], [2,5], [1,2], [1,4], [1,3], [2,4]]\n",
    "    BSBI_instance.invert_write(test_pair, index)\n",
    "    index.index_file.seek(0)\n",
    "    assert index.terms == [1,2], \"terms sequence incorrect\"\n",
    "    assert index.postings_dict == {1: (0, 3, len(UncompressedPostings.encode([2,3,4]))), \n",
    "                                   2: (len(UncompressedPostings.encode([2,3,4])), 3, \n",
    "                                       len(UncompressedPostings.encode([3,4,5])))}, \"postings_dict incorrect\"\n",
    "    assert UncompressedPostings.decode(index.index_file.read()) == [2, 3, 4, 3, 4, 5], \"postings on disk incorrect\"\n",
    "### End your code"
   ]
  },
  {
   "cell_type": "markdown",
   "metadata": {},
   "source": [
    "### Merging\n",
    "\n",
    "Now we need to merge the ten blocks into one large merged index. We open all block files simultaneously, and maintain small read buffers for the ten blocks we are reading and a write buffer for the final merged index we are writing. We can iterate through the file while reading just one postings list at a time from the disk. We subclass `InvertedIndex` into `InvertedIndexIterator` to construct this iterator. "
   ]
  },
  {
   "cell_type": "code",
   "execution_count": 55,
   "metadata": {},
   "outputs": [],
   "source": [
    "class InvertedIndexIterator(InvertedIndex):\n",
    "    \"\"\"\"\"\"\n",
    "    def __enter__(self):\n",
    "        \"\"\"Adds an initialization_hook to the __enter__ function of super class\n",
    "        \"\"\"\n",
    "        super().__enter__()\n",
    "        self._initialization_hook()\n",
    "        return self\n",
    "\n",
    "    def _initialization_hook(self):\n",
    "        \"\"\"Use this function to initialize the iterator\n",
    "        \"\"\"\n",
    "        ### Begin your code\n",
    "        self.term_position = 0\n",
    "        ### End your code\n",
    "\n",
    "    def __iter__(self): \n",
    "        return self\n",
    "    \n",
    "    def __next__(self):\n",
    "        \"\"\"Returns the next (term, postings_list) pair in the index.\n",
    "        Note: This function should only read a small amount of data from the index file. \n",
    "        In particular, you should not try to maintain the full index file in memory.\n",
    "        \"\"\"\n",
    "        ### Begin your code\n",
    "        if self.term_position < len(self.terms):\n",
    "            term = self.terms[self.term_position]\n",
    "            self.term_position += 1\n",
    "            start_index, _, length_of_byte_array = self.postings_dict[term]\n",
    "            self.index_file.seek(start_index)\n",
    "            postings = self.postings_encoding.decode(self.index_file.read(length_of_byte_array))\n",
    "            return term, postings\n",
    "        else:\n",
    "            raise StopIteration\n",
    "        ### End your code\n",
    "\n",
    "    def delete_from_disk(self):\n",
    "        \"\"\"Marks the index for deletion upon exit. Useful for temporary indices\n",
    "        \"\"\"\n",
    "        self.delete_upon_exit = True\n",
    "\n",
    "    def __exit__(self, exception_type, exception_value, traceback):\n",
    "        \"\"\"Delete the index file upon exiting the context along with the \n",
    "        functions of the super class __exit__ function\"\"\"\n",
    "        self.index_file.close()\n",
    "        if hasattr(self, 'delete_upon_exit') and self.delete_upon_exit:\n",
    "            os.remove(self.index_file_path)\n",
    "            os.remove(self.metadata_file_path)\n",
    "        else:\n",
    "            with open(self.metadata_file_path, 'wb') as f:\n",
    "                pkl.dump([self.postings_dict, self.terms], f)"
   ]
  },
  {
   "cell_type": "markdown",
   "metadata": {},
   "source": [
    "Let's test this. Write a test that constructs a small inverted index, writes them to disk (in `tmp` folder) with an `InvertedIndexWriter`, then uses an `InvertedIndexIterator` to iterate over the inverted index."
   ]
  },
  {
   "cell_type": "code",
   "execution_count": 56,
   "metadata": {},
   "outputs": [],
   "source": [
    "### Begin your code\n",
    "with InvertedIndexWriter('test', directory='tmp/') as index:\n",
    "    index.append(1, [2, 3, 4])\n",
    "    index.append(2, [3, 4, 5])\n",
    "with InvertedIndexIterator('test', directory='tmp/') as index:\n",
    "    assert next(index) == (1, [2, 3, 4])\n",
    "    assert next(index) == (2, [3, 4, 5])\n",
    "### End your code"
   ]
  },
  {
   "cell_type": "markdown",
   "metadata": {},
   "source": [
    "During merging, in each iteration, we select the lowest termID that has not been processed yet (using a priority queue or a similar data structure). All postings lists for this termID are read and merged, and the merged list is written back to disk. Each read buffer is refilled from its file when necessary. We'll use the `InvertedIndexIterator` to do the reading part and `InvertedIndexWriter` to write the merged postings list. \n",
    "\n",
    "Your task is to write the logic for merging *opened* `InvertedIndexIterator` objects and writing one postings list at a time into into a single `InvertedIndexWriter` object. \n",
    "\n",
    "Since we know that the postings are sorted, we can appropriately merge them in sorted order in linear time. In fact `heapq` ([documentation](https://docs.python.org/3.0/library/heapq.html)) is a standard python module that provides an implementation of the heap queue algorithm. In particular it contains a `heapq.merge` utility function which merges multiple sorted inputs into a single sorted output and returns an iterator over the sorted values. Not only can this be handy with merging postings lists, but also with merging the inverted indices. To get you started on using the `heapq.merge` function, we've provided a sample usage of the function. The two lists contain animals/birds sorted by their average life span. We want to merge the two lists."
   ]
  },
  {
   "cell_type": "code",
   "execution_count": 57,
   "metadata": {},
   "outputs": [
    {
     "name": "stdout",
     "output_type": "stream",
     "text": [
      "('Giraffe', 28)\n",
      "('Rhinoceros', 40)\n",
      "('Gray Birch', 50)\n",
      "('Indian Elephant', 70)\n",
      "('Black Willow', 70)\n",
      "('Golden Eagle', 80)\n",
      "('Basswood', 100)\n",
      "('Bald Cypress', 600)\n"
     ]
    }
   ],
   "source": [
    "import heapq\n",
    "animal_lifespans = [('Giraffe', 28), ('Rhinoceros', 40), ('Indian Elephant', 70), ('Golden Eagle', 80)]\n",
    "tree_lifespans = [('Gray Birch', 50), ('Black Willow', 70), ('Basswood', 100), ('Bald Cypress', 600)]\n",
    "lifespan_lists = [animal_lifespans, tree_lifespans]\n",
    "for merged_item in heapq.merge(*lifespan_lists, key=lambda x: x[1]):\n",
    "    print(merged_item)"
   ]
  },
  {
   "cell_type": "markdown",
   "metadata": {},
   "source": [
    "Notice the use of `*` to unpack `lifespan_lists` as arguments and the `lambda` function to represent the key based on which sorting is performed. \n",
    "\n",
    "We list here some references and tutorials:\n",
    "1. Unpacking lists [python documentation](https://docs.python.org/3/tutorial/controlflow.html#unpacking-argument-lists) and a [tutorial](https://www.geeksforgeeks.org/packing-and-unpacking-arguments-in-python/)\n",
    "2. Lambda expressions [python documentation](https://docs.python.org/3/tutorial/controlflow.html#lambda-expressions) and a [tutorial](https://www.afternerd.com/blog/python-lambdas/)\n",
    "\n",
    "Now complete the `merge` function below:"
   ]
  },
  {
   "cell_type": "code",
   "execution_count": 58,
   "metadata": {},
   "outputs": [],
   "source": [
    "import heapq\n",
    "class BSBIIndex(BSBIIndex):\n",
    "    def merge(self, indices, merged_index):\n",
    "        \"\"\"Merges multiple inverted indices into a single index\n",
    "        \n",
    "        Parameters\n",
    "        ----------\n",
    "        indices: List[InvertedIndexIterator]\n",
    "            A list of InvertedIndexIterator objects, each representing an iterable inverted index for a block\n",
    "        merged_index: InvertedIndexWriter\n",
    "            An instance of InvertedIndexWriter into which each merged postings list is written out one at a time\n",
    "        \"\"\"\n",
    "        ### Begin your code\n",
    "        last_term = last_posting = None\n",
    "        for curr_term, curr_postings in heapq.merge(*indices):\n",
    "            if curr_term != last_term:\n",
    "                if last_term:\n",
    "                    last_posting = list(sorted(set(last_posting)))\n",
    "                    merged_index.append(last_term, last_posting)\n",
    "                last_term = curr_term\n",
    "                last_posting = curr_postings\n",
    "            else:\n",
    "                last_posting += curr_postings\n",
    "        if last_term:\n",
    "            last_posting = list(sorted(set(last_posting)))\n",
    "            merged_index.append(last_term, last_posting)\n",
    "        ### End your code"
   ]
  },
  {
   "cell_type": "markdown",
   "metadata": {},
   "source": [
    "Make sure it works without errors on `testdata` (using `test_index_dir` as output directory)"
   ]
  },
  {
   "cell_type": "code",
   "execution_count": 59,
   "metadata": {},
   "outputs": [],
   "source": [
    "BSBI_instance = BSBIIndex(data_dir='testdata', output_dir = 'test_index_dir', )\n",
    "BSBI_instance.index()"
   ]
  },
  {
   "cell_type": "markdown",
   "metadata": {},
   "source": [
    "Now lets index the full corpus (using `index_dir` as output directory)"
   ]
  },
  {
   "cell_type": "code",
   "execution_count": 60,
   "metadata": {},
   "outputs": [],
   "source": [
    "BSBI_instance = BSBIIndex(data_dir=data_dir, output_dir = 'index_dir', )\n",
    "BSBI_instance.index()"
   ]
  },
  {
   "cell_type": "markdown",
   "metadata": {},
   "source": [
    "If you face any issues or errors with the merging part, use the following code to debug it. "
   ]
  },
  {
   "cell_type": "code",
   "execution_count": null,
   "metadata": {},
   "outputs": [],
   "source": [
    "BSBI_instance = BSBIIndex(data_dir=data_dir, output_dir = 'index_dir', )\n",
    "BSBI_instance.intermediate_indices = [f'index_{i}' for i in os.listdir(data_dir)]\n",
    "with InvertedIndexWriter(BSBI_instance.index_name, directory=BSBI_instance.output_dir, postings_encoding=BSBI_instance.postings_encoding) as merged_index:\n",
    "    with contextlib.ExitStack() as stack:\n",
    "        indices = [stack.enter_context(InvertedIndexIterator(index_id, directory=BSBI_instance.output_dir, postings_encoding=BSBI_instance.postings_encoding)) for index_id in BSBI_instance.intermediate_indices]\n",
    "        BSBI_instance.merge(indices, merged_index)"
   ]
  },
  {
   "cell_type": "markdown",
   "metadata": {},
   "source": [
    "## Boolean conjunctive retrieval\n",
    "\n",
    "Your task here is to implement a function `retrieve` to BSBIIndex, which given a query string consisting of space-delimited tokens, returns a list of documents that contain each of the tokens in the query. However, note that we do not want to be iterating through the index, nor loading the entire index to find the relevant terms. First we'll implement `InvertedIndexMapper` which subclasses `InvertedIndex` to add functionality for retrieving postings corresponding to a particular term by seeking to that location in the file."
   ]
  },
  {
   "cell_type": "code",
   "execution_count": 62,
   "metadata": {},
   "outputs": [],
   "source": [
    "class InvertedIndexMapper(InvertedIndex):\n",
    "    def __getitem__(self, key):\n",
    "        return self._get_postings_list(key)\n",
    "    \n",
    "    def _get_postings_list(self, term):\n",
    "        \"\"\"Gets a postings list (of docIds) for `term`. This function SHOULD NOT iterate through the index file, \n",
    "        but instead read only the bytes from the index file corresponding to the postings list for the requested term.\n",
    "        \"\"\"\n",
    "        ### Begin your code\n",
    "        start_index, _, length_of_byte_array = self.postings_dict[term]\n",
    "        self.index_file.seek(start_index)\n",
    "        postings = self.postings_encoding.decode(self.index_file.read(length_of_byte_array))\n",
    "        return postings\n",
    "        ### End your code"
   ]
  },
  {
   "cell_type": "markdown",
   "metadata": {},
   "source": [
    "Write a few tests to check your `_get_postings_list` implementation."
   ]
  },
  {
   "cell_type": "code",
   "execution_count": 63,
   "metadata": {},
   "outputs": [],
   "source": [
    "### Begin your code\n",
    "with InvertedIndexMapper('test', directory='tmp/') as mapper:\n",
    "    assert mapper[1] == [2,3,4]\n",
    "### End your code"
   ]
  },
  {
   "cell_type": "markdown",
   "metadata": {},
   "source": [
    "We can now obtain postings lists corresponding to the query terms, but to create a boolean query, we need to intersect them. We can use the fact that these lists are pre-sorted to intersect them efficiently. \n",
    "\n",
    "Your next task is to implement the `sorted_intersect` function that takes two sorted lists and returns a sorted intersection of the elements.  "
   ]
  },
  {
   "cell_type": "code",
   "execution_count": 64,
   "metadata": {},
   "outputs": [],
   "source": [
    "def sorted_intersect(list1, list2):\n",
    "    \"\"\"Intersects two (ascending) sorted lists and returns the sorted result\n",
    "    \n",
    "    Parameters\n",
    "    ----------\n",
    "    list1: List[Comparable]\n",
    "    list2: List[Comparable]\n",
    "    Sorted lists to be intersected\n",
    "        \n",
    "    Returns\n",
    "    -------\n",
    "    List[Comparable] Sorted intersection        \n",
    "    \"\"\"\n",
    "    ### Begin your code\n",
    "    return list(sorted(set(list1).intersection(set(list2))))\n",
    "    ### End your code"
   ]
  },
  {
   "cell_type": "markdown",
   "metadata": {},
   "source": [
    "You can also write a few test cases to check that it works properly"
   ]
  },
  {
   "cell_type": "code",
   "execution_count": 65,
   "metadata": {},
   "outputs": [
    {
     "name": "stdout",
     "output_type": "stream",
     "text": [
      "[4, 5, 6]\n"
     ]
    }
   ],
   "source": [
    "### Begin your code\n",
    "l1 = [0,1,2,3,4,5,6]\n",
    "l2 = [4,5,6]\n",
    "print(sorted_intersect(l1, l2))\n",
    "### End your code"
   ]
  },
  {
   "cell_type": "markdown",
   "metadata": {},
   "source": [
    "Here, the task is to write the `retrieve` function using `InvertedIndexMapper` and `sorted_intersect`.\n",
    "Note that `retrieve` should NOT throw errors for terms not in corpus. You can take a look at exception handling in python [here](https://docs.python.org/3/tutorial/errors.html)."
   ]
  },
  {
   "cell_type": "code",
   "execution_count": 123,
   "metadata": {},
   "outputs": [],
   "source": [
    "class BSBIIndex(BSBIIndex):\n",
    "    def retrieve(self, query):\n",
    "        \"\"\"Retrieves the documents corresponding to the conjunctive query\n",
    "        \n",
    "        Parameters\n",
    "        ----------\n",
    "        query: str  Space separated list of query tokens\n",
    "            \n",
    "        Result\n",
    "        ------\n",
    "        List[str] Sorted list of documents which contains each of the query tokens. \n",
    "        Should be empty if no documents are found. Should NOT throw errors for terms not in corpus\n",
    "        \"\"\"\n",
    "        if len(self.term_id_map) == 0 or len(self.doc_id_map) == 0:\n",
    "            self.load()\n",
    "\n",
    "        ### Begin your code\n",
    "        \"\"\"ans = None\n",
    "        with InvertedIndexMapper(self.index_name, directory=self.output_dir, postings_encoding= self.postings_encoding) as mapper:\n",
    "            for term in query.split():\n",
    "                try:\n",
    "                    termid = self.term_id_map[term]\n",
    "                    postings_list = mapper[termid]\n",
    "                    if not ans:\n",
    "                        ans = postings_list\n",
    "                    else:\n",
    "                        ans = sorted_intersect(ans, postings_list)\n",
    "                except KeyError:\n",
    "                    return []\n",
    "        ans = [self.doc_id_map[docid] for docid in ans]\n",
    "        return ans\"\"\"\n",
    "    \n",
    "        with InvertedIndexMapper(self.index_name, directory=self.output_dir, \n",
    "                                 postings_encoding=\n",
    "                                 self.postings_encoding) as mapper:\n",
    "            result = None\n",
    "            for term in query.split():\n",
    "                term_id = self.term_id_map.str_to_id.get(term)\n",
    "                if not term_id:\n",
    "                    return []\n",
    "                r = mapper[term_id]\n",
    "                if result is None:\n",
    "                    result = r\n",
    "                else:\n",
    "                    result = sorted_intersect(result, r)\n",
    "        return [self.doc_id_map[r] for r in result]\n",
    "        ### End your code"
   ]
  },
  {
   "cell_type": "markdown",
   "metadata": {},
   "source": [
    "Let us test if our index works on the real corpus with a simple query"
   ]
  },
  {
   "cell_type": "code",
   "execution_count": 124,
   "metadata": {},
   "outputs": [
    {
     "ename": "ModuleNotFoundError",
     "evalue": "No module named 'HW1'",
     "output_type": "error",
     "traceback": [
      "\u001b[1;31m---------------------------------------------------------------------------\u001b[0m",
      "\u001b[1;31mModuleNotFoundError\u001b[0m                       Traceback (most recent call last)",
      "\u001b[1;32m<ipython-input-124-6de77a28c9cc>\u001b[0m in \u001b[0;36m<module>\u001b[1;34m\u001b[0m\n\u001b[0;32m      1\u001b[0m \u001b[0mBSBI_instance\u001b[0m \u001b[1;33m=\u001b[0m \u001b[0mBSBIIndex\u001b[0m\u001b[1;33m(\u001b[0m\u001b[0mdata_dir\u001b[0m\u001b[1;33m=\u001b[0m\u001b[0mdata_dir\u001b[0m\u001b[1;33m,\u001b[0m \u001b[0moutput_dir\u001b[0m \u001b[1;33m=\u001b[0m \u001b[1;34m'index_dir'\u001b[0m\u001b[1;33m,\u001b[0m \u001b[1;33m)\u001b[0m\u001b[1;33m\u001b[0m\u001b[0m\n\u001b[1;32m----> 2\u001b[1;33m \u001b[0mBSBI_instance\u001b[0m\u001b[1;33m.\u001b[0m\u001b[0mretrieve\u001b[0m\u001b[1;33m(\u001b[0m\u001b[1;34m'career fair'\u001b[0m\u001b[1;33m)\u001b[0m\u001b[1;33m\u001b[0m\u001b[0m\n\u001b[0m",
      "\u001b[1;32m<ipython-input-123-b1d4d2c21b96>\u001b[0m in \u001b[0;36mretrieve\u001b[1;34m(self, query)\u001b[0m\n\u001b[0;32m     13\u001b[0m         \"\"\"\n\u001b[0;32m     14\u001b[0m         \u001b[1;32mif\u001b[0m \u001b[0mlen\u001b[0m\u001b[1;33m(\u001b[0m\u001b[0mself\u001b[0m\u001b[1;33m.\u001b[0m\u001b[0mterm_id_map\u001b[0m\u001b[1;33m)\u001b[0m \u001b[1;33m==\u001b[0m \u001b[1;36m0\u001b[0m \u001b[1;32mor\u001b[0m \u001b[0mlen\u001b[0m\u001b[1;33m(\u001b[0m\u001b[0mself\u001b[0m\u001b[1;33m.\u001b[0m\u001b[0mdoc_id_map\u001b[0m\u001b[1;33m)\u001b[0m \u001b[1;33m==\u001b[0m \u001b[1;36m0\u001b[0m\u001b[1;33m:\u001b[0m\u001b[1;33m\u001b[0m\u001b[0m\n\u001b[1;32m---> 15\u001b[1;33m             \u001b[0mself\u001b[0m\u001b[1;33m.\u001b[0m\u001b[0mload\u001b[0m\u001b[1;33m(\u001b[0m\u001b[1;33m)\u001b[0m\u001b[1;33m\u001b[0m\u001b[0m\n\u001b[0m\u001b[0;32m     16\u001b[0m \u001b[1;33m\u001b[0m\u001b[0m\n\u001b[0;32m     17\u001b[0m         \u001b[1;31m### Begin your code\u001b[0m\u001b[1;33m\u001b[0m\u001b[1;33m\u001b[0m\u001b[0m\n",
      "\u001b[1;32m<ipython-input-10-f216126a5848>\u001b[0m in \u001b[0;36mload\u001b[1;34m(self)\u001b[0m\n\u001b[0;32m     30\u001b[0m         \u001b[1;34m\"\"\"Loads doc_id_map and term_id_map from output directory\"\"\"\u001b[0m\u001b[1;33m\u001b[0m\u001b[0m\n\u001b[0;32m     31\u001b[0m         \u001b[1;32mwith\u001b[0m \u001b[0mopen\u001b[0m\u001b[1;33m(\u001b[0m\u001b[0mos\u001b[0m\u001b[1;33m.\u001b[0m\u001b[0mpath\u001b[0m\u001b[1;33m.\u001b[0m\u001b[0mjoin\u001b[0m\u001b[1;33m(\u001b[0m\u001b[0mself\u001b[0m\u001b[1;33m.\u001b[0m\u001b[0moutput_dir\u001b[0m\u001b[1;33m,\u001b[0m \u001b[1;34m'terms.dict'\u001b[0m\u001b[1;33m)\u001b[0m\u001b[1;33m,\u001b[0m \u001b[1;34m'rb'\u001b[0m\u001b[1;33m)\u001b[0m \u001b[1;32mas\u001b[0m \u001b[0mf\u001b[0m\u001b[1;33m:\u001b[0m\u001b[1;33m\u001b[0m\u001b[0m\n\u001b[1;32m---> 32\u001b[1;33m             \u001b[0mself\u001b[0m\u001b[1;33m.\u001b[0m\u001b[0mterm_id_map\u001b[0m \u001b[1;33m=\u001b[0m \u001b[0mpkl\u001b[0m\u001b[1;33m.\u001b[0m\u001b[0mload\u001b[0m\u001b[1;33m(\u001b[0m\u001b[0mf\u001b[0m\u001b[1;33m)\u001b[0m\u001b[1;33m\u001b[0m\u001b[0m\n\u001b[0m\u001b[0;32m     33\u001b[0m         \u001b[1;32mwith\u001b[0m \u001b[0mopen\u001b[0m\u001b[1;33m(\u001b[0m\u001b[0mos\u001b[0m\u001b[1;33m.\u001b[0m\u001b[0mpath\u001b[0m\u001b[1;33m.\u001b[0m\u001b[0mjoin\u001b[0m\u001b[1;33m(\u001b[0m\u001b[0mself\u001b[0m\u001b[1;33m.\u001b[0m\u001b[0moutput_dir\u001b[0m\u001b[1;33m,\u001b[0m \u001b[1;34m'docs.dict'\u001b[0m\u001b[1;33m)\u001b[0m\u001b[1;33m,\u001b[0m \u001b[1;34m'rb'\u001b[0m\u001b[1;33m)\u001b[0m \u001b[1;32mas\u001b[0m \u001b[0mf\u001b[0m\u001b[1;33m:\u001b[0m\u001b[1;33m\u001b[0m\u001b[0m\n\u001b[0;32m     34\u001b[0m             \u001b[0mself\u001b[0m\u001b[1;33m.\u001b[0m\u001b[0mdoc_id_map\u001b[0m \u001b[1;33m=\u001b[0m \u001b[0mpkl\u001b[0m\u001b[1;33m.\u001b[0m\u001b[0mload\u001b[0m\u001b[1;33m(\u001b[0m\u001b[0mf\u001b[0m\u001b[1;33m)\u001b[0m\u001b[1;33m\u001b[0m\u001b[0m\n",
      "\u001b[1;31mModuleNotFoundError\u001b[0m: No module named 'HW1'"
     ]
    }
   ],
   "source": [
    "BSBI_instance = BSBIIndex(data_dir=data_dir, output_dir = 'index_dir', )\n",
    "BSBI_instance.retrieve('career fair')"
   ]
  },
  {
   "cell_type": "markdown",
   "metadata": {},
   "source": [
    "We can also check if indeed one of the retrieved pages contains the query terms, by reading a file as follows:"
   ]
  },
  {
   "cell_type": "code",
   "execution_count": 70,
   "metadata": {
    "scrolled": true
   },
   "outputs": [
    {
     "name": "stdout",
     "output_type": "stream",
     "text": [
      "(function(w,d,s,l,i){w[l]=w[l]||[];w[l].push({'gtm.start':\n",
      "      new date().gettime(),event:'gtm.js'});var f=d.getelementsbytagname(s)[0],\n",
      "      j=d.createelement(s),dl=l!='datalayer'?'&l='+l:'';j.async=true;j.src=\n",
      "      'https://www.googletagmanager.com/gtm.js?id='+i+dl;f.parentnode.insertbefore(j,f);\n",
      "      })(window,document,'script','datalayer','gtm-p6f85q5'); cs|source offers in-person and virtual connections with companies   | computer science | virginia tech skip to main content skip to search virginia techÂ® universal access universal access options report a barrier accessibility portal pause all background videos underline all links apply visit give shop hokie gear apparel, clothing, gear and merchandise hokie shop university bookstore, merchandise and gifts hokie license plates part of every virginia tech plate purchase funds scholarships resources for future students current students parents and families faculty and staff alumni industry and partners computer science menu college of engineeringÂ Â / department of computer science home about giving to cs contact us press releases undergraduate programs majors and minors courses undergraduate advising force add procedures undergraduate handbook prospective students transfer students computer science ambassadors graduate programs contacts and roles degrees and certificates administrivia graduate courses cs graduate advising compact cs grad council for prospective students funding opportunities faqs past phd recipients northern virginia programs forms new student faq covid-19 faq graduate fellowships spring 22 csa graduate force add page northern virginia center people department leadership research centers and institutes blockchain blockchain challenge 2020 blockchain boot camp blockchain challenge winners 2020 blockchain boot camp 2020 agenda blocksburg summit 2019 contact us blockchain resource portal blockchain adjunct blocksburg 2021 blockchain webinar series blockchain certificate program news and events news from computer science department spotlights the network newsletter seminars and distinguished lectures prospective student information sessions commencement spring 2020 2020 virtual awards banquet recognitions virtual town hall commencement spring 2021 2021 virtual awards banquet recognitions community diversity in computer science student groups tributes to beloved academic advisor terry arthur cs|source membership events portal student success alumni engagement alumni events alumni advisory board alumni in the news alumni awards 50 years of computer science network newsletter students in distress apply visit give shop hokie gear apparel, clothing, gear and merchandise hokie shop university bookstore, merchandise and gifts hokie license plates part of every virginia tech plate purchase funds scholarships resources for future students current students parents and families faculty and staff alumni industry and partners search search submit college of engineering / department of computer science / news and events / department spotlights / cs|source offers in-person and virtual connections with companies / explore news from computer science department spotlights chapman pendery embraces questions to create community vt international collegiate programming contest team advances to national championship cs|source stakeholder spotlight: reinventing geospatial, inc. (rgi) faculty answer the covid-19 research call a convergence of computer science talent leads to development of coronavirus tracking website living his best grad life: kobla setor zilevu ut prosim is the foundation of  emma menoâ€™s passion for cybersecurity a successful mission for senior sam imamov cs|source stakeholder spotlight: peraton department of computer science hosts virtual town hall congratulations to 2020 dean's award recipients computer science welcomes eight new faculty members advisory board of national leaders will guide virginia tech innovation campus virtual showcase of creative computing studio 2020 fall meet fall 2020 hokie grad: samie amriui meet fall 2020 hokie grad: allison desantis stephen edwards recognized for outstanding contribution to computer science education cs|source stakeholder spotlight: caci student creativity shines in computing studio virtual showcase works of wonder student virtual showcase grady booch meets with software engineering capstone students cs|source stakeholder spotlight: mitre hoda eldardiry receives early career science award from purdue university kirk cameron named 2021 ieee computer society fellow jared cooper has a knack for making lasting impressions mostafa mohammed says the joy he receives from teaching is beyond any description chapman pendery named outstanding senior in computer science 2021 virtual awards banquet recognitions tanvi haldankar's receives undergraduate research excellence awards bethlehem teshome shines as an undergraduate teaching assistant sai gurrapu's curiosity continues to fuel his entrepreneurial drive daphne yao recognized for pioneering contributions to the cybersecurity industry alumna jamika burge receives richard a. tapia award roxanne paul honored with virginia louise \"jenny\" frank award for outstanding contributions a summer internship to remember department welcomes 11 new faculty members for academic year student apps that make the grade cs|source stakeholder spotlight: costar group cs|source offers in-person and virtual connections with companies the network newsletter seminars and distinguished lectures prospective student information sessions commencement spring 2020 2020 virtual awards banquet recognitions virtual town hall commencement spring 2021 2021 virtual awards banquet recognitions cs|source offers in-person and virtual connections with companies august 9, 2021 theÂ department of computer scienceÂ atÂ virginia tech, through its tech-talent community, cs|source , provides a pathway for department-industry partnerships, including its career fairs held during the fall and spring semesters. the department benefits through investments of funding toward student scholarships, groups, and activities; development of students leading to internships and careers; and research opportunities to address and advance technological solutions. this year, 48 students received scholarships through the cs|source totaling $100k, all made possible through this partnership. a total of 42 companies are participating in the cs|source fall career fair, with 12 companies in person and 27 virtual, which kicked off its activities this week with a virtual career fair prep networking event on september 8. the in-person and virtual career fair will be held on september 13. the cs|source also welcomes five new companies this year, including cgi, drt strategies, kentik, mosaic learning, inc., and west creek financial. tags blacksburg main campus 1160 torgersen hall 620 drillfield drive blacksburg, va 24061 united states (540) 231-6931 blacksburg corporate research center 2202 kraft drive blacksburg, va 24060 united states (540) 231-9195 national capital region 7054 haycock road falls church, va 22043 united states (703) 538-8370 csundergrad@cs.vt.edu (undergraduate program) gradinfo@cs.vt.edu (graduate program) webmaster@cs.vt.edu (webmaster) cs intranet $(\"a\").each(function() {\n",
      "\n",
      "    $(this).attr(\"href\", $(this).attr(\"href\").replace(\"website.cs.vt.edu\", \"cs.vt.edu\")); }); var _gaq = _gaq || [];\n",
      "  _gaq.push(['_setaccount', 'ua-47559051-3']);\n",
      "  _gaq.push(['_trackpageview']);\n",
      "  (function() {\n",
      "    var ga = document.createelement('script'); ga.type = 'text/javascript'; ga.async = true;\n",
      "    ga.src = ('https:' == document.location.protocol ? 'https://ssl' : 'http://www') + '.google-analytics.com/ga.js';\n",
      "    var s = document.getelementsbytagname('script')[0]; s.parentnode.insertbefore(ga, s);\n",
      "  })(); get directions see all locations contact virginia tech university status principles of community privacy statement acceptable use we remember university libraries accessibility consumer information stop abuse policies equal opportunity wvtf university bookstore jobs at virginia tech strategic plan Â©Â 2021 virginia polytechnic institute and state university. all rights reserved.\n"
     ]
    }
   ],
   "source": [
    "with open(\"hw1dataraw/3/fall-career-fair.html\", 'r') as f:\n",
    "    print(f.read())"
   ]
  },
  {
   "cell_type": "markdown",
   "metadata": {},
   "source": [
    "# Building a compressed index"
   ]
  },
  {
   "cell_type": "markdown",
   "metadata": {},
   "source": [
    "In this section, we will build a compressed index using gap encoding with variable byte encoding for each gap.\n",
    "\n",
    "First, let's take a look at some useful python math operations: "
   ]
  },
  {
   "cell_type": "code",
   "execution_count": 71,
   "metadata": {},
   "outputs": [
    {
     "name": "stdout",
     "output_type": "stream",
     "text": [
      "10 % 2 =  0\n",
      "10 % 3 =  1\n",
      "10 / 3 =  3.3333333333333335\n",
      "10 // 3 =  3\n"
     ]
    }
   ],
   "source": [
    "# Remainder (modulo) operator %\n",
    "print(\"10 % 2 = \", 10 % 2)\n",
    "print(\"10 % 3 = \", 10 % 3)\n",
    "\n",
    "# Integer division in Python 3 is done by using two slash signs\n",
    "print(\"10 / 3 = \", 10 / 3)\n",
    "print(\"10 // 3 = \", 10 // 3)"
   ]
  },
  {
   "cell_type": "markdown",
   "metadata": {},
   "source": [
    "Your taks is to fill in the following `CompressedPostings` class which we'll use as a drop-in replacement for `UncompressedPostings`. To understand in detail gap encoding (with variable byte encoding for each gap), we suggest that you revisit the corresponding lecture video and [Chapter 5](https://nlp.stanford.edu/IR-book/pdf/05comp.pdf) of the textbook. "
   ]
  },
  {
   "cell_type": "code",
   "execution_count": 75,
   "metadata": {},
   "outputs": [
    {
     "data": {
      "text/plain": [
       "6"
      ]
     },
     "execution_count": 75,
     "metadata": {},
     "output_type": "execute_result"
    }
   ],
   "source": [
    "824//128"
   ]
  },
  {
   "cell_type": "code",
   "execution_count": 79,
   "metadata": {},
   "outputs": [],
   "source": [
    "class CompressedPostings:\n",
    "    #If you need any extra helper methods you can add them here \n",
    "    ### Begin your code\n",
    "    @staticmethod\n",
    "    def VBEncodeNumber(number):\n",
    "        byte = []\n",
    "        while True:\n",
    "            byte.append(number % 128)\n",
    "            if number < 128:\n",
    "                break\n",
    "            number //= 128\n",
    "        byte[0] += 128\n",
    "        return byte[::-1]\n",
    "\n",
    "    @staticmethod\n",
    "    def VBEncode(postings_list):\n",
    "        bytestream = []\n",
    "        for n in postings_list:\n",
    "            bytestream.extend(CompressedPostings.VBEncodeNumber(n))\n",
    "        return bytestream\n",
    "\n",
    "    @staticmethod\n",
    "    def VBDecode(bytestream):\n",
    "        postings_list = []\n",
    "        n = 0\n",
    "        for b in bytestream:\n",
    "            if b < 128:\n",
    "                n = 128*n + b\n",
    "            else:\n",
    "                n = 128*n + b - 128\n",
    "                postings_list.append(n)\n",
    "                n = 0\n",
    "        return postings_list\n",
    "    ### End your code\n",
    "    \n",
    "    @staticmethod\n",
    "    def encode(postings_list):\n",
    "        \"\"\"Encodes `postings_list` using gap encoding with variable byte \n",
    "        encoding for each gap\n",
    "        \n",
    "        Parameters\n",
    "        ----------\n",
    "        postings_list: List[int]\n",
    "            The postings list to be encoded\n",
    "        \n",
    "        Returns\n",
    "        -------\n",
    "        bytes: \n",
    "            Bytes reprsentation of the compressed postings list \n",
    "            (as produced by `array.tobytes` function)\n",
    "        \"\"\"\n",
    "        ### Begin your code\n",
    "        p = postings_list.copy()\n",
    "        for i in range(1, len(p))[::-1]:\n",
    "            p[i] -= p[i-1]\n",
    "        vb = CompressedPostings.VBEncode(p)\n",
    "        return array.array('B', vb).tobytes()\n",
    "        ### End your code\n",
    "\n",
    "        \n",
    "    @staticmethod\n",
    "    def decode(encoded_postings_list):\n",
    "        \"\"\"Decodes a byte representation of compressed postings list\n",
    "        \n",
    "        Parameters\n",
    "        ----------\n",
    "        encoded_postings_list: bytes\n",
    "            Bytes representation as produced by `CompressedPostings.encode` \n",
    "            \n",
    "        Returns\n",
    "        -------\n",
    "        List[int]\n",
    "            Decoded postings list (each posting is a docIds)\n",
    "        \"\"\"\n",
    "        ### Begin your code\n",
    "        vb = array.array('B')\n",
    "        vb.frombytes(encoded_postings_list)\n",
    "        postings_list = CompressedPostings.VBDecode(vb.tolist())\n",
    "        for i in range(1, len(postings_list)):\n",
    "            postings_list[i] += postings_list[i-1]\n",
    "        return postings_list"
   ]
  },
  {
   "cell_type": "markdown",
   "metadata": {},
   "source": [
    "You can write test cases for any helper methods implemented"
   ]
  },
  {
   "cell_type": "code",
   "execution_count": 90,
   "metadata": {},
   "outputs": [],
   "source": [
    "### Begin your code\n",
    "assert CompressedPostings.VBEncodeNumber(786) == [6, 146]\n",
    "assert CompressedPostings.VBEncode([36]) == [164]\n",
    "assert CompressedPostings.VBDecode([164]) == [36]\n",
    "### End your code"
   ]
  },
  {
   "cell_type": "markdown",
   "metadata": {},
   "source": [
    "We have provided a helper function for testing whether an encoded postings list is decoded correctly."
   ]
  },
  {
   "cell_type": "code",
   "execution_count": 91,
   "metadata": {},
   "outputs": [],
   "source": [
    "def test_encode_decode(l):\n",
    "    e = CompressedPostings.encode(l)\n",
    "    d = CompressedPostings.decode(e)\n",
    "    assert d == l\n",
    "    print(l, e)"
   ]
  },
  {
   "cell_type": "markdown",
   "metadata": {},
   "source": [
    "Write a few test cases to make sure the postings list compression and decompression is being done correctly."
   ]
  },
  {
   "cell_type": "code",
   "execution_count": 94,
   "metadata": {},
   "outputs": [
    {
     "name": "stdout",
     "output_type": "stream",
     "text": [
      "[800, 900, 10000] b'\\x06\\xa0\\xe4G\\x8c'\n"
     ]
    }
   ],
   "source": [
    "### Begin your code\n",
    "test_encode_decode([800, 900, 10000])\n",
    "### End your code"
   ]
  },
  {
   "cell_type": "markdown",
   "metadata": {},
   "source": [
    "Now let's create a new folder to store the compressed index"
   ]
  },
  {
   "cell_type": "code",
   "execution_count": 95,
   "metadata": {},
   "outputs": [],
   "source": [
    "try: \n",
    "    os.mkdir('index_dir_compressed')\n",
    "except FileExistsError:\n",
    "    pass"
   ]
  },
  {
   "cell_type": "code",
   "execution_count": 96,
   "metadata": {},
   "outputs": [],
   "source": [
    "BSBI_instance_compressed = BSBIIndex(data_dir=data_dir, output_dir='index_dir_compressed', postings_encoding=CompressedPostings)\n",
    "BSBI_instance_compressed.index()"
   ]
  },
  {
   "cell_type": "code",
   "execution_count": 97,
   "metadata": {},
   "outputs": [
    {
     "data": {
      "text/plain": [
       "['celebration',\n",
       " 'department-college-and-campus-events',\n",
       " 'dskatz',\n",
       " 'featured-lectures',\n",
       " 'nskim',\n",
       " 'rutameht',\n",
       " 'values',\n",
       " 'accessibility.html',\n",
       " 'honor-code',\n",
       " 'index.html',\n",
       " 'jugal',\n",
       " 'theory-and-algorithms',\n",
       " 'cs-source-events.html',\n",
       " 'fall-career-fair.html',\n",
       " 'featured-spotlight.html',\n",
       " 'property-management.html',\n",
       " 'site-map.html',\n",
       " 'graduate.html',\n",
       " 'construction-engineering-and-management.html']"
      ]
     },
     "execution_count": 97,
     "metadata": {},
     "output_type": "execute_result"
    }
   ],
   "source": [
    "BSBI_instance_compressed.retrieve('career fair')"
   ]
  },
  {
   "cell_type": "markdown",
   "metadata": {},
   "source": [
    "And we are done with our search engine implementation!"
   ]
  },
  {
   "cell_type": "markdown",
   "metadata": {},
   "source": [
    "\n",
    "## Running time analysis (Optional, NOT graded)\n",
    "\n",
    "In this section you can write queries to evaluate the running time characteristics of `retrieve` and use it to for in-practice understanding of the key optimizations decisions when designing a retrieval algorithm. Note that, due to the very small data collection size, timings may not be perfect (and sometimes results may vary). However, you should still be able to see some timing differences often. Also, note that the following code cells assume there exists an indexed BSBIIndex object.\n",
    "\n",
    "Python offers a convenient timing module `%timeit` ([documentation](https://docs.python.org/3/library/timeit.html))."
   ]
  },
  {
   "cell_type": "code",
   "execution_count": 98,
   "metadata": {},
   "outputs": [
    {
     "name": "stdout",
     "output_type": "stream",
     "text": [
      "50.7 ms ± 6.46 ms per loop (mean ± std. dev. of 7 runs, 10 loops each)\n"
     ]
    }
   ],
   "source": [
    "%timeit BSBI_instance.retrieve('virginia tech')"
   ]
  },
  {
   "cell_type": "markdown",
   "metadata": {},
   "source": [
    "Can you **replace or add** a term in the query so that it runs slower? Time your query to see if indeed is slower."
   ]
  },
  {
   "cell_type": "code",
   "execution_count": 105,
   "metadata": {},
   "outputs": [
    {
     "name": "stdout",
     "output_type": "stream",
     "text": [
      "53.4 ms ± 4.99 ms per loop (mean ± std. dev. of 7 runs, 10 loops each)\n",
      "61.7 ms ± 17.3 ms per loop (mean ± std. dev. of 7 runs, 10 loops each)\n"
     ]
    }
   ],
   "source": [
    "%timeit BSBI_instance.retrieve('virginia tech')\n",
    "### Begin your code\n",
    "%timeit BSBI_instance.retrieve('the')\n",
    "### End your code"
   ]
  },
  {
   "cell_type": "markdown",
   "metadata": {},
   "source": [
    "**Why did the retrieve function get slower?**\n",
    "> *Since we are not removing stopwords (words that appear in high frequency but do not necessarily contribute much for retrieval) the merge operation takes a lot of time to create an index for them since their frequency is higher. Hence it takes more time for those terms.*"
   ]
  },
  {
   "cell_type": "markdown",
   "metadata": {},
   "source": [
    "Construct a new query by adding a term to the previous query that makes it go faster."
   ]
  },
  {
   "cell_type": "code",
   "execution_count": null,
   "metadata": {},
   "outputs": [],
   "source": [
    "### Begin your code \n",
    "\n",
    "### End your code"
   ]
  },
  {
   "cell_type": "markdown",
   "metadata": {},
   "source": [
    "**Where does the increase in speed come from?** \n",
    "\n",
    "> *Type your answer here*"
   ]
  },
  {
   "cell_type": "markdown",
   "metadata": {},
   "source": [
    "## Index size\n",
    "\n",
    "In this section we will look at the size of index on disk.\n",
    "\n",
    "### Uncompressed index"
   ]
  },
  {
   "cell_type": "markdown",
   "metadata": {},
   "source": [
    "Let us look at the size of the merged index (`.index`) file "
   ]
  },
  {
   "cell_type": "code",
   "execution_count": 101,
   "metadata": {},
   "outputs": [
    {
     "name": "stdout",
     "output_type": "stream",
     "text": [
      "Size of index 1648172 bytes\n"
     ]
    }
   ],
   "source": [
    "print(\"Size of index\", os.path.getsize(\"index_dir/BSBI.index\"), 'bytes')"
   ]
  },
  {
   "cell_type": "markdown",
   "metadata": {},
   "source": [
    "The code above queries the file system to compute the size of the index. \n",
    "\n",
    "Show that you can compute the same answer by looking at the `postings_dict` object directly. Your code should compute the size of the index file (in bytes) using the postings dict. You should use the word size (in bytes) and size information stored in the `postings_dict`. The resulting number should match the byte number above."
   ]
  },
  {
   "cell_type": "code",
   "execution_count": 103,
   "metadata": {},
   "outputs": [
    {
     "name": "stdout",
     "output_type": "stream",
     "text": [
      "1648172\n"
     ]
    }
   ],
   "source": [
    "with open('index_dir/BSBI.dict', 'rb') as f:\n",
    "    postings_dict, terms = pkl.load(f)\n",
    "    ### Begin your code\n",
    "    res = 0\n",
    "    for v in postings_dict.values():\n",
    "        res += v[-1]\n",
    "    print(res)\n",
    "    ### End your code"
   ]
  },
  {
   "cell_type": "markdown",
   "metadata": {},
   "source": [
    "**Q1: Describe how you have computed the expected size based on the information stored in the postings dictionary.**\n",
    "\n",
    "> *Since we save the metadata of the index in the postings_dictionary where we store a tuple of (start_index, number_of_postings, length_in_byte_array(using Compressed / Uncompressed Encodings)) we can straightaway add up all the lenghts of byte arrays to get the actual length of the index file.*"
   ]
  },
  {
   "cell_type": "markdown",
   "metadata": {},
   "source": [
    "### Compressed Index"
   ]
  },
  {
   "cell_type": "markdown",
   "metadata": {},
   "source": [
    "Let us look at the size of the compressed index (`.index`) file "
   ]
  },
  {
   "cell_type": "code",
   "execution_count": 104,
   "metadata": {},
   "outputs": [
    {
     "name": "stdout",
     "output_type": "stream",
     "text": [
      "Size of compressed index 450840 bytes\n"
     ]
    }
   ],
   "source": [
    "print(\"Size of compressed index\", os.path.getsize(\"index_dir_compressed/BSBI.index\"), 'bytes')"
   ]
  },
  {
   "cell_type": "markdown",
   "metadata": {},
   "source": [
    "**Q2: How would the size of the compressed index change if variable byte encoding was used on the docIDs instead of the gaps?**\n",
    "\n",
    "> *If Variable Byte Encoding was used only on docIDs instead of gaps the size of the index will be larger. *"
   ]
  },
  {
   "cell_type": "markdown",
   "metadata": {},
   "source": [
    "## Improving performance\n",
    "\n",
    "Let's take a deeper look into improving performance. Think about your answers to the following questions. Note that some questions are subjective and may have multiple correct answers. "
   ]
  },
  {
   "cell_type": "markdown",
   "metadata": {},
   "source": [
    "**In this HW you useD each sub-directory as a block and build an index for one block at a time. Can you discuss the trade-off of different sizes of blocks? Is there a better way to work with limited memory when we want to minimize indexing time?**\n",
    "\n",
    "> The block size to index is restricted by the memory capacity of the machine. If we use larger blocks then obiously the documents will be processed much faster and since we reduce the final merge operations. With a limited memory the best way to ensure minimizing index time is using blocks of size which fit and use up all the available memory efficiently."
   ]
  },
  {
   "cell_type": "markdown",
   "metadata": {},
   "source": [
    "**Q3: Is there a part of your indexing program that limits its scalability to larger datasets?**\n",
    "\n",
    "> The term dictionary will always be in memory; as a result the system become handicapped for larger datasets if it is constrained by memory issues. "
   ]
  },
  {
   "cell_type": "markdown",
   "metadata": {},
   "source": [
    "**Q4: Describe other parts of the indexing process that you could optimize for indexing scalability and faster retrieval time.**\n",
    "\n",
    "> We can preprocess data in such a way that more frequently appearing terms (stopwords) are preprocessed in such a way as they are assigned lesser priority since they can increase the time required for the merge operation while indexing. Hence data normalization can be a way in which this system can be optimized"
   ]
  },
  {
   "cell_type": "code",
   "execution_count": null,
   "metadata": {},
   "outputs": [],
   "source": []
  },
  {
   "cell_type": "code",
   "execution_count": 118,
   "metadata": {},
   "outputs": [
    {
     "name": "stdout",
     "output_type": "stream",
     "text": [
      "Testing BSBIIndex.\n",
      "Building BSBIIndex ...\n",
      "Done. Begin test cases ...\n",
      "{'rankings.html', 'research.html', 'accessibility.html', 'academics.html', 'contact.html'}\n",
      "Results match for query: virginia tech class\n",
      "set()\n",
      "Results match for query: many students\n",
      "{'environmental-horticulture.html'}\n",
      "Results match for query: the the\n",
      "set()\n",
      "Results match for query: illinois computer science\n",
      "set()\n",
      "Results match for query: admission vt\n",
      "set()\n",
      "Results match for query: virginia tech phd cs\n",
      "set()\n",
      "Results match for query: the department of computer science\n",
      "set()\n",
      "Results match for query: admission vt college\n",
      "BSBIIndex test done.\n",
      "Testing Compressed BSBIIndex.\n",
      "Building BSBIIndex compressed...\n",
      "Done. Begin test cases ...\n",
      "{'vt-icorps.html', 'international-studies.html', 'current-students.html', 'Prospective.html', 'xj-meng.html', 'advertising.html', 'Undergradhandbook.html', 'job-opportunities.html', 'launch-of-new-hokie-owned-business-directory.html', 'Computer-Science-Press-Releases.html', 'accessibility.html', 'political-science.html', 'parents-and-families.html', 'inclusion-diversity.html', 'rankings.html', 'facts-about-virginia-tech.html', 'ForceAdd.html', 'research.html', 'management.html', 'corps-cadets.html', 'traditions.html', 'NewStudentFAQ.html', 'summer-winter-programs.html', 'environmental-conservation-and-society.html', 'human-development.html', 'undergraduate.html', 'academics.html', 'music.html', 'alumni.html', 'sociology.html', 'mentoring.html', 'criminology.html', 'phd-recipients.html', 'contact.html', 'contacts.html', 'big-ideas.html'}\n",
      "Results match for query: virginia tech class\n",
      "{'graduate-fellowships-awards', 'loars-passion-for-expanding-possibilities-in-computing-leads-to-support-of-ican', 'media-coverage', 'hokie-stone.html', 'inclusion-diversity.html', 'open-house.html', 'systems-and-networking', 'theory-and-algorithms', 'NewStudentFAQ.html', 'status.html', 'admissions.html', 'mining-and-mineral-engineering.html', 'german.html', '5-year-bs-ms-program', 'arts.html', 'give-now', 'calendars.html', 'k-12-resources', 'undergraduate.html', 'graduate.html', 'department-college-and-campus-events', 'COVID19.html', 'calendars_process.html', 'ican', 'gerard-salton-award-provides-opportunity-for-zhai-to-reflect-before-looking-forward-again', 'site-map.html', 'vt-icorps.html', 'celebration', 'french.html', 'dairy-science.html', 'english.html', 'poc-grant-program.html', 'national-international-awards', 'BSMS.html', 'frequently-asked-questions.html', 'Forms.html', 'inclusive-vt-rdr.html', 'chinese-studies.html', 'geography.html', 'humanities-for-public-service.html', 'jianpeng', 'black-college-institute.html', 'ican-faqs', 'italian.html', 'nanomedicine.html', 'discover-blacksburg.html', 'electrical-engineering.html', 'creative-technologies.html', 'geographic-information-systems.html', 'professional-master-computer-science-mcs-program', 'calendar.html', 'pre-health-professions.html', 'classical-studies.html', 'mathematics.html', 'Giving.html', 'CS1044.html', 'chairs-and-professorships', 'wendycho', 'CI-Fellowships-2021-support-postdoc-research', 'landmarks.html', 'honors', 'transfer.html', 'venture_opportunities.html', 'civil-engineering.html', 'mentoring.html', 'abdelzaher-leading-DARPA-effort-understand-how-people-respond-influence-messaging', 'Administrivia.html', 'criminology.html', 'honors.html', 'first-generation-students.html', 'dchen', 'tribal-initatives.html', 'cognitive-and-behavioral-neuroscience.html', 'japanese-studies.html', 'faculty-positions', 'Undergradhandbook.html', 'housing copy.html', 'Computer-Science-Press-Releases.html', 'consumer-studies.html', 'bigdog', 'cs-undergraduate-degree-options-faq', 'campus-highlights.html', 'biological-sciences.html', 'facts.html', 'computer-science-music', 'veterans.html', 'computer-science-visionary-scholarship-donors', 'CS1054.html', 'k-12-outreach', 'choose-illinois-computer-science', 'online-master-computer-science', 'athletics.html', 'cost-and-aid.html', 'landscape-architecture.html', 'Undergraduate.html', 'academics.html', 'first-generation-college-institute.html', 'physics.html', 'pre-veterinary-medicine.html', 'honor-code', 'financial-aid', 'Prospective.html', 'ProspectiveStudents.html', 'university-studies-undecided.html', 'art-history.html', 'tbretl', 'final-exam-thesis-defense', 'vt-i-corps-program.html', 'visit.html', 'locations.html', 'public-health.html', 'research.html', 'hengji', 'experimental-neuroscience.html', 'foundation-relations.html', 'values', 'new-grant-helps-illinois-cs-develop-programs-to-support-undergraduate-women-in-cs', 'virtual-vt-visit.html', 'staff.html', 'online-mcs-faqs', 'Assistantships.html', 'geosciences.html', 'mechanical-engineering.html', 'pre-medicine.html', 'dei-series.html', 'indy', 'dskatz', 'policies-and-procedures', 'pre-law.html', 'data-and-information-systems', 'history-timeline', 'w-hwu', 'finaid-cares-act-disclosure.html', 'digital-marketing-strategy.html', 'mgolpar', 'qualifying-exam', 'overview-cs-student-life', 'accounting-and-information-systems.html'}\n",
      "Results match for query: many students\n",
      "{'international-agriculture-and-life-sciences.html', 'environmental-economics-management-and-policy.html', 'classical-languages.html', 'delgosha', 'almacam.html', 'j-liu1', 'inclusion-diversity.html', 'CS2104.html', 'study-abroad.html', 'computer-science-advertising', 'CS3744.html', 'american-indian-studies.html', 'ms-bioinformatics-program', 'future-students.html', 'staff-positions', 'NewStudentFAQ.html', 'status.html', 'admissions.html', 'construction-engineering-and-management.html', 'CS4124.html', 'soc1024', 'department-faculty', 'computer-science-geography', 'rcunnin2', 'global-business-practices-to-improve-the-human-condition.html', 'juliahmr', 'public-relations.html', 'emergency.html', 'k-12-resources', 'course-hero-acquires-iconic-study-guides-cliffsnotes', 'housing.html', 'resources.html', 'conferences-workshops', 'CS1014.html', 'food-science-and-technology.html', 'childhood-pre-education.html', 'jingrui', 'COVID19.html', 'nskim', 'business.html', 'gerard-salton-award-provides-opportunity-for-zhai-to-reflect-before-looking-forward-again', 'about-us.html', 'campus-life.html', 'site-map.html', 'CS4944.html', 'tours.html', 'tmc', 'meseguer', 'celebration', 'environmental-economics.html', 'french.html', 'CS4824.html', 'communications-engagement-team', 'mitras', 'national-international-awards', 'team.html', 'BSMS.html', 'mathematics-education.html', 'nanoscience.html', 'jianh', 'wtkramer', 'real-estate.html', 'elementary-education-pk-6.html', 'CS4264.html', 'agricultural-sciences.html', 'ican-faqs', 'interior-design.html', 'biodiversity-conservation.html', 'italian.html', 'guidelines-forming-phd-committee', 'sadve', 'biomedical-engineering.html', 'industrial-and-systems-engineering.html', 'biochemistry.html', 'ecological-cities.html', 'chemistry.html', 'instructional-development-team', 'license-launch.html', 'ContactsRoles.html', 'daily-campus-visit.html', 'robert-gourdie.html', 'interdisciplinary-engineering-and-science.html', 'Giving.html', 'wendycho', 'online-redir.html', 'data-structures-proficiency-exam', 'civil-engineering.html', 'wgropp', 'computer-science-linguistics', 'CS1604.html', 'quantum.html', 'agribusiness.html', 'campus-master-computer-science', 'housing copy.html', 'cs-undergraduate-degree-options-faq', 'jhasegaw', 'campus-highlights.html', 'CS4204.html', 'karthe', 'MSThesis.html', 'computer-science-music', 'veterans.html', 'asian-area-studies.html', 'CS1054.html', 'environmental-conservation-and-society.html', 'saurabhg', 'environmental-resources-management.html', 'online-master-computer-science', 'contact', 'Undergraduate.html', 'ms-program', 'bpbailey', 'pre-veterinary-medicine.html', 'cs-source.html', 'daf', 'phd-program-study-process', 'CS3754.html', 'lukeo', 'mattox', 'cskickstart', 'Prospective.html', 'rkiyer', 'ProspectiveStudents.html', 'microbiology.html', 'facebooks-northwest-lead-envisions-big-future-in-virtual-reality', 'finance.html', 'visit.html', 'political-science.html', 'minhdo', 'latin.html', 'ygertner', 'jugal', 'license.html', 'fish-conservation.html', 'biological-systems-engineering.html', 'hengji', 'transfer-students', 'faculty-inventors.html', 'statistics', 'dmnicol', 'staff.html', 'online-mcs-faqs', 'international-business.html', 'glherman', 'lumetta', 'hanj', 'prospective.html', 'indy', 'kcchang', 'CS4570.html', 'equine-science.html', 'innovation.html', 'w-hwu', 'reyhaneh', 'undergraduate-advising', 'career-professional-development.html', 'overview-cs-student-life', 'CS1944.html', 'vtip.html', 'loars-passion-for-expanding-possibilities-in-computing-leads-to-support-of-ican', 'cgunter', 'community-economic-development.html', 'launch.html', 'dakshita', 'colleenl', 'FAQs.html', 'development-and-international-trade.html', 'media-coverage', 'hokie-stone.html', 'interactive-computing', 'rankings.html', '5-year-bs-mcs-program', 'beyond-boundaries.html', 'CS3714.html', 'emer-kuck', '5-year-bs-ms-program', 'computational-and-systems-neuroscience.html', 'calendars.html', 'philosophy-politics-and-economics.html', 'horticulture.html', 'consumer-info.html', 'judaic-studies.html', 'computers-and-education', 'computer-science-economics', 'calendars_process.html', 'jdiesner', 'profiles.html', 'ican', 'phd-ms-thesis-format-review-guidelines', 'ways-give', 'animal-and-poultry-sciences.html', 'ai4all', 'postdoctoral', 'english-language-sciences.html', 'university-leadership.html', 'business-information-technology.html', 'data-and-decisions.html', 'fashion-merchandising-and-design.html', 'english.html', 'philosophy.html', 'CS4624.html', 'kkarahal', 'human-computer-interaction.html', 'official-forms', 'parents-and-families.html', 'psychology.html', 'smart-and-sustainable-cities.html', 'CS3414.html', 'ludaesch', 'humanities-for-public-service.html', 'harandi', 'indexs.html', 'environmental-policy-and-planning.html', 'mcs-campus', 'undergraduate-advising-office', 'electrical-engineering.html', 'cyber-security.html', 'acceptable-use.html', 'CS3824.html', 'space.html', 'CS4284.html', 'this-ai-startup-aims-to-be-a-one-stop-writing-platform', 'calendar.html', 'professional-master-computer-science-mcs-program', 'angrave', 'pre-health-professions.html', 'lbo', 'friedman', 'department-news', 'idoia', 'padua', 'ranjitha', 'engagement-outreach.html', 'chairs-and-professorships', 'landmarks.html', 'international-public-policy.html', 'honors', 'venture_opportunities.html', 'computer-science-animal-sciences', 'language-sciences.html', 'strategic-plan.html', 'accreditation', 'sariel', 'honors.html', 'first-generation-students.html', 'agha', 'current-students.html', 'kirlik', 'vadve', 'launch-of-new-hokie-owned-business-directory.html', 'integrative-health-and-wellness.html', 'corporate_venture_arms.html', 'accessibility.html', 'immigration.html', 'programming-languages-formal-methods-and-software-engineering', 'CS4784.html', 'gdallen', 'silva-leads-team-studying-interconnections-between-online-learning-equity-access', 'pre-education.html', 'aerospace-engineering.html', 'ForceAdd.html', 'biological-sciences.html', 'business-office', 'mdbailey', 'eshwar', 'rhc', 'CS3724.html', 'graduate-advising-contacts', 'quadcam.html', 'CS3984.html', 'featured-spotlight.html', 'news.html', 'disabilities-studies.html', 'application-checklist', 'athletics.html', 'actuarial-science.html', 'office-department-head', 'cost-and-aid.html', 'human-nutrition-foods-and-exercise.html', 'application-fee-waivers', 'davis68', 'first-generation-college-institute.html', 'CS4114.html', 'physics.html', 'health-wellness.html', 'Funding.html', 'space-event-registration.html', 'cs-source-membership.html', 'postdocs', 'liberal-arts-and-human-sciences-undecided.html', 'CS4104.html', 'covid-19-projects', 'CS3634.html', 'cs-source-events.html', 'blue-planet.html', 'university-illinois-awards', 'art-history.html', 'cs-x-degree-requirements', 'klara', 'university-studies-undecided.html', 'kale', 'aluminate.html', 'national-security-and-foreign-affairs.html', 'industrynetworks.html', 'forestry.html', 'history.html', 'facts-about-virginia-tech.html', 'global-engagement.html', 'CS2114.html', 'girju', 'adjunct-faculty', 'research.html', 'rankings_ug.html', 'computer-science-astronomy', 'CS4704.html', 'radhikam', 'girishc', 'charithm', 'jch', 'sanmi', 'wildlife-conservation.html', 'water-resources-policy-and-management.html', 'architecture.html', 'community-systems-and-engagement.html', 'caesar', 'pre-law.html', 'history-timeline', 'donor-profiles', 'mgolpar', 'arabic.html', 'mickunas', 'qualifying-exam', 'cs-student-opportunity-series-cs-sos', 'CS2506.html', 'cinema.html', 'board.html', 'accounting-and-information-systems.html', 'index.html', 'principles-of-community.html', 'online-learning.html', 'kingli', 'shj', 'CS3704.html', 'staff-awards', 'open-house.html', 'online-master-computer-science-data-science', 'management.html', 'environmental-science.html', 'systems-and-networking', 'theory-and-algorithms', 'human-development.html', 'computer-engineering.html', 'computer-science-chemistry', 'theatre-arts.html', 'graduate.html', 'c-gear', 'contact-us', 'CS4304.html', 'ocean-engineering.html', 'multimedia-journalism.html', 'Degrees.html', 'humanities-science-and-environment.html', 'bs-mathematics-computer-science', 'sp22grforceadd.html', 'english-language-arts-education.html', 'sociology.html', 'CS4214.html', 'clubs-organizations-involvement.html', 'applachian-culture-and-environment.html', 'graphic-design.html', 'depts-colleges.html', 'vt-icorps.html', 'adaptive-brain-and-behavior.html', 'dairy-science.html', 'international-trade-and-development.html', 'featured-lectures', 'agribusiness-management-and-entrepreneurship.html', 'history-and-social-sciences-education.html', 'Forms.html', 'inclusive-vt-rdr.html', 'business-undecided.html', 'chinese-studies.html', 'bs-statistics-computer-science', 'agricultural-technology.html', 'mnowak1', 'geography.html', 'jianpeng', 'hospitality-and-tourism-management.html', 'apply.html', 'nanomedicine.html', 'governance', 'discover-blacksburg.html', 'dhoiem', 'graduate-school.html', 'geographic-information-systems.html', 'classical-studies.html', 'employment.html', 'nanjiang', 'mathematics.html', 'french-for-business-advanced.html', 'hclane', 'CS1044.html', 'student-resources', 'industry-and-partners.html', 'corporate-chapters.html', 'landscape-horticulture-and-design.html', 'CS3604.html', 'graduating-phd-students', 'mentoring.html', 'european-and-transatlantic-studies.html', 'abdelzaher-leading-DARPA-effort-understand-how-people-respond-influence-messaging', 'dchen', 'packaging-systems-and-design.html', 'tribal-initatives.html', 'meteorology.html', 'exploring-architecture-and-urban-studies-undecided.html', 'japanese-studies.html', 'cognitive-and-behavioral-neuroscience.html', 'emeritus-faculty', 'advertising.html', 'Undergradhandbook.html', 'Computer-Science-Press-Releases.html', 'biological-physics.html', 'bigdog', 'russian.html', 'computer-science-philosophy', 'egunter', 'lavalle', 'phd-general', 'communication.html', 'nagi', 'affiliate-faculty', 'facts.html', 'corps-cadets.html', 'computer-science-visionary-scholarship-donors', 'rutameht', 'k-12-outreach', 'choose-illinois-computer-science', 'CS3214.html', 'american-studies.html', 'diversity-and-community-engagement.html', 'gender-science-and-technology.html', 'scientific-computing', 'sustainable-biomaterials.html', 'artificial-intelligence', 'Chowdhary-2021-Illinois-Innovtion-Network-Award', 'CS4504.html', 'CS3654.html', 'undergraduate-forms', 'graduate-student-annual-evaluation-process', 'CS4974.html', 'phd-requirements', 'alumni.html', 'systems-biology.html', 'CS1064.html', 'bcosman', 'facilities-shipping-and-receiving', 'polymer-chemistry.html', 'honor-code', 'contact.html', 'phd-recipients.html', 'general-engineering.html', 'CS3114.html', 'clblake', 'contacts.html', 'english-creative-writing.html', 'ca-training', 'financial-aid', 'xj-meng.html', 'equal-opportunity.html', 'CS4804.html', 'tbretl', 'CS1114.html', 'vt-i-corps-program.html', 'features', 'student-organizations', 'astronomy.html', 'green-engineering.html', 'ymn', 'medicinal-chemistry.html', 'studio-art.html', 'application-deadlines', 'mrebl', 'challen', 'economics.html', 'materials-science-and-engineering.html', 'rhk', 'courses.html', 'experimental-neuroscience.html', 'lawrie', 'values', 'office-hours.html', 'summer-winter-programs.html', 'sjp', 'dining.html', 'computer-science.html', 'faculty-and-staff.html', 'religion-and-culture.html', 'milenkov', 'namato', 'miforbes', 'geosciences.html', 'pre-medicine.html', 'preliminary-exam', 'policies-and-procedures', 'data-and-information-systems', 'rankings_grad.html', 'ApplicationDeadlines.html', 'CS3304.html', 'international-relations.html', 'family-and-consumer-sciences.html', 'blocksburg2021.html', 'experiential-learning.html', 'yunhuang', 'mchenry', 'finaid-cares-act-disclosure.html', 'minors.html', 'graduate-fellowships-awards', 'Scholarships.html', 'international-studies.html', 'alumni-awards-past-recipients', 'batesa', 'CS4634.html', 'raytheon-vt-ai-research.html', 'commencement.html', 'exploring-life-sciences.html', 'pbg', 'french-for-business.html', 'cultural-centers.html', 'computational-modeling-and-data-analytics.html', 'CS1124.html', 'buildings.html', 'andreask', 'civic-agriculture-and-food-systems.html', 'clinical-neuroscience.html', 'mining-and-mineral-engineering.html', 'salesforces-codet5-system-can-understand-and-generate-code', 'members', 'german.html', 'arts.html', 'give-now', 'ms-general', 'resources', 'security-and-privacy', 'CS4414.html', 'StudentServices.html', 'biology.html', 'undergraduate.html', 'fall-career-fair.html', 'libraries.html', 'best-papers-roundup-August-2021', 'yihchun', 'CS4654.html', 'ghose', 'music.html', 'explore-science-undecided.html', 'e-news', 'department-college-and-campus-events', 'kesh', 'marketing.html', 'moralesa', 'crop-and-soil-sciences.html', 'yongjoo', 'webster-santos.html', 'bioinformatics-and-computational-biology', 'klevchen', 'haitham', 'CS4884.html', 'hl314', 'big-ideas.html', 'CS2304.html', 'privacy.html', 'poc-grant-program.html', 'frequently-asked-questions.html', 'creative-writing.html', 'industrial-design.html', 'kkhauser', 'rafael-davalos.html', 'english-literature.html', 'marinov', 'africana-studies.html', 'global-food-security-and-health.html', 'black-college-institute.html', 'alawini', 'additional-required-application-materials', 'senior-design', 'impact-report-publications', 'creative-technologies.html', 'chemical-engineering.html', 'chackoge', 'OptionsCertificates.html', 'graduate-advising-office', 'environmental-informatics.html', 'career-services', 'event-and-experience-management.html', 'exploring-natural-resources.html', 'CI-Fellowships-2021-support-postdoc-research', 'transfer.html', 'CS4254.html', 'science-technology-and-society.html', 'living-learning-communities.html', 'awards.html', 'Administrivia.html', 'shieh-li-scholarship', 'faculty-support-contacts', 'computer-science-crop-sciences', 'criminology.html', 'kindrtnk', 'CS4644.html', 'copyright.html', 'faculty-positions', 'camillec', 'nikita', 'building-construction.html', 'crop-and-soil-environmental-sciences.html', 'minor-computer-science', 'CS2505.html', 'engineering-science-and-mechanics.html', 'consumer-studies.html', 'CS4604.html', 'arindamb', 'CS2974.html', 'continuing-professional-education.html', 'integrated-security.html', 'residential-environments-and-design.html', 'zaher', 'Courses2.html', 'leadership.html', 'CS4994.html', 'heath', 'landscape-architecture.html', 'professional-and-technical-writing.html', 'emergency-contacts.html', 'academics.html', 'slazebni', 'statistics.html', 'StudentServices..html', 'misailo', 'board-of-directors-ex-officio.html', 'maps.html', 'lgui', 'epi-exam-requirements', 'architecture-compilers-and-parallel-computing', 'computer-science-anthropology', 'sports-media-and-analytics.html', 'kamin', 'reconstruct-raises-series-b-advance-construction-management', 'job-opportunities.html', 'final-exam-thesis-defense', 'entrepreneurship-new-venture-growth.html', 'marketing-management.html', 'link.html', 'locations.html', 'public-health.html', 'technical-conferences-workshops', 'courses', 'agricultural-and-applied-economics.html', 'food-and-health-systems-economics.html', 'foundation-relations.html', 'phd-time-limits-milestones', 'new-grant-helps-illinois-cs-develop-programs-to-support-undergraduate-women-in-cs', 'traditions.html', 'virtual-vt-visit.html', 'property-management.html', 'spanish.html', 'donnacox', 'bs-computer-science', 'maa', 'Assistantships.html', 'mechanical-engineering.html', 'dei-series.html', 'impact-illinois-cs-degree', 'dskatz', 'environmental-horticulture.html', 'CS4234.html', 'majors.html', 'digital-marketing-strategy.html', 'chekuri', 'recent-phd-alumni', 'career-and-technical-education-agriculture-education.html', 'about.html', 'rakeshk', 'entomology.html', 'csambassadors', 'spbhat2'}\n",
      "Results match for query: the the\n",
      "{'graduate-fellowships-awards', 'loars-passion-for-expanding-possibilities-in-computing-leads-to-support-of-ican', 'alumni-awards-past-recipients', 'batesa', 'cgunter', 'dakshita', 'delgosha', 'kingli', 'j-liu1', 'colleenl', 'shj', 'pbg', 'media-coverage', 'index.html', 'interactive-computing', 'staff-awards', 'rankings.html', 'online-master-computer-science-data-science', '5-year-bs-mcs-program', 'computer-science-advertising', 'ms-bioinformatics-program', 'emer-kuck', 'andreask', 'staff-positions', 'systems-and-networking', 'theory-and-algorithms', 'salesforces-codet5-system-can-understand-and-generate-code', '5-year-bs-ms-program', 'department-faculty', 'members', 'computer-science-geography', 'rcunnin2', 'computer-science-chemistry', 'give-now', 'ms-general', 'resources', 'juliahmr', 'security-and-privacy', 'k-12-resources', 'c-gear', 'contact-us', 'course-hero-acquires-iconic-study-guides-cliffsnotes', 'best-papers-roundup-August-2021', 'yihchun', 'conferences-workshops', 'ghose', 'e-news', 'department-college-and-campus-events', 'jingrui', 'computers-and-education', 'kesh', 'computer-science-economics', 'bs-mathematics-computer-science', 'moralesa', 'nskim', 'yongjoo', 'gerard-salton-award-provides-opportunity-for-zhai-to-reflect-before-looking-forward-again', 'bioinformatics-and-computational-biology', 'ican', 'jdiesner', 'phd-ms-thesis-format-review-guidelines', 'klevchen', 'ways-give', 'haitham', 'hl314', 'ai4all', 'postdoctoral', 'tmc', 'meseguer', 'celebration', 'communications-engagement-team', 'mitras', 'national-international-awards', 'featured-lectures', 'kkarahal', 'official-forms', 'jianh', 'wtkramer', 'kkhauser', 'bs-statistics-computer-science', 'ludaesch', 'marinov', 'mnowak1', 'harandi', 'jianpeng', 'alawini', 'ican-faqs', 'additional-required-application-materials', 'mcs-campus', 'senior-design', 'governance', 'guidelines-forming-phd-committee', 'sadve', 'undergraduate-advising-office', 'impact-report-publications', 'dhoiem', 'this-ai-startup-aims-to-be-a-one-stop-writing-platform', 'professional-master-computer-science-mcs-program', 'angrave', 'chackoge', 'instructional-development-team', 'lbo', 'friedman', 'graduate-advising-office', 'department-news', 'nanjiang', 'idoia', 'career-services', 'padua', 'ranjitha', 'hclane', 'chairs-and-professorships', 'landmarks.html', 'wendycho', 'CI-Fellowships-2021-support-postdoc-research', 'student-resources', 'honors', 'data-structures-proficiency-exam', 'computer-science-animal-sciences', 'graduating-phd-students', 'abdelzaher-leading-DARPA-effort-understand-how-people-respond-influence-messaging', 'wgropp', 'computer-science-linguistics', 'faculty-support-contacts', 'computer-science-crop-sciences', 'shieh-li-scholarship', 'accreditation', 'sariel', 'dchen', 'agha', 'kindrtnk', 'campus-master-computer-science', 'faculty-positions', 'camillec', 'emeritus-faculty', 'nikita', 'kirlik', 'vadve', 'minor-computer-science', 'bigdog', 'programming-languages-formal-methods-and-software-engineering', 'arindamb', 'computer-science-philosophy', 'egunter', 'cs-undergraduate-degree-options-faq', 'lavalle', 'phd-general', 'gdallen', 'nagi', 'jhasegaw', 'silva-leads-team-studying-interconnections-between-online-learning-equity-access', 'karthe', 'affiliate-faculty', 'business-office', 'mdbailey', 'computer-science-music', 'computer-science-visionary-scholarship-donors', 'rutameht', 'k-12-outreach', 'choose-illinois-computer-science', 'eshwar', 'rhc', 'saurabhg', 'graduate-advising-contacts', 'scientific-computing', 'zaher', 'online-master-computer-science', 'mchenry', 'application-checklist', 'Chowdhary-2021-Illinois-Innovtion-Network-Award', 'artificial-intelligence', 'office-department-head', 'heath', 'undergraduate-forms', 'contact', 'graduate-student-annual-evaluation-process', 'slazebni', 'application-fee-waivers', 'davis68', 'ms-program', 'bpbailey', 'phd-requirements', 'misailo', 'postdocs', 'bcosman', 'facilities-shipping-and-receiving', 'covid-19-projects', 'lgui', 'honor-code', 'epi-exam-requirements', 'clblake', 'daf', 'university-illinois-awards', 'architecture-compilers-and-parallel-computing', 'computer-science-anthropology', 'lukeo', 'ca-training', 'phd-program-study-process', 'financial-aid', 'cskickstart', 'mattox', 'rkiyer', 'kamin', 'cs-x-degree-requirements', 'klara', 'reconstruct-raises-series-b-advance-construction-management', 'facebooks-northwest-lead-envisions-big-future-in-virtual-reality', 'tbretl', 'final-exam-thesis-defense', 'kale', 'features', 'student-organizations', 'minhdo', 'ymn', 'ygertner', 'application-deadlines', 'jugal', 'mrebl', 'challen', 'courses', 'girju', 'adjunct-faculty', 'rhk', 'hengji', 'technical-conferences-workshops', 'phd-time-limits-milestones', 'rankings_ug.html', 'lawrie', 'values', 'statistics', 'transfer-students', 'dmnicol', 'new-grant-helps-illinois-cs-develop-programs-to-support-undergraduate-women-in-cs', 'computer-science-astronomy', 'online-mcs-faqs', 'radhikam', 'sjp', 'donnacox', 'bs-computer-science', 'glherman', 'girishc', 'maa', 'lumetta', 'milenkov', 'namato', 'miforbes', 'hanj', 'charithm', 'jch', 'indy', 'impact-illinois-cs-degree', 'sanmi', 'kcchang', 'preliminary-exam', 'dskatz', 'caesar', 'policies-and-procedures', 'data-and-information-systems', 'history-timeline', 'w-hwu', 'soc1024', 'rankings_grad.html', 'chekuri', 'reyhaneh', 'donor-profiles', 'recent-phd-alumni', 'undergraduate-advising', 'mgolpar', 'mickunas', 'qualifying-exam', 'cs-student-opportunity-series-cs-sos', 'yunhuang', 'overview-cs-student-life', 'rakeshk', 'csambassadors', 'spbhat2'}\n"
     ]
    },
    {
     "name": "stdout",
     "output_type": "stream",
     "text": [
      "Results match for query: illinois computer science\n",
      "{'campus-highlights.html', 'tribal-initatives.html', 'Prospective.html', 'undergraduate.html', 'ProspectiveStudents.html', 'Undergradhandbook.html', 'BSMS.html', 'site-map.html', 'virtual-vt-visit.html', 'FAQs.html'}\n",
      "Results match for query: admission vt\n",
      "{'Scholarships.html', 'CS4634.html', 'FAQs.html', 'shj', 'CS3704.html', 'CS2104.html', 'CS3714.html', 'CS3744.html', 'CS1124.html', 'NewStudentFAQ.html', 'CS4124.html', 'CS4414.html', 'StudentServices.html', 'fall-career-fair.html', 'CS4304.html', 'CS4654.html', 'CS1014.html', 'Degrees.html', 'COVID19.html', 'sp22grforceadd.html', 'CS4214.html', 'CS4884.html', 'CS4944.html', 'CS2304.html', 'CS4824.html', 'featured-lectures', 'BSMS.html', 'CS4624.html', 'Forms.html', 'CS3414.html', 'CS4264.html', 'CS3824.html', 'CS4284.html', 'OptionsCertificates.html', 'ContactsRoles.html', 'CS1044.html', 'Giving.html', 'CS3604.html', 'CS4254.html', 'Administrivia.html', 'CS1604.html', 'CS4644.html', 'Undergradhandbook.html', 'CS2505.html', 'Computer-Science-Press-Releases.html', 'CS4604.html', 'CS2974.html', 'CS4784.html', 'ForceAdd.html', 'CS4204.html', 'MSThesis.html', 'CS1054.html', 'CS3214.html', 'CS3724.html', 'featured-spotlight.html', 'CS3984.html', 'CS4504.html', 'Courses2.html', 'CS3654.html', 'CS4994.html', 'Undergraduate.html', 'CS4974.html', 'CS4114.html', 'StudentServices..html', 'Funding.html', 'cs-source.html', 'cs-source-membership.html', 'CS1064.html', 'CS4104.html', 'CS3634.html', 'phd-recipients.html', 'cs-source-events.html', 'CS3114.html', 'CS3754.html', 'Prospective.html', 'ProspectiveStudents.html', 'CS4804.html', 'CS1114.html', 'CS2114.html', 'courses.html', 'CS4704.html', 'Assistantships.html', 'CS4570.html', 'CS4234.html', 'ApplicationDeadlines.html', 'recent-phd-alumni', 'CS3304.html', 'blocksburg2021.html', 'CS2506.html', 'CS1944.html', 'index.html'}\n",
      "Results match for query: virginia tech phd cs\n",
      "{'delgosha', 'j-liu1', 'CS2104.html', 'computer-science-advertising', 'CS3744.html', 'ms-bioinformatics-program', 'staff-positions', 'NewStudentFAQ.html', 'CS4124.html', 'soc1024', 'department-faculty', 'computer-science-geography', 'rcunnin2', 'juliahmr', 'k-12-resources', 'course-hero-acquires-iconic-study-guides-cliffsnotes', 'conferences-workshops', 'CS1014.html', 'jingrui', 'COVID19.html', 'nskim', 'gerard-salton-award-provides-opportunity-for-zhai-to-reflect-before-looking-forward-again', 'CS4944.html', 'tmc', 'meseguer', 'celebration', 'CS4824.html', 'communications-engagement-team', 'mitras', 'national-international-awards', 'BSMS.html', 'jianh', 'wtkramer', 'CS4264.html', 'agricultural-sciences.html', 'ican-faqs', 'guidelines-forming-phd-committee', 'sadve', 'industrial-and-systems-engineering.html', 'biochemistry.html', 'chemistry.html', 'instructional-development-team', 'ContactsRoles.html', 'Giving.html', 'wendycho', 'data-structures-proficiency-exam', 'civil-engineering.html', 'wgropp', 'computer-science-linguistics', 'CS1604.html', 'campus-master-computer-science', 'cs-undergraduate-degree-options-faq', 'jhasegaw', 'CS4204.html', 'karthe', 'MSThesis.html', 'computer-science-music', 'CS1054.html', 'saurabhg', 'online-master-computer-science', 'contact', 'Undergraduate.html', 'ms-program', 'bpbailey', 'pre-veterinary-medicine.html', 'cs-source.html', 'daf', 'phd-program-study-process', 'CS3754.html', 'lukeo', 'mattox', 'cskickstart', 'Prospective.html', 'rkiyer', 'ProspectiveStudents.html', 'facebooks-northwest-lead-envisions-big-future-in-virtual-reality', 'finance.html', 'political-science.html', 'minhdo', 'ygertner', 'jugal', 'biological-systems-engineering.html', 'hengji', 'transfer-students', 'statistics', 'dmnicol', 'staff.html', 'online-mcs-faqs', 'glherman', 'lumetta', 'hanj', 'indy', 'kcchang', 'CS4570.html', 'w-hwu', 'reyhaneh', 'undergraduate-advising', 'overview-cs-student-life', 'CS1944.html', 'loars-passion-for-expanding-possibilities-in-computing-leads-to-support-of-ican', 'cgunter', 'dakshita', 'colleenl', 'FAQs.html', 'media-coverage', 'interactive-computing', 'rankings.html', '5-year-bs-mcs-program', 'CS3714.html', 'emer-kuck', '5-year-bs-ms-program', 'computers-and-education', 'computer-science-economics', 'jdiesner', 'ican', 'phd-ms-thesis-format-review-guidelines', 'ways-give', 'ai4all', 'postdoctoral', 'english.html', 'CS4624.html', 'kkarahal', 'human-computer-interaction.html', 'official-forms', 'CS3414.html', 'ludaesch', 'harandi', 'mcs-campus', 'undergraduate-advising-office', 'electrical-engineering.html', 'CS3824.html', 'space.html', 'CS4284.html', 'this-ai-startup-aims-to-be-a-one-stop-writing-platform', 'professional-master-computer-science-mcs-program', 'angrave', 'pre-health-professions.html', 'lbo', 'friedman', 'department-news', 'idoia', 'padua', 'ranjitha', 'chairs-and-professorships', 'landmarks.html', 'honors', 'computer-science-animal-sciences', 'accreditation', 'sariel', 'agha', 'kirlik', 'vadve', 'programming-languages-formal-methods-and-software-engineering', 'CS4784.html', 'gdallen', 'silva-leads-team-studying-interconnections-between-online-learning-equity-access', 'pre-education.html', 'ForceAdd.html', 'business-office', 'mdbailey', 'eshwar', 'rhc', 'CS3724.html', 'graduate-advising-contacts', 'featured-spotlight.html', 'CS3984.html', 'application-checklist', 'office-department-head', 'application-fee-waivers', 'davis68', 'CS4114.html', 'physics.html', 'Funding.html', 'cs-source-membership.html', 'postdocs', 'CS4104.html', 'covid-19-projects', 'CS3634.html', 'cs-source-events.html', 'university-illinois-awards', 'cs-x-degree-requirements', 'klara', 'kale', 'history.html', 'CS2114.html', 'girju', 'adjunct-faculty', 'computer-science-astronomy', 'CS4704.html', 'radhikam', 'girishc', 'charithm', 'jch', 'sanmi', 'caesar', 'history-timeline', 'donor-profiles', 'mgolpar', 'mickunas', 'qualifying-exam', 'cs-student-opportunity-series-cs-sos', 'CS2506.html', 'accounting-and-information-systems.html', 'index.html', 'kingli', 'shj', 'CS3704.html', 'staff-awards', 'online-master-computer-science-data-science', 'systems-and-networking', 'theory-and-algorithms', 'computer-engineering.html', 'computer-science-chemistry', 'theatre-arts.html', 'c-gear', 'contact-us', 'CS4304.html', 'Degrees.html', 'bs-mathematics-computer-science', 'sp22grforceadd.html', 'CS4214.html', 'dairy-science.html', 'featured-lectures', 'Forms.html', 'bs-statistics-computer-science', 'mnowak1', 'jianpeng', 'governance', 'dhoiem', 'nanjiang', 'mathematics.html', 'hclane', 'CS1044.html', 'student-resources', 'CS3604.html', 'graduating-phd-students', 'european-and-transatlantic-studies.html', 'abdelzaher-leading-DARPA-effort-understand-how-people-respond-influence-messaging', 'dchen', 'emeritus-faculty', 'Undergradhandbook.html', 'Computer-Science-Press-Releases.html', 'bigdog', 'computer-science-philosophy', 'egunter', 'lavalle', 'phd-general', 'nagi', 'affiliate-faculty', 'computer-science-visionary-scholarship-donors', 'rutameht', 'k-12-outreach', 'choose-illinois-computer-science', 'CS3214.html', 'scientific-computing', 'artificial-intelligence', 'Chowdhary-2021-Illinois-Innovtion-Network-Award', 'CS4504.html', 'CS3654.html', 'undergraduate-forms', 'graduate-student-annual-evaluation-process', 'CS4974.html', 'phd-requirements', 'CS1064.html', 'bcosman', 'facilities-shipping-and-receiving', 'general-engineering.html', 'honor-code', 'phd-recipients.html', 'CS3114.html', 'clblake', 'ca-training', 'financial-aid', 'CS4804.html', 'tbretl', 'CS1114.html', 'features', 'student-organizations', 'ymn', 'application-deadlines', 'mrebl', 'challen', 'materials-science-and-engineering.html', 'rhk', 'courses.html', 'lawrie', 'values', 'sjp', 'milenkov', 'namato', 'miforbes', 'pre-medicine.html', 'preliminary-exam', 'policies-and-procedures', 'data-and-information-systems', 'ApplicationDeadlines.html', 'CS3304.html', 'blocksburg2021.html', 'mchenry', 'yunhuang', 'graduate-fellowships-awards', 'Scholarships.html', 'international-studies.html', 'alumni-awards-past-recipients', 'batesa', 'CS4634.html', 'pbg', 'CS1124.html', 'andreask', 'salesforces-codet5-system-can-understand-and-generate-code', 'members', 'give-now', 'ms-general', 'resources', 'security-and-privacy', 'CS4414.html', 'StudentServices.html', 'fall-career-fair.html', 'best-papers-roundup-August-2021', 'yihchun', 'CS4654.html', 'ghose', 'e-news', 'department-college-and-campus-events', 'kesh', 'moralesa', 'crop-and-soil-sciences.html', 'yongjoo', 'bioinformatics-and-computational-biology', 'klevchen', 'haitham', 'CS4884.html', 'hl314', 'CS2304.html', 'kkhauser', 'marinov', 'alawini', 'additional-required-application-materials', 'senior-design', 'impact-report-publications', 'chackoge', 'OptionsCertificates.html', 'graduate-advising-office', 'career-services', 'CI-Fellowships-2021-support-postdoc-research', 'CS4254.html', 'Administrivia.html', 'shieh-li-scholarship', 'faculty-support-contacts', 'computer-science-crop-sciences', 'criminology.html', 'kindrtnk', 'CS4644.html', 'faculty-positions', 'camillec', 'nikita', 'minor-computer-science', 'CS2505.html', 'CS4604.html', 'arindamb', 'CS2974.html', 'zaher', 'Courses2.html', 'CS4994.html', 'heath', 'slazebni', 'StudentServices..html', 'misailo', 'lgui', 'epi-exam-requirements', 'architecture-compilers-and-parallel-computing', 'computer-science-anthropology', 'kamin', 'reconstruct-raises-series-b-advance-construction-management', 'final-exam-thesis-defense', 'public-health.html', 'technical-conferences-workshops', 'courses', 'phd-time-limits-milestones', 'new-grant-helps-illinois-cs-develop-programs-to-support-undergraduate-women-in-cs', 'spanish.html', 'donnacox', 'bs-computer-science', 'maa', 'Assistantships.html', 'impact-illinois-cs-degree', 'dskatz', 'CS4234.html', 'chekuri', 'recent-phd-alumni', 'career-and-technical-education-agriculture-education.html', 'rakeshk', 'csambassadors', 'spbhat2'}\n",
      "Results match for query: the department of computer science\n",
      "{'campus-highlights.html', 'tribal-initatives.html', 'Prospective.html', 'undergraduate.html', 'ProspectiveStudents.html', 'Undergradhandbook.html', 'BSMS.html', 'site-map.html', 'virtual-vt-visit.html', 'FAQs.html'}\n",
      "Results match for query: admission vt college\n",
      "Compressed BSBIIndex test done.\n"
     ]
    }
   ],
   "source": [
    "#import nbimporter\n",
    "#import os\n",
    "#from HW1 import BSBIIndex, CompressedPostings\n",
    "\n",
    "print(\"Testing BSBIIndex.\")\n",
    "BSBI_instance = BSBIIndex(data_dir='hw1dataraw', output_dir = 'index_dir', )\n",
    "print(\"Building BSBIIndex ...\")\n",
    "BSBI_instance.index()\n",
    "print(\"Done. Begin test cases ...\")\n",
    "for i in range(1, 9):\n",
    "    with open('dev_queries/query.' + str(i)) as q:\n",
    "        query = q.read()\n",
    "        my_results = [os.path.normpath(path) for path in BSBI_instance.retrieve(query)]\n",
    "        #print(my_results)\n",
    "        with open('dev_output/' + str(i) + '.out') as o:\n",
    "            reference_results = [os.path.normpath(x.strip().split('/')[1]) for x in o.readlines()]\n",
    "            print(set(my_results)-set(reference_results))\n",
    "#             assert not set(my_results)-set(reference_results), \"Results DO NOT match for query: \"+query.strip()\n",
    "        print(\"Results match for query:\", query.strip())\n",
    "print(\"BSBIIndex test done.\") \n",
    "\n",
    "\n",
    "print(\"Testing Compressed BSBIIndex.\")\n",
    "BSBI_instance_compressed = BSBIIndex(data_dir='hw1dataraw', output_dir='index_dir_compressed', postings_encoding=CompressedPostings)\n",
    "print(\"Building BSBIIndex compressed...\")\n",
    "BSBI_instance_compressed.index()\n",
    "print(\"Done. Begin test cases ...\")\n",
    "for i in range(1, 9):\n",
    "    with open('dev_queries/query.' + str(i)) as q:\n",
    "        query = q.read()\n",
    "        my_results = [os.path.normpath(path) for path in BSBI_instance_compressed.retrieve(query)]\n",
    "        with open('dev_output/' + str(i) + '.out') as o:\n",
    "            reference_results = [os.path.normpath(x.strip()) for x in o.readlines()]\n",
    "            print(set(my_results)-set(reference_results))\n",
    "#             assert not set(my_results)-set(reference_results), \"Results DO NOT match for query: \"+query.strip()\n",
    "        print(\"Results match for query:\", query.strip())\n",
    "print(\"Compressed BSBIIndex test done.\") "
   ]
  },
  {
   "cell_type": "code",
   "execution_count": 113,
   "metadata": {},
   "outputs": [
    {
     "name": "stdout",
     "output_type": "stream",
     "text": [
      "b'\\x00\\x00\\x00\\x01Bud1\\x00\\x00\\x10\\x00\\x00\\x00\\x08\\x00\\x00\\x00\\x10\\x00\\x00\\x00\\x00%\\x00\\x00\\x00\\x00\\x00\\x00\\x00\\x00\\x00\\x00\\x00\\x00\\x00\\x00\\x00\\x00\\x00\\x00\\x00\\x00\\x00\\x00\\x08\\x00\\x00\\x00\\x08\\x00\\x00\\x00\\x00\\x00\\x00\\x00\\x00\\x00\\x00\\x00\\x00\\x00\\x00\\x00\\x00\\x00\\x00\\x00\\x00\\x02\\x00\\x00\\x00\\x00\\x00\\x00\\x00\\x00\\x00\\x00\\x00\\x01\\x00\\x00\\x10\\x00\\x00\\x00\\x00\\x00\\x00\\x00\\x00\\x00\\x00\\x00\\x00\\x00\\x00\\x00\\x00\\x00\\x00\\x00\\x00\\x00\\x00\\x00\\x00\\x00\\x00\\x00\\x00\\x00\\x00\\x00\\x00\\x00\\x00\\x00\\x00\\x00\\x00\\x00\\x00\\x00\\x00\\x00\\x00\\x00\\x00\\x00\\x00\\x00\\x00\\x00\\x00\\x00\\x00\\x00\\x00\\x00\\x00\\x00\\x00\\x00\\x00\\x00\\x00\\x00\\x00\\x00\\x00\\x00\\x00\\x00\\x00\\x00\\x00\\x00\\x00\\x00\\x00\\x00\\x00\\x00\\x00\\x00\\x00\\x00\\x00\\x00\\x00\\x00\\x00\\x00\\x00\\x00\\x00\\x00\\x00\\x00\\x00\\x00\\x00\\x00\\x00\\x00\\x00\\x00\\x00\\x00\\x00\\x00\\x00\\x00\\x00\\x00\\x00\\x00\\x00\\x00\\x00\\x00\\x00\\x00\\x00\\x00\\x00\\x00\\x00\\x00\\x00\\x00\\x00\\x00\\x00\\x00\\x00\\x00\\x00\\x00\\x00\\x00\\x00\\x00\\x00\\x00\\x00\\x00\\x00\\x00\\x00\\x00\\x00\\x00\\x00\\x00\\x00\\x00\\x00\\x00\\x00\\x00\\x00\\x00\\x00\\x00\\x00\\x00\\x00\\x00\\x00\\x00\\x00\\x00\\x00\\x00\\x00\\x00\\x00\\x00\\x00\\x00\\x00\\x00\\x00\\x00\\x00\\x00\\x00\\x00\\x00\\x00\\x00\\x00\\x00\\x00\\x00\\x00\\x00\\x00\\x00\\x00\\x00\\x00\\x00\\x00\\x00\\x00\\x00\\x00\\x00\\x00\\x00\\x00\\x00\\x00\\x00\\x00\\x00\\x00\\x00\\x00\\x00\\x00\\x00\\x00\\x00\\x00\\x00\\x00\\x00\\x00\\x00\\x00\\x00\\x00\\x00\\x00\\x00\\x00\\x00\\x00\\x00\\x00\\x00\\x00\\x00\\x00\\x00\\x00\\x00\\x00\\x00\\x00\\x00\\x00\\x00\\x00\\x00\\x00\\x00\\x00\\x00\\x00\\x00\\x00\\x00\\x00\\x00\\x00\\x00\\x00\\x00\\x00\\x00\\x00\\x00\\x00\\x00\\x00\\x00\\x00\\x00\\x00\\x00\\x00\\x00\\x00\\x00\\x00\\x00\\x00\\x00\\x00\\x00\\x00\\x00\\x00\\x00\\x00\\x00\\x00\\x00\\x00\\x00\\x00\\x00\\x00\\x00\\x00\\x00\\x00\\x00\\x00\\x00\\x00\\x00\\x00\\x00\\x00\\x00\\x00\\x00\\x00\\x00\\x00\\x00\\x00\\x00\\x00\\x00\\x00\\x00\\x00\\x00\\x00\\x00\\x00\\x00\\x00\\x00\\x00\\x00\\x00\\x00\\x00\\x00\\x00\\x00\\x00\\x00\\x00\\x00\\x00\\x00\\x00\\x00\\x00\\x00\\x00\\x00\\x00\\x00\\x00\\x00\\x00\\x00\\x00\\x00\\x00\\x00\\x00\\x00\\x00\\x00\\x00\\x00\\x00\\x00\\x00\\x00\\x00\\x00\\x00\\x00\\x00\\x00\\x00\\x00\\x00\\x00\\x00\\x00\\x00\\x00\\x00\\x00\\x00\\x00\\x00\\x00\\x00\\x00\\x00\\x00\\x00\\x00\\x00\\x00\\x00\\x00\\x00\\x00\\x00\\x00\\x00\\x00\\x00\\x00\\x00\\x00\\x00\\x00\\x00\\x00\\x00\\x00\\x00\\x00\\x00\\x00\\x00\\x00\\x00\\x00\\x00\\x00\\x00\\x00\\x00\\x00\\x00\\x00\\x00\\x00\\x00\\x00\\x00\\x00\\x00\\x00\\x00\\x00\\x00\\x00\\x00\\x00\\x00\\x00\\x00\\x00\\x00\\x00\\x00\\x00\\x00\\x00\\x00\\x00\\x00\\x00\\x00\\x00\\x00\\x00\\x00\\x00\\x00\\x00\\x00\\x00\\x00\\x00\\x00\\x00\\x00\\x00\\x00\\x00\\x00\\x00\\x00\\x00\\x00\\x00\\x00\\x00\\x00\\x00\\x00\\x00\\x00\\x00\\x00\\x00\\x00\\x00\\x00\\x00\\x00\\x00\\x00\\x00\\x00\\x00\\x00\\x00\\x00\\x00\\x00\\x00\\x00\\x00\\x00\\x00\\x00\\x00\\x00\\x00\\x00\\x00\\x00\\x00\\x00\\x00\\x00\\x00\\x00\\x00\\x00\\x00\\x00\\x00\\x00\\x00\\x00\\x00\\x00\\x00\\x00\\x00\\x00\\x00\\x00\\x00\\x00\\x00\\x00\\x00\\x00\\x00\\x00\\x00\\x00\\x00\\x00\\x00\\x00\\x00\\x00\\x00\\x00\\x00\\x00\\x00\\x00\\x00\\x00\\x00\\x00\\x00\\x00\\x00\\x00\\x00\\x00\\x00\\x00\\x00\\x00\\x00\\x00\\x00\\x00\\x00\\x00\\x00\\x00\\x00\\x00\\x00\\x00\\x00\\x00\\x00\\x00\\x00\\x00\\x00\\x00\\x00\\x00\\x00\\x00\\x00\\x00\\x00\\x00\\x00\\x00\\x00\\x00\\x00\\x00\\x00\\x00\\x00\\x00\\x00\\x00\\x00\\x00\\x00\\x00\\x00\\x00\\x00\\x00\\x00\\x00\\x00\\x00\\x00\\x00\\x00\\x00\\x00\\x00\\x00\\x00\\x00\\x00\\x00\\x00\\x00\\x00\\x00\\x00\\x00\\x00\\x00\\x00\\x00\\x00\\x00\\x00\\x00\\x00\\x00\\x00\\x00\\x00\\x00\\x00\\x00\\x00\\x00\\x00\\x00\\x00\\x00\\x00\\x00\\x00\\x00\\x00\\x00\\x00\\x00\\x00\\x00\\x00\\x00\\x00\\x00\\x00\\x00\\x00\\x00\\x00\\x00\\x00\\x00\\x00\\x00\\x00\\x00\\x00\\x00\\x00\\x00\\x00\\x00\\x00\\x00\\x00\\x00\\x00\\x00\\x00\\x00\\x00\\x00\\x00\\x00\\x00\\x00\\x00\\x00\\x00\\x00\\x00\\x00\\x00\\x00\\x00\\x00\\x00\\x00\\x00\\x00\\x00\\x00\\x00\\x00\\x00\\x00\\x00\\x00\\x00\\x00\\x00\\x00\\x00\\x00\\x00\\x00\\x00\\x00\\x00\\x00\\x00\\x00\\x00\\x00\\x00\\x00\\x00\\x00\\x00\\x00\\x00\\x00\\x00\\x00\\x00\\x00\\x00\\x00\\x00\\x00\\x00\\x00\\x00\\x00\\x00\\x00\\x00\\x00\\x00\\x00\\x00\\x00\\x00\\x00\\x00\\x00\\x00\\x00\\x00\\x00\\x00\\x00\\x00\\x00\\x00\\x00\\x00\\x00\\x00\\x00\\x00\\x00\\x00\\x00\\x00\\x00\\x00\\x00\\x00\\x00\\x00\\x00\\x00\\x00\\x00\\x00\\x00\\x00\\x00\\x00\\x00\\x00\\x00\\x00\\x00\\x00\\x00\\x00\\x00\\x00\\x00\\x00\\x00\\x00\\x00\\x00\\x00\\x00\\x00\\x00\\x00\\x00\\x00\\x00\\x00\\x00\\x00\\x00\\x00\\x00\\x00\\x00\\x00\\x00\\x00\\x00\\x00\\x00\\x00\\x00\\x00\\x00\\x00\\x00\\x00\\x00\\x00\\x00\\x00\\x00\\x00\\x00\\x00\\x00\\x00\\x00\\x00\\x00\\x00\\x00\\x00\\x00\\x00\\x00\\x00\\x00\\x00\\x00\\x00\\x00\\x00\\x00\\x00\\x00\\x00\\x00\\x00\\x00\\x00\\x00\\x00\\x00\\x00\\x00\\x00\\x00\\x00\\x00\\x00\\x00\\x00\\x00\\x00\\x00\\x00\\x00\\x00\\x00\\x00\\x00\\x00\\x00\\x00\\x00\\x00\\x00\\x00\\x00\\x00\\x00\\x00\\x00\\x00\\x00\\x00\\x00\\x00\\x00\\x00\\x00\\x00\\x00\\x00\\x00\\x00\\x00\\x00\\x00\\x00\\x00\\x00\\x00\\x00\\x00\\x00\\x00\\x00\\x00\\x00\\x00\\x00\\x00\\x00\\x00\\x00\\x00\\x00\\x00\\x00\\x00\\x00\\x00\\x00\\x00\\x00\\x00\\x00\\x00\\x00\\x00\\x00\\x00\\x00\\x00\\x00\\x00\\x00\\x00\\x00\\x00\\x00\\x00\\x00\\x00\\x00\\x00\\x00\\x00\\x00\\x00\\x00\\x00\\x00\\x00\\x00\\x00\\x00\\x00\\x00\\x00\\x00\\x00\\x00\\x00\\x00\\x00\\x00\\x00\\x00\\x00\\x00\\x00\\x00\\x00\\x00\\x00\\x00\\x00\\x00\\x00\\x00\\x00\\x00\\x00\\x00\\x00\\x00\\x00\\x00\\x00\\x00\\x00\\x00\\x00\\x00\\x00\\x00\\x00\\x00\\x00\\x00\\x00\\x00\\x00\\x00\\x00\\x00\\x00\\x00\\x00\\x00\\x00\\x00\\x00\\x00\\x00\\x00\\x00\\x00\\x00\\x00\\x00\\x00\\x00\\x00\\x00\\x00\\x00\\x00\\x00\\x00\\x00\\x00\\x00\\x00\\x00\\x00\\x00\\x00\\x00\\x00\\x00\\x00\\x00\\x00\\x00\\x00\\x00\\x00\\x00\\x00\\x00\\x00\\x00\\x00\\x00\\x00\\x00\\x00\\x00\\x00\\x00\\x00\\x00\\x00\\x00\\x00\\x00\\x00\\x00\\x00\\x00\\x00\\x00\\x00\\x00\\x00\\x00\\x00\\x00\\x00\\x00\\x00\\x00\\x00\\x00\\x00\\x00\\x00\\x00\\x00\\x00\\x00\\x00\\x00\\x00\\x00\\x00\\x00\\x00\\x00\\x00\\x00\\x00\\x00\\x00\\x00\\x00\\x00\\x00\\x00\\x00\\x00\\x00\\x00\\x00\\x00\\x00\\x00\\x00\\x00\\x00\\x00\\x00\\x00\\x00\\x00\\x00\\x00\\x00\\x00\\x00\\x00\\x00\\x00\\x00\\x00\\x00\\x00\\x00\\x00\\x00\\x00\\x00\\x00\\x00\\x00\\x00\\x00\\x00\\x00\\x00\\x00\\x00\\x00\\x00\\x00\\x00\\x00\\x00\\x00\\x00\\x00\\x00\\x00\\x00\\x00\\x00\\x00\\x00\\x00\\x00\\x00\\x00\\x00\\x00\\x00\\x00\\x00\\x00\\x00\\x00\\x00\\x00\\x00\\x00\\x00\\x00\\x00\\x00\\x00\\x00\\x00\\x00\\x00\\x00\\x00\\x00\\x00\\x00\\x00\\x00\\x00\\x00\\x00\\x00\\x00\\x00\\x00\\x00\\x00\\x00\\x00\\x00\\x00\\x00\\x00\\x00\\x00\\x00\\x00\\x00\\x00\\x00\\x00\\x00\\x00\\x00\\x00\\x00\\x00\\x00\\x00\\x00\\x00\\x00\\x00\\x00\\x00\\x00\\x00\\x00\\x00\\x00\\x00\\x00\\x00\\x00\\x00\\x00\\x00\\x00\\x00\\x00\\x00\\x00\\x00\\x00\\x00\\x00\\x00\\x00\\x00\\x00\\x00\\x00\\x00\\x00\\x00\\x00\\x00\\x00\\x00\\x00\\x00\\x00\\x00\\x00\\x00\\x00\\x00\\x00\\x00\\x00\\x00\\x00\\x00\\x00\\x00\\x00\\x00\\x00\\x00\\x00\\x00\\x00\\x00\\x00\\x00\\x00\\x00\\x00\\x00\\x00\\x00\\x00\\x00\\x00\\x00\\x00\\x00\\x00\\x00\\x00\\x00\\x00\\x00\\x00\\x00\\x00\\x00\\x00\\x00\\x00\\x00\\x00\\x00\\x00\\x00\\x00\\x00\\x00\\x00\\x00\\x00\\x00\\x00\\x00\\x00\\x00\\x00\\x00\\x00\\x00\\x00\\x00\\x00\\x00\\x00\\x00\\x00\\x00\\x00\\x00\\x00\\x00\\x00\\x00\\x00\\x00\\x00\\x00\\x00\\x00\\x00\\x00\\x00\\x00\\x00\\x00\\x00\\x00\\x00\\x00\\x00\\x00\\x00\\x00\\x00\\x00\\x00\\x00\\x00\\x00\\x00\\x00\\x00\\x00\\x00\\x00\\x00\\x00\\x00\\x00\\x00\\x00\\x00\\x00\\x00\\x00\\x00\\x00\\x00\\x00\\x00\\x00\\x00\\x00\\x00\\x00\\x00\\x00\\x00\\x00\\x00\\x00\\x00\\x00\\x00\\x00\\x00\\x00\\x00\\x00\\x00\\x00\\x00\\x00\\x00\\x00\\x00\\x00\\x00\\x00\\x00\\x00\\x00\\x00\\x00\\x00\\x00\\x00\\x00\\x00\\x00\\x00\\x00\\x00\\x00\\x00\\x00\\x00\\x00\\x00\\x00\\x00\\x00\\x00\\x00\\x00\\x00\\x00\\x00\\x00\\x00\\x00\\x00\\x00\\x00\\x00\\x00\\x00\\x00\\x00\\x00\\x00\\x00\\x00\\x00\\x00\\x00\\x00\\x00\\x00\\x00\\x00\\x00\\x00\\x00\\x00\\x00\\x00\\x00\\x00\\x00\\x00\\x00\\x00\\x00\\x00\\x00\\x00\\x00\\x00\\x00\\x00\\x00\\x00\\x00\\x00\\x00\\x00\\x00\\x00\\x00\\x00\\x00\\x00\\x00\\x00\\x00\\x00\\x00\\x00\\x00\\x00\\x00\\x00\\x00\\x00\\x00\\x00\\x00\\x00\\x00\\x00\\x00\\x00\\x00\\x00\\x00\\x00\\x00\\x00\\x00\\x00\\x00\\x00\\x00\\x00\\x00\\x00\\x00\\x00\\x00\\x00\\x00\\x00\\x00\\x00\\x00\\x00\\x00\\x00\\x00\\x00\\x00\\x00\\x00\\x00\\x00\\x00\\x00\\x00\\x00\\x00\\x00\\x00\\x00\\x00\\x00\\x00\\x00\\x00\\x00\\x00\\x00\\x00\\x00\\x00\\x00\\x00\\x00\\x00\\x00\\x00\\x00\\x00\\x00\\x00\\x00\\x00\\x00\\x00\\x00\\x00\\x00\\x00\\x00\\x00\\x00\\x00\\x00\\x00\\x00\\x00\\x00\\x00\\x00\\x00\\x00\\x00\\x00\\x00\\x00\\x00\\x00\\x00\\x00\\x00\\x00\\x00\\x00\\x00\\x00\\x00\\x00\\x00\\x00\\x00\\x00\\x00\\x00\\x00\\x00\\x00\\x00\\x00\\x00\\x00\\x00\\x00\\x00\\x00\\x00\\x00\\x00\\x00\\x00\\x00\\x00\\x00\\x00\\x00\\x00\\x00\\x00\\x00\\x00\\x00\\x00\\x00\\x00\\x00\\x00\\x00\\x00\\x00\\x00\\x00\\x00\\x00\\x00\\x00\\x00\\x00\\x00\\x00\\x00\\x00\\x00\\x00\\x00\\x00\\x00\\x00\\x00\\x00\\x00\\x00\\x00\\x00\\x00\\x00\\x00\\x00\\x00\\x00\\x00\\x00\\x00\\x00\\x00\\x00\\x00\\x00\\x00\\x00\\x00\\x00\\x00\\x00\\x00\\x00\\x00\\x00\\x00\\x00\\x00\\x00\\x00\\x00\\x00\\x00\\x00\\x00\\x00\\x00\\x00\\x00\\x00\\x00\\x00\\x00\\x00\\x00\\x00\\x00\\x00\\x00\\x00\\x00\\x00\\x00\\x00\\x00\\x00\\x00\\x00\\x00\\x00\\x00\\x00\\x00\\x00\\x00\\x00\\x00\\x00\\x00\\x00\\x00\\x00\\x00\\x00\\x00\\x00\\x00\\x00\\x00\\x00\\x00\\x00\\x00\\x00\\x00\\x00\\x00\\x00\\x00\\x00\\x00\\x00\\x00\\x00\\x00\\x00\\x00\\x00\\x00\\x00\\x00\\x00\\x00\\x00\\x00\\x00\\x00\\x00\\x00\\x00\\x00\\x00\\x00\\x00\\x00\\x00\\x00\\x00\\x00\\x00\\x00\\x00\\x00\\x00\\x00\\x00\\x00\\x00\\x00\\x00\\x00\\x00\\x00\\x00\\x00\\x00\\x00\\x00\\x00\\x00\\x00\\x00\\x00\\x00\\x00\\x00\\x00\\x00\\x00\\x00\\x00\\x00\\x00\\x00\\x00\\x00\\x00\\x00\\x00\\x00\\x00\\x00\\x00\\x00\\x00\\x00\\x00\\x00\\x00\\x00\\x00\\x00\\x00\\x00\\x00\\x00\\x00\\x00\\x00\\x00\\x00\\x00\\x00\\x00\\x00\\x00\\x00\\x00\\x00\\x00\\x00\\x00\\x00\\x00\\x00\\x00\\x00\\x00\\x00\\x00\\x00\\x00\\x00\\x00\\x00\\x00\\x00\\x00\\x00\\x01\\x00\\x00\\x00\\x00\\x00\\x00\\x08\\x0b\\x00\\x00\\x00\\x00\\x00\\x00\\x00\\x00\\x00\\x00\\x00\\x00\\x00\\x00\\x00\\x00\\x00\\x00\\x00\\x00\\x00\\x00\\x00\\x00\\x00\\x00\\x00\\x00\\x00\\x00\\x00\\x00\\x00\\x00\\x00\\x00\\x00\\x00\\x00\\x00\\x00\\x00\\x00\\x00\\x00\\x00\\x00\\x00\\x00\\x00\\x00\\x00\\x00\\x00\\x00\\x00\\x00\\x00\\x00\\x00\\x00\\x00\\x00\\x00\\x00\\x00\\x00\\x00\\x00\\x00\\x00\\x00\\x00\\x00\\x00\\x00\\x00\\x00\\x00\\x00\\x00\\x00\\x00\\x00\\x00\\x00\\x00\\x00\\x00\\x00\\x00\\x00\\x00\\x00\\x00\\x00\\x00\\x00\\x00\\x00\\x00\\x00\\x00\\x00\\x00\\x00\\x00\\x00\\x00\\x00\\x00\\x00\\x00\\x00\\x00\\x00\\x00\\x00\\x00\\x00\\x00\\x00\\x00\\x00\\x00\\x00\\x00\\x00\\x00\\x00\\x00\\x00\\x00\\x00\\x00\\x00\\x00\\x00\\x00\\x00\\x00\\x00\\x00\\x00\\x00\\x00\\x00\\x00\\x00\\x00\\x00\\x00\\x00\\x00\\x00\\x00\\x00\\x00\\x00\\x00\\x00\\x00\\x00\\x00\\x00\\x00\\x00\\x00\\x00\\x00\\x00\\x00\\x00\\x00\\x00\\x00\\x00\\x00\\x00\\x00\\x00\\x00\\x00\\x00\\x00\\x00\\x00\\x00\\x00\\x00\\x00\\x00\\x00\\x00\\x00\\x00\\x00\\x00\\x00\\x00\\x00\\x00\\x00\\x00\\x00\\x00\\x00\\x00\\x00\\x00\\x00\\x00\\x00\\x00\\x00\\x00\\x00\\x00\\x00\\x00\\x00\\x00\\x00\\x00\\x00\\x00\\x00\\x00\\x00\\x00\\x00\\x00\\x00\\x00\\x00\\x00\\x00\\x00\\x00\\x00\\x00\\x00\\x00\\x00\\x00\\x00\\x00\\x00\\x00\\x00\\x00\\x00\\x00\\x00\\x00\\x00\\x00\\x00\\x00\\x00\\x00\\x00\\x00\\x00\\x00\\x00\\x00\\x00\\x00\\x00\\x00\\x00\\x00\\x00\\x00\\x00\\x00\\x00\\x00\\x00\\x00\\x00\\x00\\x00\\x00\\x00\\x00\\x00\\x00\\x00\\x00\\x00\\x00\\x00\\x00\\x00\\x00\\x00\\x00\\x00\\x00\\x00\\x00\\x00\\x00\\x00\\x00\\x00\\x00\\x00\\x00\\x00\\x00\\x00\\x00\\x00\\x00\\x00\\x00\\x00\\x00\\x00\\x00\\x00\\x00\\x00\\x00\\x00\\x00\\x00\\x00\\x00\\x00\\x00\\x00\\x00\\x00\\x00\\x00\\x00\\x00\\x00\\x00\\x00\\x00\\x00\\x00\\x00\\x00\\x00\\x00\\x00\\x00\\x00\\x00\\x00\\x00\\x00\\x00\\x00\\x00\\x00\\x00\\x00\\x00\\x00\\x00\\x00\\x00\\x00\\x00\\x00\\x00\\x00\\x00\\x00\\x00\\x00\\x00\\x00\\x00\\x00\\x00\\x00\\x00\\x00\\x00\\x00\\x00\\x00\\x00\\x00\\x00\\x00\\x00\\x00\\x00\\x00\\x00\\x00\\x00\\x00\\x00\\x00\\x00\\x00\\x00\\x00\\x00\\x00\\x00\\x00\\x00\\x00\\x00\\x00\\x00\\x00\\x00\\x00\\x00\\x00\\x00\\x00\\x00\\x00\\x00\\x00\\x00\\x00\\x00\\x00\\x00\\x00\\x00\\x00\\x00\\x00\\x00\\x00\\x00\\x00\\x00\\x00\\x00\\x00\\x00\\x00\\x00\\x00\\x00\\x00\\x00\\x00\\x00\\x00\\x00\\x00\\x00\\x00\\x00\\x00\\x00\\x00\\x00\\x00\\x00\\x00\\x00\\x00\\x00\\x00\\x00\\x00\\x00\\x00\\x00\\x00\\x00\\x00\\x00\\x00\\x00\\x00\\x00\\x00\\x00\\x00\\x00\\x00\\x00\\x00\\x00\\x00\\x00\\x00\\x00\\x00\\x00\\x00\\x00\\x00\\x00\\x00\\x00\\x00\\x00\\x00\\x00\\x00\\x00\\x00\\x00\\x00\\x00\\x00\\x00\\x00\\x00\\x00\\x00\\x00\\x00\\x00\\x00\\x00\\x00\\x00\\x00\\x00\\x00\\x00\\x00\\x00\\x00\\x00\\x00\\x00\\x00\\x00\\x00\\x00\\x00\\x00\\x00\\x00\\x00\\x00\\x00\\x00\\x00\\x00\\x00\\x00\\x00\\x00\\x00\\x00\\x00\\x00\\x00\\x00\\x00\\x00\\x00\\x00\\x00\\x00\\x00\\x00\\x00\\x00\\x00\\x00\\x00\\x00\\x00\\x00\\x00\\x00\\x00\\x00\\x00\\x00\\x00\\x00\\x00\\x00\\x00\\x00\\x00\\x00\\x00\\x00\\x00\\x00\\x00\\x00\\x00\\x00\\x00\\x00\\x00\\x00\\x00\\x00\\x00\\x00\\x00\\x00\\x00\\x00\\x00\\x00\\x00\\x00\\x00\\x00\\x00\\x00\\x00\\x00\\x00\\x00\\x00\\x00\\x00\\x00\\x00\\x00\\x00\\x00\\x00\\x00\\x00\\x00\\x00\\x00\\x00\\x00\\x00\\x00\\x00\\x00\\x00\\x00\\x00\\x00\\x00\\x00\\x00\\x00\\x00\\x00\\x00\\x00\\x00\\x00\\x00\\x00\\x00\\x00\\x00\\x00\\x00\\x00\\x00\\x00\\x00\\x00\\x00\\x00\\x00\\x00\\x00\\x00\\x00\\x00\\x00\\x00\\x00\\x00\\x00\\x00\\x00\\x00\\x00\\x00\\x00\\x00\\x00\\x00\\x00\\x00\\x00\\x00\\x00\\x00\\x00\\x00\\x00\\x00\\x00\\x00\\x00\\x00\\x00\\x00\\x00\\x00\\x00\\x00\\x00\\x00\\x00\\x00\\x00\\x00\\x00\\x00\\x00\\x00\\x00\\x00\\x00\\x00\\x00\\x00\\x00\\x00\\x00\\x00\\x00\\x00\\x00\\x00\\x00\\x00\\x00\\x00\\x00\\x00\\x00\\x00\\x00\\x00\\x00\\x00\\x00\\x00\\x00\\x00\\x00\\x00\\x00\\x00\\x00\\x00\\x00\\x00\\x00\\x00\\x00\\x00\\x00\\x00\\x00\\x00\\x00\\x00\\x00\\x00\\x00\\x00\\x00\\x00\\x00\\x00\\x00\\x00\\x00\\x00\\x00\\x00\\x00\\x00\\x00\\x00\\x00\\x00\\x00\\x00\\x00\\x00\\x00\\x00\\x00\\x00\\x00\\x00\\x00\\x00\\x00\\x00\\x00\\x00\\x00\\x00\\x00\\x00\\x00\\x00\\x00\\x00\\x00\\x00\\x00\\x00\\x00\\x00\\x00\\x00\\x00\\x00\\x00\\x00\\x00\\x00\\x00\\x00\\x00\\x00\\x00\\x00\\x00\\x00\\x00\\x00\\x00\\x00\\x00\\x00\\x00\\x00\\x00\\x00\\x00\\x00\\x00\\x00\\x00\\x00\\x00\\x00\\x00\\x00\\x00\\x00\\x00\\x00\\x00\\x00\\x00\\x00\\x00\\x00\\x00\\x00\\x00\\x00\\x00\\x00\\x00\\x00\\x00\\x00\\x00\\x00\\x00\\x00\\x00\\x00\\x00\\x00\\x00\\x00\\x00\\x00\\x00\\x00\\x00\\x00\\x00\\x00\\x00\\x00\\x00\\x00\\x00\\x00\\x00\\x00\\x00\\x00\\x00\\x00\\x00\\x00\\x00\\x00\\x00\\x00\\x00\\x00\\x00\\x00\\x00\\x00\\x00\\x00\\x00\\x00\\x00\\x00\\x00\\x00\\x00\\x00\\x00\\x00\\x00\\x00\\x00\\x00\\x00\\x00\\x00\\x00\\x00\\x00\\x00\\x00\\x00\\x00\\x00\\x00\\x00\\x00\\x00\\x00\\x00\\x00\\x00\\x00\\x00\\x00\\x00\\x00\\x00\\x00\\x00\\x00\\x00\\x00\\x00\\x00\\x00\\x00\\x00\\x00\\x00\\x00\\x00\\x00\\x00\\x00\\x00\\x00\\x00\\x00\\x00\\x00\\x00\\x00\\x00\\x00\\x00\\x00\\x00\\x00\\x00\\x00\\x00\\x00\\x00\\x00\\x00\\x00\\x00\\x00\\x00\\x00\\x00\\x00\\x00\\x00\\x00\\x00\\x00\\x00\\x00\\x00\\x00\\x00\\x00\\x00\\x00\\x00\\x00\\x00\\x00\\x00\\x00\\x00\\x00\\x00\\x00\\x00\\x00\\x00\\x00\\x00\\x00\\x00\\x00\\x00\\x00\\x00\\x00\\x00\\x00\\x00\\x00\\x00\\x00\\x00\\x00\\x01\\x00\\x00\\x00 \\x00\\x00\\x00\\x01\\x00\\x00\\x00@\\x00\\x00\\x00\\x01\\x00\\x00\\x00\\x80\\x00\\x00\\x00\\x01\\x00\\x00\\x01\\x00\\x00\\x00\\x00\\x01\\x00\\x00\\x02\\x00\\x00\\x00\\x00\\x01\\x00\\x00\\x04\\x00\\x00\\x00\\x00\\x00\\x00\\x00\\x00\\x01\\x00\\x00\\x10\\x00\\x00\\x00\\x00\\x01\\x00\\x00 \\x00\\x00\\x00\\x00\\x01\\x00\\x00@\\x00\\x00\\x00\\x00\\x01\\x00\\x00\\x80\\x00\\x00\\x00\\x00\\x01\\x00\\x01\\x00\\x00\\x00\\x00\\x00\\x01\\x00\\x02\\x00\\x00\\x00\\x00\\x00\\x01\\x00\\x04\\x00\\x00\\x00\\x00\\x00\\x01\\x00\\x08\\x00\\x00\\x00\\x00\\x00\\x01\\x00\\x10\\x00\\x00\\x00\\x00\\x00\\x01\\x00 \\x00\\x00\\x00\\x00\\x00\\x01\\x00@\\x00\\x00\\x00\\x00\\x00\\x01\\x00\\x80\\x00\\x00\\x00\\x00\\x00\\x01\\x01\\x00\\x00\\x00\\x00\\x00\\x00\\x01\\x02\\x00\\x00\\x00\\x00\\x00\\x00\\x01\\x04\\x00\\x00\\x00\\x00\\x00\\x00\\x01\\x08\\x00\\x00\\x00\\x00\\x00\\x00\\x01\\x10\\x00\\x00\\x00\\x00\\x00\\x00\\x01 \\x00\\x00\\x00\\x00\\x00\\x00\\x01@\\x00\\x00\\x00\\x00\\x00\\x00\\x00\\x00\\x00\\x00\\x00\\x00\\x00\\x00\\x00\\x00\\x00\\x00\\x00\\x00\\x00\\x00\\x00\\x00\\x00\\x00\\x00\\x00\\x00\\x00\\x00\\x00\\x00\\x00\\x00\\x00\\x00\\x00\\x00\\x00\\x00\\x00\\x00\\x00\\x00\\x00\\x00\\x00\\x00\\x00\\x00\\x00\\x00\\x00\\x00\\x00\\x00\\x00\\x00\\x00\\x00\\x00\\x00\\x00\\x00\\x00\\x00\\x00\\x00\\x00\\x00\\x00\\x00\\x00\\x00\\x00\\x00\\x00\\x00\\x00\\x00\\x00\\x00\\x00\\x00\\x00\\x00\\x00\\x00\\x00\\x00\\x00\\x00\\x00\\x00\\x00\\x00\\x00\\x00\\x00\\x00\\x00\\x00\\x00\\x00\\x00\\x00\\x00\\x00\\x00\\x00\\x00\\x00\\x00\\x00\\x00\\x00\\x00\\x00\\x00\\x00\\x00\\x00\\x00\\x00\\x00\\x00\\x00\\x00\\x00\\x00\\x00\\x00\\x00\\x00\\x00\\x00\\x00\\x00\\x00\\x00\\x00\\x00\\x00\\x00\\x00\\x00\\x00\\x00\\x00\\x00\\x00\\x00\\x00\\x00\\x00\\x00\\x00\\x00\\x00\\x00\\x00\\x00\\x00\\x00\\x00\\x00\\x00\\x00\\x00\\x00\\x00\\x00\\x00\\x00\\x00\\x00\\x00\\x00\\x00\\x00\\x00\\x00\\x00\\x00\\x00\\x00\\x00\\x00\\x00\\x00\\x00\\x00\\x00\\x00\\x00\\x00\\x00\\x00\\x00\\x00\\x00\\x00\\x00\\x00\\x00\\x00\\x00\\x00\\x00\\x00\\x00\\x00\\x00\\x00\\x00\\x00\\x00\\x00\\x00\\x00\\x00\\x00\\x00\\x00\\x00\\x00\\x00\\x00\\x00\\x00\\x00\\x00\\x00\\x00\\x00\\x00\\x00\\x00\\x00\\x00\\x00\\x00\\x00\\x00\\x00\\x00\\x00\\x00\\x00\\x00\\x00\\x00\\x00\\x00\\x00\\x00\\x00\\x00\\x00\\x00\\x00\\x00\\x00\\x00\\x00\\x00\\x00\\x00\\x00\\x00\\x00\\x00\\x00\\x00\\x00\\x00\\x00\\x00\\x00\\x00\\x00\\x00\\x00\\x00\\x00\\x00\\x00\\x00\\x00\\x00\\x00\\x00\\x00\\x00\\x00\\x00\\x00\\x00\\x00\\x00\\x00\\x00\\x00\\x00\\x00\\x00\\x00\\x00\\x00\\x00\\x00\\x00\\x00\\x00\\x00\\x00\\x00\\x00\\x00\\x00\\x00\\x00\\x00\\x00\\x00\\x00\\x00\\x00\\x00\\x00\\x00\\x00\\x00\\x00\\x00\\x00\\x00\\x00\\x00\\x00\\x00\\x00\\x00\\x00\\x00\\x00\\x00\\x00\\x00\\x00\\x00\\x00\\x00\\x00\\x00\\x00\\x00\\x00\\x00\\x00\\x00\\x00\\x00\\x00\\x00\\x00\\x00\\x00\\x00\\x00\\x00\\x00\\x00\\x00\\x00\\x00\\x00\\x00\\x00\\x00\\x00\\x00\\x00\\x00\\x00\\x00\\x00\\x00\\x00\\x00\\x00\\x00\\x00\\x00\\x00\\x00\\x00\\x00\\x00\\x00\\x00\\x00\\x00\\x00\\x00\\x00\\x00\\x00\\x00\\x00\\x00\\x00\\x00\\x00\\x00\\x00\\x00\\x00\\x00\\x00\\x00\\x00\\x00\\x00\\x00\\x00\\x00\\x00\\x00\\x00\\x00\\x00\\x00\\x00\\x00\\x00\\x00\\x00\\x00\\x00\\x00\\x00\\x00\\x00\\x00\\x00\\x00\\x00\\x00\\x00\\x00\\x00\\x00\\x00\\x00\\x00\\x00\\x00\\x00\\x00\\x00\\x00\\x00\\x00\\x00\\x00\\x00\\x00\\x00\\x00\\x00\\x00\\x00\\x00\\x00\\x00\\x00\\x00\\x00\\x00\\x00\\x00\\x00\\x00\\x00\\x00\\x00\\x00\\x00\\x00\\x00\\x00\\x00\\x00\\x00\\x00\\x00\\x00\\x00\\x00\\x00\\x00\\x00\\x00\\x00\\x00\\x00\\x00\\x00\\x00\\x00\\x00\\x00\\x00\\x00\\x00\\x00\\x00\\x00\\x00\\x00\\x00\\x00\\x00\\x00\\x00\\x00\\x00\\x00\\x00\\x00\\x00\\x00\\x00\\x00\\x00\\x00\\x00\\x00\\x00\\x00\\x00\\x00\\x00\\x00\\x00\\x00\\x00\\x00\\x00\\x00\\x00\\x00\\x00\\x00\\x00\\x00\\x00\\x00\\x00\\x00\\x00\\x00\\x00\\x00\\x00\\x00\\x00\\x00\\x00\\x00\\x00\\x00\\x00\\x00\\x00\\x00\\x00\\x00\\x00\\x00\\x00\\x00\\x00\\x00\\x00\\x00\\x00\\x00\\x00\\x00\\x00\\x00\\x00\\x00\\x00\\x00\\x00\\x00\\x00\\x00\\x00\\x00\\x00\\x00\\x00\\x00\\x00\\x00\\x00\\x00\\x00\\x00\\x00\\x00\\x00\\x00\\x00\\x00\\x00\\x00\\x00\\x00\\x00\\x00\\x00\\x00\\x00\\x00\\x00\\x00\\x00\\x00\\x00\\x00\\x00\\x00\\x00\\x00\\x00\\x00\\x00\\x00\\x00\\x00\\x00\\x00\\x00\\x00\\x00\\x00\\x00\\x00\\x00\\x00\\x00\\x00\\x00\\x00\\x00\\x00\\x00\\x00\\x00\\x00\\x00\\x00\\x00\\x00\\x00\\x00\\x00\\x00\\x00\\x00\\x00\\x00\\x00\\x00\\x00\\x00\\x00\\x00\\x00\\x00\\x00\\x00\\x00\\x00\\x00\\x00\\x00\\x00\\x00\\x00\\x00\\x00\\x00\\x00\\x00\\x00\\x00\\x00\\x00\\x00\\x00\\x00\\x00\\x00\\x00\\x00\\x00\\x00\\x00\\x00\\x00\\x00\\x00\\x00\\x00\\x00\\x00\\x00\\x00\\x00\\x00\\x00\\x00\\x00\\x00\\x00\\x00\\x00\\x00\\x00\\x00\\x00\\x00\\x00\\x00\\x00\\x00\\x00\\x00\\x00\\x00\\x00\\x00\\x00\\x00\\x00\\x00\\x00\\x00\\x00\\x00\\x00\\x00\\x00\\x00\\x00\\x00\\x00\\x00\\x00\\x00\\x00\\x00\\x00\\x00\\x00\\x00\\x00\\x00\\x00\\x00\\x00\\x00\\x00\\x00\\x00\\x00\\x00\\x00\\x00\\x00\\x00\\x00\\x00\\x00\\x00\\x00\\x00\\x03\\x00\\x00\\x00\\x00\\x00\\x00\\x10\\x0b\\x00\\x00\\x00E\\x00\\x00\\x00%\\x00\\x00\\x00\\x00\\x00\\x00\\x00\\x00\\x00\\x00\\x00\\x00\\x00\\x00\\x00\\x00\\x00\\x00\\x00\\x00\\x00\\x00\\x00\\x00\\x00\\x00\\x00\\x00\\x00\\x00\\x00\\x00\\x00\\x00\\x00\\x00\\x00\\x00\\x00\\x00\\x00\\x00\\x00\\x00\\x00\\x00\\x00\\x00\\x00\\x00\\x00\\x00\\x00\\x00\\x00\\x00\\x00\\x00\\x00\\x00\\x00\\x00\\x00\\x00\\x00\\x00\\x00\\x00\\x00\\x00\\x00\\x00\\x00\\x00\\x00\\x00\\x00\\x00\\x00\\x00\\x00\\x00\\x00\\x00\\x00\\x00\\x00\\x00\\x00\\x00\\x00\\x00\\x00\\x00\\x00\\x00\\x00\\x00\\x00\\x00\\x00\\x00\\x00\\x00\\x00\\x00\\x00\\x00\\x00\\x00\\x00\\x00\\x00\\x00\\x00\\x00\\x00\\x00\\x00\\x00\\x00\\x00\\x00\\x00\\x00\\x00\\x00\\x00\\x00\\x00\\x00\\x00\\x00\\x00\\x00\\x00\\x00\\x00\\x00\\x00\\x00\\x00\\x00\\x00\\x00\\x00\\x00\\x00\\x00\\x00\\x00\\x00\\x00\\x00\\x00\\x00\\x00\\x00\\x00\\x00\\x00\\x00\\x00\\x00\\x00\\x00\\x00\\x00\\x00\\x00\\x00\\x00\\x00\\x00\\x00\\x00\\x00\\x00\\x00\\x00\\x00\\x00\\x00\\x00\\x00\\x00\\x00\\x00\\x00\\x00\\x00\\x00\\x00\\x00\\x00\\x00\\x00\\x00\\x00\\x00\\x00\\x00\\x00\\x00\\x00\\x00\\x00\\x00\\x00\\x00\\x00\\x00\\x00\\x00\\x00\\x00\\x00\\x00\\x00\\x00\\x00\\x00\\x00\\x00\\x00\\x00\\x00\\x00\\x00\\x00\\x00\\x00\\x00\\x00\\x00\\x00\\x00\\x00\\x00\\x00\\x00\\x00\\x00\\x00\\x00\\x00\\x00\\x00\\x00\\x00\\x00\\x00\\x00\\x00\\x00\\x00\\x00\\x00\\x00\\x00\\x00\\x00\\x00\\x00\\x00\\x00\\x00\\x00\\x00\\x00\\x00\\x00\\x00\\x00\\x00\\x00\\x00\\x00\\x00\\x00\\x00\\x00\\x00\\x00\\x00\\x00\\x00\\x00\\x00\\x00\\x00\\x00\\x00\\x00\\x00\\x00\\x00\\x00\\x00\\x00\\x00\\x00\\x00\\x00\\x00\\x00\\x00\\x00\\x00\\x00\\x00\\x00\\x00\\x00\\x00\\x00\\x00\\x00\\x00\\x00\\x00\\x00\\x00\\x00\\x00\\x00\\x00\\x00\\x00\\x00\\x00\\x00\\x00\\x00\\x00\\x00\\x00\\x00\\x00\\x00\\x00\\x00\\x00\\x00\\x00\\x00\\x00\\x00\\x00\\x00\\x00\\x00\\x00\\x00\\x00\\x00\\x00\\x00\\x00\\x00\\x00\\x00\\x00\\x00\\x00\\x00\\x00\\x00\\x00\\x00\\x00\\x00\\x00\\x00\\x00\\x00\\x00\\x00\\x00\\x00\\x00\\x00\\x00\\x00\\x00\\x00\\x00\\x00\\x00\\x00\\x00\\x00\\x00\\x00\\x00\\x00\\x00\\x00\\x00\\x00\\x00\\x00\\x00\\x00\\x00\\x00\\x00\\x00\\x00\\x00\\x00\\x00\\x00\\x00\\x00\\x00\\x00\\x00\\x00\\x00\\x00\\x00\\x00\\x00\\x00\\x00\\x00\\x00\\x00\\x00\\x00\\x00\\x00\\x00\\x00\\x00\\x00\\x00\\x00\\x00\\x00\\x00\\x00\\x00\\x00\\x00\\x00\\x00\\x00\\x00\\x00\\x00\\x00\\x00\\x00\\x00\\x00\\x00\\x00\\x00\\x00\\x00\\x00\\x00\\x00\\x00\\x00\\x00\\x00\\x00\\x00\\x00\\x00\\x00\\x00\\x00\\x00\\x00\\x00\\x00\\x00\\x00\\x00\\x00\\x00\\x00\\x00\\x00\\x00\\x00\\x00\\x00\\x00\\x00\\x00\\x00\\x00\\x00\\x00\\x00\\x00\\x00\\x00\\x00\\x00\\x00\\x00\\x00\\x00\\x00\\x00\\x00\\x00\\x00\\x00\\x00\\x00\\x00\\x00\\x00\\x00\\x00\\x00\\x00\\x00\\x00\\x00\\x00\\x00\\x00\\x00\\x00\\x00\\x00\\x00\\x00\\x00\\x00\\x00\\x00\\x00\\x00\\x00\\x00\\x00\\x00\\x00\\x00\\x00\\x00\\x00\\x00\\x00\\x00\\x00\\x00\\x00\\x00\\x00\\x00\\x00\\x00\\x00\\x00\\x00\\x00\\x00\\x00\\x00\\x00\\x00\\x00\\x00\\x00\\x00\\x00\\x00\\x00\\x00\\x00\\x00\\x00\\x00\\x00\\x00\\x00\\x00\\x00\\x00\\x00\\x00\\x00\\x00\\x00\\x00\\x00\\x00\\x00\\x00\\x00\\x00\\x00\\x00\\x00\\x00\\x00\\x00\\x00\\x00\\x00\\x00\\x00\\x00\\x00\\x00\\x00\\x00\\x00\\x00\\x00\\x00\\x00\\x00\\x00\\x00\\x00\\x00\\x00\\x00\\x00\\x00\\x00\\x00\\x00\\x00\\x00\\x00\\x00\\x00\\x00\\x00\\x00\\x00\\x00\\x00\\x00\\x00\\x00\\x00\\x00\\x00\\x00\\x00\\x00\\x00\\x00\\x00\\x00\\x00\\x00\\x00\\x00\\x00\\x00\\x00\\x00\\x00\\x00\\x00\\x00\\x00\\x00\\x00\\x00\\x00\\x00\\x00\\x00\\x00\\x00\\x00\\x00\\x00\\x00\\x00\\x00\\x00\\x00\\x00\\x00\\x00\\x00\\x00\\x00\\x00\\x00\\x00\\x00\\x00\\x00\\x00\\x00\\x00\\x00\\x00\\x00\\x00\\x00\\x00\\x00\\x00\\x00\\x00\\x00\\x00\\x00\\x00\\x00\\x00\\x00\\x00\\x00\\x00\\x00\\x00\\x00\\x00\\x00\\x00\\x00\\x00\\x00\\x00\\x00\\x00\\x00\\x00\\x00\\x00\\x00\\x00\\x00\\x00\\x00\\x00\\x00\\x00\\x00\\x00\\x00\\x00\\x00\\x00\\x00\\x00\\x00\\x00\\x00\\x00\\x00\\x00\\x00\\x00\\x00\\x00\\x00\\x00\\x00\\x00\\x00\\x00\\x00\\x00\\x00\\x00\\x00\\x00\\x00\\x00\\x00\\x00\\x00\\x00\\x00\\x00\\x00\\x00\\x00\\x00\\x00\\x00\\x00\\x00\\x00\\x00\\x00\\x00\\x00\\x00\\x00\\x00\\x00\\x00\\x00\\x00\\x00\\x00\\x00\\x00\\x00\\x00\\x00\\x00\\x00\\x00\\x00\\x00\\x00\\x00\\x00\\x00\\x00\\x00\\x00\\x00\\x00\\x00\\x00\\x00\\x00\\x00\\x00\\x00\\x00\\x00\\x00\\x00\\x00\\x00\\x00\\x00\\x00\\x00\\x00\\x00\\x00\\x00\\x00\\x00\\x00\\x00\\x00\\x00\\x00\\x00\\x00\\x00\\x00\\x00\\x00\\x00\\x00\\x00\\x00\\x00\\x00\\x00\\x00\\x00\\x00\\x00\\x00\\x00\\x00\\x00\\x00\\x00\\x00\\x00\\x00\\x00\\x00\\x00\\x00\\x00\\x00\\x00\\x00\\x00\\x00\\x00\\x00\\x00\\x00\\x00\\x00\\x00\\x00\\x00\\x00\\x00\\x00\\x00\\x00\\x00\\x00\\x00\\x00\\x00\\x00\\x00\\x00\\x00\\x00\\x00\\x00\\x00\\x00\\x00\\x00\\x00\\x00\\x00\\x00\\x00\\x00\\x00\\x00\\x00\\x00\\x00\\x00\\x00\\x00\\x00\\x00\\x00\\x00\\x00\\x00\\x00\\x00\\x00\\x00\\x00\\x00\\x00\\x00\\x00\\x00\\x00\\x00\\x00\\x00\\x00\\x00\\x00\\x00\\x00\\x00\\x00\\x00\\x00\\x00\\x00\\x00\\x00\\x00\\x00\\x00\\x00\\x00\\x00\\x00\\x00\\x00\\x00\\x00\\x00\\x00\\x00\\x00\\x00\\x00\\x00\\x00\\x00\\x00\\x00\\x00\\x00\\x00\\x00\\x00\\x00\\x00\\x00\\x00\\x00\\x00\\x00\\x00\\x00\\x00\\x00\\x00\\x00\\x00\\x00\\x00\\x00\\x00\\x00\\x00\\x00\\x01\\x04DSDB\\x00\\x00\\x00\\x01\\x00\\x00\\x00\\x00\\x00\\x00\\x00\\x00\\x00\\x00\\x00\\x00\\x00\\x00\\x00\\x00\\x00\\x00\\x00\\x00\\x00\\x00\\x00\\x01\\x00\\x00\\x00`\\x00\\x00\\x00\\x00\\x00\\x00\\x00\\x01\\x00\\x00\\x00\\x80\\x00\\x00\\x00\\x01\\x00\\x00\\x01\\x00\\x00\\x00\\x00\\x01\\x00\\x00\\x02\\x00\\x00\\x00\\x00\\x01\\x00\\x00\\x04\\x00\\x00\\x00\\x00\\x02\\x00\\x00\\x08\\x00\\x00\\x00\\x18\\x00\\x00\\x00\\x00\\x00\\x00\\x00\\x00\\x01\\x00\\x00 \\x00\\x00\\x00\\x00\\x01\\x00\\x00@\\x00\\x00\\x00\\x00\\x01\\x00\\x00\\x80\\x00\\x00\\x00\\x00\\x01\\x00\\x01\\x00\\x00\\x00\\x00\\x00\\x01\\x00\\x02\\x00\\x00\\x00\\x00\\x00\\x01\\x00\\x04\\x00\\x00\\x00\\x00\\x00\\x01\\x00\\x08\\x00\\x00\\x00\\x00\\x00\\x01\\x00\\x10\\x00\\x00\\x00\\x00\\x00\\x01\\x00 \\x00\\x00\\x00\\x00\\x00\\x01\\x00@\\x00\\x00\\x00\\x00\\x00\\x01\\x00\\x80\\x00\\x00\\x00\\x00\\x00\\x01\\x01\\x00\\x00\\x00\\x00\\x00\\x00\\x01\\x02\\x00\\x00\\x00\\x00\\x00\\x00\\x01\\x04\\x00\\x00\\x00\\x00\\x00\\x00\\x01\\x08\\x00\\x00\\x00\\x00\\x00\\x00\\x01\\x10\\x00\\x00\\x00\\x00\\x00\\x00\\x01 \\x00\\x00\\x00\\x00\\x00\\x00\\x01@\\x00\\x00\\x00\\x00\\x00\\x00\\x00\\x00\\x00\\x00\\x00\\x00\\x00\\x00\\x00\\x00\\x00\\x00\\x00\\x00\\x00\\x00\\x00\\x00\\x00\\x00\\x00\\x00\\x00\\x00\\x00\\x00\\x00\\x00\\x00\\x00\\x00\\x00\\x00\\x00\\x00\\x00\\x00\\x00\\x00\\x00\\x00\\x00\\x00\\x00\\x00\\x00\\x00\\x00\\x00\\x00\\x00\\x00\\x00\\x00\\x00\\x00\\x00\\x00\\x00\\x00\\x00\\x00\\x00\\x00\\x00\\x00\\x00\\x00\\x00\\x00\\x00\\x00\\x00\\x00\\x00\\x00\\x00\\x00\\x00\\x00\\x00\\x00\\x00\\x00\\x00\\x00\\x00\\x00\\x00\\x00\\x00\\x00\\x00\\x00\\x00\\x00\\x00\\x00\\x00\\x00\\x00\\x00\\x00\\x00\\x00\\x00\\x00\\x00\\x00\\x00\\x00\\x00\\x00\\x00\\x00\\x00\\x00\\x00\\x00\\x00\\x00\\x00\\x00\\x00\\x00\\x00\\x00\\x00\\x00\\x00\\x00\\x00\\x00\\x00\\x00\\x00\\x00\\x00\\x00\\x00\\x00\\x00\\x00\\x00\\x00\\x00\\x00\\x00\\x00\\x00\\x00\\x00\\x00\\x00\\x00\\x00\\x00\\x00\\x00\\x00\\x00\\x00\\x00\\x00\\x00\\x00\\x00\\x00\\x00\\x00\\x00\\x00\\x00\\x00\\x00\\x00\\x00\\x00\\x00\\x00\\x00\\x00\\x00\\x00\\x00\\x00\\x00\\x00\\x00\\x00\\x00\\x00\\x00\\x00\\x00\\x00\\x00\\x00\\x00\\x00\\x00\\x00\\x00\\x00\\x00\\x00\\x00\\x00\\x00\\x00\\x00\\x00\\x00\\x00\\x00\\x00\\x00\\x00\\x00\\x00\\x00\\x00\\x00\\x00\\x00\\x00\\x00\\x00\\x00\\x00\\x00\\x00\\x00\\x00\\x00\\x00\\x00\\x00\\x00\\x00\\x00\\x00\\x00\\x00\\x00\\x00\\x00\\x00\\x00\\x00\\x00\\x00\\x00\\x00\\x00\\x00\\x00\\x00\\x00\\x00\\x00\\x00\\x00\\x00\\x00\\x00\\x00\\x00\\x00\\x00\\x00\\x00\\x00\\x00\\x00\\x00\\x00\\x00\\x00\\x00\\x00\\x00\\x00\\x00\\x00\\x00\\x00\\x00\\x00\\x00\\x00\\x00\\x00\\x00\\x00\\x00\\x00\\x00\\x00\\x00\\x00\\x00\\x00\\x00\\x00\\x00\\x00\\x00\\x00\\x00\\x00\\x00\\x00\\x00\\x00\\x00\\x00\\x00\\x00\\x00\\x00\\x00\\x00\\x00\\x00\\x00\\x00\\x00\\x00\\x00\\x00\\x00\\x00\\x00\\x00\\x00\\x00\\x00\\x00\\x00\\x00\\x00\\x00\\x00\\x00\\x00\\x00\\x00\\x00\\x00\\x00\\x00\\x00\\x00\\x00\\x00\\x00\\x00\\x00\\x00\\x00\\x00\\x00\\x00\\x00\\x00\\x00\\x00\\x00\\x00\\x00\\x00\\x00\\x00\\x00\\x00\\x00\\x00\\x00\\x00\\x00\\x00\\x00\\x00\\x00\\x00\\x00\\x00\\x00\\x00\\x00\\x00\\x00\\x00\\x00\\x00\\x00\\x00\\x00\\x00\\x00\\x00\\x00\\x00\\x00\\x00\\x00\\x00\\x00\\x00\\x00\\x00\\x00\\x00\\x00\\x00\\x00\\x00\\x00\\x00\\x00\\x00\\x00\\x00\\x00\\x00\\x00\\x00\\x00\\x00\\x00\\x00\\x00\\x00\\x00\\x00\\x00\\x00\\x00\\x00\\x00\\x00\\x00\\x00\\x00\\x00\\x00\\x00\\x00\\x00\\x00\\x00\\x00\\x00\\x00\\x00\\x00\\x00\\x00\\x00\\x00\\x00\\x00\\x00\\x00\\x00\\x00\\x00\\x00\\x00\\x00\\x00\\x00\\x00\\x00\\x00\\x00\\x00\\x00\\x00\\x00\\x00\\x00\\x00\\x00\\x00\\x00\\x00\\x00\\x00\\x00\\x00\\x00\\x00\\x00\\x00\\x00\\x00\\x00\\x00\\x00\\x00\\x00\\x00\\x00\\x00\\x00\\x00\\x00\\x00\\x00\\x00\\x00\\x00\\x00\\x00\\x00\\x00\\x00\\x00\\x00\\x00\\x00\\x00\\x00\\x00\\x00\\x00\\x00\\x00\\x00\\x00\\x00\\x00\\x00\\x00\\x00\\x00\\x00\\x00\\x00\\x00\\x00\\x00\\x00\\x00\\x00\\x00\\x00\\x00\\x00\\x00\\x00\\x00\\x00\\x00\\x00\\x00\\x00\\x00\\x00\\x00\\x00\\x00\\x00\\x00\\x00\\x00\\x00\\x00\\x00\\x00\\x00\\x00\\x00\\x00\\x00\\x00\\x00\\x00\\x00\\x00\\x00\\x00\\x00\\x00\\x00\\x00\\x00\\x00\\x00\\x00\\x00\\x00\\x00\\x00\\x00\\x00\\x00\\x00\\x00\\x00\\x00\\x00\\x00\\x00\\x00\\x00\\x00\\x00\\x00\\x00\\x00\\x00\\x00\\x00\\x00\\x00\\x00\\x00\\x00\\x00\\x00\\x00\\x00\\x00\\x00\\x00\\x00\\x00\\x00\\x00\\x00\\x00\\x00\\x00\\x00\\x00\\x00\\x00\\x00\\x00\\x00\\x00\\x00\\x00\\x00\\x00\\x00\\x00\\x00\\x00\\x00\\x00\\x00\\x00\\x00\\x00\\x00\\x00\\x00\\x00\\x00\\x00\\x00\\x00\\x00\\x00\\x00\\x00\\x00\\x00\\x00\\x00\\x00\\x00\\x00\\x00\\x00\\x00\\x00\\x00\\x00\\x00\\x00\\x00\\x00\\x00\\x00\\x00\\x00\\x00\\x00\\x00\\x00\\x00\\x00\\x00\\x00\\x00\\x00\\x00\\x00\\x00\\x00\\x00\\x00\\x00\\x00\\x00\\x00\\x00\\x00\\x00\\x00\\x00\\x00\\x00\\x00\\x00\\x00\\x00\\x00\\x00\\x00\\x00\\x00\\x00\\x00\\x00\\x00\\x00\\x00\\x00\\x00\\x00\\x00\\x00\\x00\\x00\\x00\\x00\\x00\\x00\\x00\\x00\\x00\\x00\\x00\\x00\\x00\\x00\\x00\\x00\\x00\\x00\\x00\\x00\\x00\\x00\\x00\\x00\\x00\\x00\\x00\\x00\\x00\\x00\\x00\\x00\\x00\\x00\\x00\\x00\\x00\\x00'\n",
      "b'2/xj-meng.html\\n2/undergraduate.html\\n2/traditions.html\\n3/vt-icorps.html\\n3/phd-recipients.html\\n3/Computer-Science-Press-Releases.html\\n3/Undergradhandbook.html\\n3/ForceAdd.html\\n3/NewStudentFAQ.html\\n3/Prospective.html\\n4/summer-winter-programs.html\\n4/political-science.html\\n4/parents-and-families.html\\n4/management.html\\n4/mentoring.html\\n4/sociology.html\\n4/music.html\\n4/job-opportunities.html\\n4/launch-of-new-hokie-owned-business-directory.html\\n5/facts-about-virginia-tech.html\\n5/international-studies.html\\n5/human-development.html\\n5/environmental-conservation-and-society.html\\n5/inclusion-diversity.html\\n6/contacts.html\\n6/current-students.html\\n6/criminology.html\\n6/alumni.html\\n6/advertising.html\\n6/big-ideas.html\\n6/corps-cadets.html\\n'\n",
      "b'0/give-now\\n0/choose-illinois-computer-science\\n0/department-college-and-campus-events\\n0/computer-science-music\\n0/final-exam-thesis-defense\\n0/dskatz\\n0/data-and-information-systems\\n0/CI-Fellowships-2021-support-postdoc-research\\n0/financial-aid\\n0/celebration\\n0/bigdog\\n0/faculty-positions\\n0/computer-science-visionary-scholarship-donors\\n0/cs-undergraduate-degree-options-faq\\n0/chairs-and-professorships\\n0/dchen\\n0/gerard-salton-award-provides-opportunity-for-zhai-to-reflect-before-looking-forward-again\\n1/professional-master-computer-science-mcs-program\\n1/online-mcs-faqs\\n1/abdelzaher-leading-DARPA-effort-understand-how-people-respond-influence-messaging\\n1/5-year-bs-ms-program\\n1/values\\n1/new-grant-helps-illinois-cs-develop-programs-to-support-undergraduate-women-in-cs\\n1/qualifying-exam\\n1/national-international-awards\\n1/media-coverage\\n1/online-master-computer-science\\n1/overview-cs-student-life\\n1/w-hwu\\n1/policies-and-procedures\\n1/loars-passion-for-expanding-possibilities-in-computing-leads-to-support-of-ican\\n1/mgolpar\\n1/wendycho\\n2/landmarks.html\\n2/calendars.html\\n2/honors\\n2/facts.html\\n2/hengji\\n2/tribal-initatives.html\\n2/honors.html\\n2/research.html\\n2/graduate-fellowships-awards\\n2/k-12-resources\\n2/ican-faqs\\n2/jianpeng\\n2/tbretl\\n2/calendars_process.html\\n2/undergraduate.html\\n2/history-timeline\\n2/k-12-outreach\\n2/ican\\n2/transfer.html\\n2/systems-and-networking\\n2/academics.html\\n2/honor-code\\n2/theory-and-algorithms\\n2/indy\\n3/vt-icorps.html\\n3/Computer-Science-Press-Releases.html\\n3/Undergradhandbook.html\\n3/CS1054.html\\n3/Forms.html\\n3/university-studies-undecided.html\\n3/ProspectiveStudents.html\\n3/venture_opportunities.html\\n3/CS1044.html\\n3/Giving.html\\n3/Assistantships.html\\n3/Undergraduate.html\\n3/veterans.html\\n3/virtual-vt-visit.html\\n3/visit.html\\n3/vt-i-corps-program.html\\n3/COVID19.html\\n3/Administrivia.html\\n3/NewStudentFAQ.html\\n3/Prospective.html\\n3/BSMS.html\\n4/italian.html\\n4/status.html\\n4/nanomedicine.html\\n4/poc-grant-program.html\\n4/public-health.html\\n4/mathematics.html\\n4/physics.html\\n4/research.html\\n4/mechanical-engineering.html\\n4/open-house.html\\n4/landscape-architecture.html\\n4/pre-health-professions.html\\n4/pre-law.html\\n4/mentoring.html\\n4/pre-veterinary-medicine.html\\n4/staff.html\\n4/pre-medicine.html\\n4/mining-and-mineral-engineering.html\\n4/site-map.html\\n4/COVID19.html\\n4/japanese-studies.html\\n4/locations.html\\n5/italian.html\\n5/foundation-relations.html\\n5/housing copy.html\\n5/hokie-stone.html\\n5/humanities-for-public-service.html\\n5/electrical-engineering.html\\n5/geosciences.html\\n5/english.html\\n5/experimental-neuroscience.html\\n5/inclusive-vt-rdr.html\\n5/frequently-asked-questions.html\\n5/geographic-information-systems.html\\n5/german.html\\n5/first-generation-college-institute.html\\n5/geography.html\\n5/inclusion-diversity.html\\n5/finaid-cares-act-disclosure.html\\n5/graduate.html\\n5/first-generation-students.html\\n5/french.html\\n6/black-college-institute.html\\n6/classical-studies.html\\n6/arts.html\\n6/calendar.html\\n6/chinese-studies.html\\n6/digital-marketing-strategy.html\\n6/criminology.html\\n6/art-history.html\\n6/dairy-science.html\\n6/creative-technologies.html\\n6/civil-engineering.html\\n6/discover-blacksburg.html\\n6/cost-and-aid.html\\n6/biological-sciences.html\\n6/cognitive-and-behavioral-neuroscience.html\\n6/admissions.html\\n6/dei-series.html\\n6/accounting-and-information-systems.html\\n6/consumer-studies.html\\n6/athletics.html\\n6/campus-highlights.html\\n'\n",
      "b'0/cs-student-opportunity-series-cs-sos\\n0/faculty-support-contacts\\n0/give-now\\n0/delgosha\\n0/ghose\\n0/davis68\\n0/bioinformatics-and-computational-biology\\n0/bpbailey\\n0/covid-19-projects\\n0/bs-statistics-computer-science\\n0/computer-science-chemistry\\n0/dmnicol\\n0/contact\\n0/application-deadlines\\n0/c-gear\\n0/glherman\\n0/andreask\\n0/choose-illinois-computer-science\\n0/graduate-advising-contacts\\n0/department-college-and-campus-events\\n0/featured-lectures\\n0/caesar\\n0/computer-science-music\\n0/arindamb\\n0/bs-computer-science\\n0/career-services\\n0/camillec\\n0/donor-profiles\\n0/cgunter\\n0/challen\\n0/csambassadors\\n0/emeritus-faculty\\n0/ca-training\\n0/charithm\\n0/cs-x-degree-requirements\\n0/dakshita\\n0/final-exam-thesis-defense\\n0/dskatz\\n0/daf\\n0/chackoge\\n0/features\\n0/application-checklist\\n0/data-and-information-systems\\n0/egunter\\n0/facilities-shipping-and-receiving\\n0/gdallen\\n0/CI-Fellowships-2021-support-postdoc-research\\n0/architecture-compilers-and-parallel-computing\\n0/computer-science-astronomy\\n0/computer-science-philosophy\\n0/financial-aid\\n0/course-hero-acquires-iconic-study-guides-cliffsnotes\\n0/facebooks-northwest-lead-envisions-big-future-in-virtual-reality\\n0/clblake\\n0/epi-exam-requirements\\n0/application-fee-waivers\\n0/computers-and-education\\n0/emer-kuck\\n0/dhoiem\\n0/communications-engagement-team\\n0/e-news\\n0/courses\\n0/celebration\\n0/girju\\n0/bs-mathematics-computer-science\\n0/bigdog\\n0/faculty-positions\\n0/computer-science-geography\\n0/colleenl\\n0/computer-science-crop-sciences\\n0/contact-us\\n0/governance\\n0/artificial-intelligence\\n0/friedman\\n0/department-news\\n0/computer-science-visionary-scholarship-donors\\n0/batesa\\n0/conferences-workshops\\n0/data-structures-proficiency-exam\\n0/girishc\\n0/computer-science-anthropology\\n0/cs-undergraduate-degree-options-faq\\n0/cskickstart\\n0/bcosman\\n0/donnacox\\n0/chairs-and-professorships\\n0/chekuri\\n0/campus-master-computer-science\\n0/dchen\\n0/angrave\\n0/computer-science-economics\\n0/business-office\\n0/department-faculty\\n0/Chowdhary-2021-Illinois-Innovtion-Network-Award\\n0/best-papers-roundup-August-2021\\n0/gerard-salton-award-provides-opportunity-for-zhai-to-reflect-before-looking-forward-again\\n0/eshwar\\n0/computer-science-animal-sciences\\n0/computer-science-linguistics\\n0/computer-science-advertising\\n1/phd-program-study-process\\n1/radhikam\\n1/marinov\\n1/alawini\\n1/mdbailey\\n1/professional-master-computer-science-mcs-program\\n1/postdocs\\n1/maa\\n1/reyhaneh\\n1/mchenry\\n1/mickunas\\n1/online-mcs-faqs\\n1/phd-time-limits-milestones\\n1/recent-phd-alumni\\n1/mrebl\\n1/ygertner\\n1/ymn\\n1/phd-requirements\\n1/ai4all\\n1/lukeo\\n1/yunhuang\\n1/lawrie\\n1/agha\\n1/affiliate-faculty\\n1/abdelzaher-leading-DARPA-effort-understand-how-people-respond-influence-messaging\\n1/lumetta\\n1/5-year-bs-ms-program\\n1/klevchen\\n1/lgui\\n1/nanjiang\\n1/accreditation\\n1/ms-general\\n1/nagi\\n1/rcunnin2\\n1/programming-languages-formal-methods-and-software-engineering\\n1/office-department-head\\n1/yihchun\\n1/sanmi\\n1/phd-ms-thesis-format-review-guidelines\\n1/mitras\\n1/resources\\n1/alumni-awards-past-recipients\\n1/rutameht\\n1/kkhauser\\n1/yongjoo\\n1/values\\n1/new-grant-helps-illinois-cs-develop-programs-to-support-undergraduate-women-in-cs\\n1/nikita\\n1/postdoctoral\\n1/minor-computer-science\\n1/lavalle\\n1/5-year-bs-mcs-program\\n1/qualifying-exam\\n1/padua\\n1/reconstruct-raises-series-b-advance-construction-management\\n1/klara\\n1/moralesa\\n1/rkiyer\\n1/additional-required-application-materials\\n1/national-international-awards\\n1/phd-general\\n1/minhdo\\n1/ranjitha\\n1/media-coverage\\n1/miforbes\\n1/ms-program\\n1/ways-give\\n1/sariel\\n1/ms-bioinformatics-program\\n1/online-master-computer-science-data-science\\n1/members\\n1/mcs-campus\\n1/online-master-computer-science\\n1/wgropp\\n1/mnowak1\\n1/lbo\\n1/misailo\\n1/overview-cs-student-life\\n1/meseguer\\n1/official-forms\\n1/rakeshk\\n1/w-hwu\\n1/policies-and-procedures\\n1/adjunct-faculty\\n1/loars-passion-for-expanding-possibilities-in-computing-leads-to-support-of-ican\\n1/pbg\\n1/mgolpar\\n1/namato\\n1/wendycho\\n1/rhc\\n1/mattox\\n1/ludaesch\\n1/nskim\\n1/sadve\\n1/zaher\\n1/wtkramer\\n1/salesforces-codet5-system-can-understand-and-generate-code\\n1/preliminary-exam\\n1/milenkov\\n1/rhk\\n2/spbhat2\\n2/xj-meng.html\\n2/statistics\\n2/kale\\n2/karthe\\n2/landmarks.html\\n2/calendars.html\\n2/accessibility.html\\n2/security-and-privacy\\n2/kirlik\\n2/hanj\\n2/quadcam.html\\n2/jingrui\\n2/impact-report-publications\\n2/staff-awards\\n2/copyright.html\\n2/technical-conferences-workshops\\n2/index.html\\n2/rankings_grad.html\\n2/impact-illinois-cs-degree\\n2/silva-leads-team-studying-interconnections-between-online-learning-equity-access\\n2/shj\\n2/honors\\n2/idoia\\n2/university-illinois-awards\\n2/contact.html\\n2/facts.html\\n2/almacam.html\\n2/student-organizations\\n2/hengji\\n2/tribal-initatives.html\\n2/jdiesner\\n2/honors.html\\n2/awards.html\\n2/research.html\\n2/rankings.html\\n2/instructional-development-team\\n2/rankings_ug.html\\n2/kcchang\\n2/haitham\\n2/graduate-fellowships-awards\\n2/k-12-resources\\n2/soc1024\\n2/jugal\\n2/this-ai-startup-aims-to-be-a-one-stop-writing-platform\\n2/ican-faqs\\n2/jianpeng\\n2/slazebni\\n2/tbretl\\n2/staff-positions\\n2/senior-design\\n2/graduating-phd-students\\n2/interactive-computing\\n2/scientific-computing\\n2/harandi\\n2/student-resources\\n2/kamin\\n2/shieh-li-scholarship\\n2/graduate-advising-office\\n2/calendars_process.html\\n2/undergraduate.html\\n2/heath\\n2/transfer-students\\n2/emergency.html\\n2/history-timeline\\n2/hl314\\n2/k-12-outreach\\n2/jch\\n2/ican\\n2/undergraduate-advising\\n2/saurabhg\\n2/transfer.html\\n2/employment.html\\n2/wildlife-conservation.html\\n2/systems-and-networking\\n2/jhasegaw\\n2/vadve\\n2/kesh\\n2/academics.html\\n2/indexs.html\\n2/guidelines-forming-phd-committee\\n2/honor-code\\n2/leadership.html\\n2/j-liu1\\n2/hclane\\n2/sjp\\n2/traditions.html\\n2/kingli\\n2/undergraduate-advising-office\\n2/undergraduate-forms\\n2/kkarahal\\n2/theory-and-algorithms\\n2/tours.html\\n2/graduate-student-annual-evaluation-process\\n2/indy\\n2/kindrtnk\\n2/jianh\\n2/prospective.html\\n2/juliahmr\\n2/tmc\\n3/CS1014.html\\n3/CS4304.html\\n3/CS4884.html\\n3/CS3984.html\\n3/CS3654.html\\n3/featured-spotlight.html\\n3/CS3414.html\\n3/CS1604.html\\n3/FAQs.html\\n3/Degrees.html\\n3/cs-source-membership.html\\n3/CS3634.html\\n3/index.html\\n3/CS4124.html\\n3/vt-icorps.html\\n3/CS4974.html\\n3/phd-recipients.html\\n3/Computer-Science-Press-Releases.html\\n3/CS4104.html\\n3/Undergradhandbook.html\\n3/MSThesis.html\\n3/CS2506.html\\n3/CS1054.html\\n3/cs-source-events.html\\n3/CS3824.html\\n3/Scholarships.html\\n3/ApplicationDeadlines.html\\n3/CS3214.html\\n3/Forms.html\\n3/CS4504.html\\n3/university-studies-undecided.html\\n3/CS4284.html\\n3/CS4114.html\\n3/CS4944.html\\n3/courses.html\\n3/CS3604.html\\n3/ProspectiveStudents.html\\n3/venture_opportunities.html\\n3/CS1044.html\\n3/CS4704.html\\n3/CS1064.html\\n3/OptionsCertificates.html\\n3/Giving.html\\n3/CS2974.html\\n3/Assistantships.html\\n3/fall-career-fair.html\\n3/webster-santos.html\\n3/university-leadership.html\\n3/sp22grforceadd.html\\n3/CS4414.html\\n3/CS4654.html\\n3/CS4204.html\\n3/CS2104.html\\n3/CS1114.html\\n3/Undergraduate.html\\n3/CS1944.html\\n3/CS3754.html\\n3/CS3304.html\\n3/ForceAdd.html\\n3/CS3714.html\\n3/veterans.html\\n3/CS4784.html\\n3/CS2304.html\\n3/CS4570.html\\n3/StudentServices.html\\n3/CS4634.html\\n3/CS4264.html\\n3/CS4804.html\\n3/vtip.html\\n3/virtual-vt-visit.html\\n3/CS3744.html\\n3/CS2505.html\\n3/visit.html\\n3/CS2114.html\\n3/CS4994.html\\n3/CS4214.html\\n3/CS4644.html\\n3/CS1124.html\\n3/CS4234.html\\n3/cs-source.html\\n3/CS4824.html\\n3/StudentServices..html\\n3/vt-i-corps-program.html\\n3/COVID19.html\\n3/ContactsRoles.html\\n3/CS4624.html\\n3/Courses2.html\\n3/water-resources-policy-and-management.html\\n3/Administrivia.html\\n3/CS3724.html\\n3/NewStudentFAQ.html\\n3/Prospective.html\\n3/CS3704.html\\n3/CS4254.html\\n3/CS4604.html\\n3/BSMS.html\\n3/Funding.html\\n3/CS3114.html\\n4/agribusiness-management-and-entrepreneurship.html\\n4/religion-and-culture.html\\n4/polymer-chemistry.html\\n4/systems-biology.html\\n4/italian.html\\n4/sustainable-biomaterials.html\\n4/judaic-studies.html\\n4/agricultural-sciences.html\\n4/online-learning.html\\n4/aluminate.html\\n4/national-security-and-foreign-affairs.html\\n4/team.html\\n4/property-management.html\\n4/agricultural-technology.html\\n4/status.html\\n4/marketing-management.html\\n4/landscape-horticulture-and-design.html\\n4/link.html\\n4/nanomedicine.html\\n4/summer-winter-programs.html\\n4/latin.html\\n4/raytheon-vt-ai-research.html\\n4/theatre-arts.html\\n4/microbiology.html\\n4/launch.html\\n4/liberal-arts-and-human-sciences-undecided.html\\n4/maps.html\\n4/office-hours.html\\n4/ocean-engineering.html\\n4/poc-grant-program.html\\n4/public-health.html\\n4/mathematics.html\\n4/philosophy-politics-and-economics.html\\n4/agribusiness.html\\n4/license.html\\n4/libraries.html\\n4/quantum.html\\n4/physics.html\\n4/research.html\\n4/rankings.html\\n4/mechanical-engineering.html\\n4/space-event-registration.html\\n4/materials-science-and-engineering.html\\n4/professional-and-technical-writing.html\\n4/science-technology-and-society.html\\n4/principles-of-community.html\\n4/packaging-systems-and-design.html\\n4/rafael-davalos.html\\n4/open-house.html\\n4/russian.html\\n4/political-science.html\\n4/public-relations.html\\n4/mathematics-education.html\\n4/landscape-architecture.html\\n4/news.html\\n4/smart-and-sustainable-cities.html\\n4/statistics.html\\n4/resources.html\\n4/living-learning-communities.html\\n4/meteorology.html\\n4/robert-gourdie.html\\n4/parents-and-families.html\\n4/multimedia-journalism.html\\n4/pre-education.html\\n4/management.html\\n4/profiles.html\\n4/pre-health-professions.html\\n4/spanish.html\\n4/language-sciences.html\\n4/real-estate.html\\n4/pre-law.html\\n4/majors.html\\n4/strategic-plan.html\\n4/mentoring.html\\n4/marketing.html\\n4/medicinal-chemistry.html\\n4/pre-veterinary-medicine.html\\n4/online-redir.html\\n4/staff.html\\n4/pre-medicine.html\\n4/minors.html\\n4/mining-and-mineral-engineering.html\\n4/nanoscience.html\\n4/sports-media-and-analytics.html\\n4/site-map.html\\n4/sociology.html\\n4/residential-environments-and-design.html\\n4/COVID19.html\\n4/studio-art.html\\n4/study-abroad.html\\n4/space.html\\n4/philosophy.html\\n4/agricultural-and-applied-economics.html\\n4/music.html\\n4/privacy.html\\n4/japanese-studies.html\\n4/job-opportunities.html\\n4/psychology.html\\n4/license-launch.html\\n4/locations.html\\n4/launch-of-new-hokie-owned-business-directory.html\\n5/experiential-learning.html\\n5/italian.html\\n5/food-science-and-technology.html\\n5/immigration.html\\n5/industrynetworks.html\\n5/engagement-outreach.html\\n5/exploring-architecture-and-urban-studies-undecided.html\\n5/equine-science.html\\n5/english-creative-writing.html\\n5/finance.html\\n5/housing.html\\n5/exploring-life-sciences.html\\n5/international-business.html\\n5/index.html\\n5/graphic-design.html\\n5/forestry.html\\n5/environmental-resources-management.html\\n5/equal-opportunity.html\\n5/foundation-relations.html\\n5/environmental-economics.html\\n5/emergency-contacts.html\\n5/graduate-school.html\\n5/environmental-economics-management-and-policy.html\\n5/entrepreneurship-new-venture-growth.html\\n5/awards.html\\n5/biology.html\\n5/industrial-and-systems-engineering.html\\n5/health-wellness.html\\n5/history-and-social-sciences-education.html\\n5/interdisciplinary-engineering-and-science.html\\n5/board-of-directors-ex-officio.html\\n5/facts-about-virginia-tech.html\\n5/fish-conservation.html\\n5/global-engagement.html\\n5/humanities-science-and-environment.html\\n5/environmental-policy-and-planning.html\\n5/gender-science-and-technology.html\\n5/housing copy.html\\n5/hokie-stone.html\\n5/humanities-for-public-service.html\\n5/electrical-engineering.html\\n5/international-trade-and-development.html\\n5/human-nutrition-foods-and-exercise.html\\n5/international-studies.html\\n5/geosciences.html\\n5/french-for-business-advanced.html\\n5/english-language-arts-education.html\\n5/environmental-science.html\\n5/english.html\\n5/faculty-inventors.html\\n5/experimental-neuroscience.html\\n5/horticulture.html\\n5/inclusive-vt-rdr.html\\n5/frequently-asked-questions.html\\n5/geographic-information-systems.html\\n5/history.html\\n5/interior-design.html\\n5/economics.html\\n5/international-relations.html\\n5/engineering-science-and-mechanics.html\\n5/future-students.html\\n5/european-and-transatlantic-studies.html\\n5/german.html\\n5/elementary-education-pk-6.html\\n5/global-business-practices-to-improve-the-human-condition.html\\n5/english-literature.html\\n5/integrative-health-and-wellness.html\\n5/global-food-security-and-health.html\\n5/first-generation-college-institute.html\\n5/geography.html\\n5/food-and-health-systems-economics.html\\n5/green-engineering.html\\n5/human-development.html\\n5/french-for-business.html\\n5/event-and-experience-management.html\\n5/environmental-conservation-and-society.html\\n5/innovation.html\\n5/human-computer-interaction.html\\n5/entomology.html\\n5/hospitality-and-tourism-management.html\\n5/environmental-informatics.html\\n5/fashion-merchandising-and-design.html\\n5/general-engineering.html\\n5/family-and-consumer-sciences.html\\n5/integrated-security.html\\n5/faculty-and-staff.html\\n5/inclusion-diversity.html\\n5/industrial-design.html\\n5/explore-science-undecided.html\\n5/english-language-sciences.html\\n5/finaid-cares-act-disclosure.html\\n5/industry-and-partners.html\\n5/international-agriculture-and-life-sciences.html\\n5/international-public-policy.html\\n5/exploring-natural-resources.html\\n5/graduate.html\\n5/first-generation-students.html\\n5/french.html\\n6/campus-life.html\\n6/computer-engineering.html\\n6/contacts.html\\n6/black-college-institute.html\\n6/current-students.html\\n6/biological-systems-engineering.html\\n6/adaptive-brain-and-behavior.html\\n6/computational-and-systems-neuroscience.html\\n6/cyber-security.html\\n6/daily-campus-visit.html\\n6/accessibility.html\\n6/cinema.html\\n6/classical-studies.html\\n6/biomedical-engineering.html\\n6/consumer-info.html\\n6/classical-languages.html\\n6/astronomy.html\\n6/arts.html\\n6/calendar.html\\n6/chinese-studies.html\\n6/clinical-neuroscience.html\\n6/about.html\\n6/contact.html\\n6/career-professional-development.html\\n6/continuing-professional-education.html\\n6/building-construction.html\\n6/biological-physics.html\\n6/ecological-cities.html\\n6/digital-marketing-strategy.html\\n6/community-economic-development.html\\n6/crop-and-soil-environmental-sciences.html\\n6/biology.html\\n6/animal-and-poultry-sciences.html\\n6/biodiversity-conservation.html\\n6/criminology.html\\n6/apply.html\\n6/africana-studies.html\\n6/data-and-decisions.html\\n6/art-history.html\\n6/board-of-directors-ex-officio.html\\n6/career-and-technical-education-agriculture-education.html\\n6/architecture.html\\n6/dining.html\\n6/commencement.html\\n6/dairy-science.html\\n6/american-studies.html\\n6/creative-writing.html\\n6/biochemistry.html\\n6/alumni.html\\n6/childhood-pre-education.html\\n6/cultural-centers.html\\n6/blocksburg2021.html\\n6/creative-technologies.html\\n6/civil-engineering.html\\n6/aerospace-engineering.html\\n6/beyond-boundaries.html\\n6/discover-blacksburg.html\\n6/cost-and-aid.html\\n6/clubs-organizations-involvement.html\\n6/advertising.html\\n6/community-systems-and-engagement.html\\n6/biological-sciences.html\\n6/computational-modeling-and-data-analytics.html\\n6/engineering-science-and-mechanics.html\\n6/cognitive-and-behavioral-neuroscience.html\\n6/civic-agriculture-and-food-systems.html\\n6/communication.html\\n6/applachian-culture-and-environment.html\\n6/construction-engineering-and-management.html\\n6/admissions.html\\n6/dei-series.html\\n6/board.html\\n6/development-and-international-trade.html\\n6/chemistry.html\\n6/corporate-chapters.html\\n6/disabilities-studies.html\\n6/about-us.html\\n6/corporate_venture_arms.html\\n6/business.html\\n6/academics.html\\n6/acceptable-use.html\\n6/big-ideas.html\\n6/accounting-and-information-systems.html\\n6/chemical-engineering.html\\n6/diversity-and-community-engagement.html\\n6/crop-and-soil-sciences.html\\n6/depts-colleges.html\\n6/asian-area-studies.html\\n6/computer-science.html\\n6/business-undecided.html\\n6/consumer-studies.html\\n6/athletics.html\\n6/campus-highlights.html\\n6/corps-cadets.html\\n6/business-information-technology.html\\n6/arabic.html\\n6/blue-planet.html\\n6/american-indian-studies.html\\n6/buildings.html\\n6/actuarial-science.html\\n'\n",
      "b'0/cs-student-opportunity-series-cs-sos\\n0/faculty-support-contacts\\n0/give-now\\n0/delgosha\\n0/ghose\\n0/davis68\\n0/bioinformatics-and-computational-biology\\n0/bpbailey\\n0/covid-19-projects\\n0/bs-statistics-computer-science\\n0/computer-science-chemistry\\n0/dmnicol\\n0/contact\\n0/application-deadlines\\n0/c-gear\\n0/glherman\\n0/andreask\\n0/choose-illinois-computer-science\\n0/graduate-advising-contacts\\n0/department-college-and-campus-events\\n0/featured-lectures\\n0/caesar\\n0/computer-science-music\\n0/arindamb\\n0/bs-computer-science\\n0/career-services\\n0/camillec\\n0/donor-profiles\\n0/cgunter\\n0/challen\\n0/csambassadors\\n0/emeritus-faculty\\n0/ca-training\\n0/charithm\\n0/cs-x-degree-requirements\\n0/dakshita\\n0/final-exam-thesis-defense\\n0/dskatz\\n0/daf\\n0/chackoge\\n0/features\\n0/application-checklist\\n0/data-and-information-systems\\n0/egunter\\n0/facilities-shipping-and-receiving\\n0/gdallen\\n0/CI-Fellowships-2021-support-postdoc-research\\n0/architecture-compilers-and-parallel-computing\\n0/computer-science-astronomy\\n0/computer-science-philosophy\\n0/financial-aid\\n0/course-hero-acquires-iconic-study-guides-cliffsnotes\\n0/facebooks-northwest-lead-envisions-big-future-in-virtual-reality\\n0/clblake\\n0/epi-exam-requirements\\n0/application-fee-waivers\\n0/computers-and-education\\n0/emer-kuck\\n0/dhoiem\\n0/communications-engagement-team\\n0/e-news\\n0/courses\\n0/celebration\\n0/girju\\n0/bs-mathematics-computer-science\\n0/bigdog\\n0/faculty-positions\\n0/computer-science-geography\\n0/colleenl\\n0/computer-science-crop-sciences\\n0/contact-us\\n0/governance\\n0/artificial-intelligence\\n0/friedman\\n0/department-news\\n0/computer-science-visionary-scholarship-donors\\n0/batesa\\n0/conferences-workshops\\n0/data-structures-proficiency-exam\\n0/girishc\\n0/computer-science-anthropology\\n0/cs-undergraduate-degree-options-faq\\n0/cskickstart\\n0/bcosman\\n0/donnacox\\n0/chairs-and-professorships\\n0/chekuri\\n0/campus-master-computer-science\\n0/dchen\\n0/angrave\\n0/computer-science-economics\\n0/business-office\\n0/department-faculty\\n0/Chowdhary-2021-Illinois-Innovtion-Network-Award\\n0/best-papers-roundup-August-2021\\n0/gerard-salton-award-provides-opportunity-for-zhai-to-reflect-before-looking-forward-again\\n0/eshwar\\n0/computer-science-animal-sciences\\n0/computer-science-linguistics\\n0/computer-science-advertising\\n1/phd-program-study-process\\n1/radhikam\\n1/marinov\\n1/alawini\\n1/mdbailey\\n1/professional-master-computer-science-mcs-program\\n1/postdocs\\n1/maa\\n1/reyhaneh\\n1/mchenry\\n1/mickunas\\n1/online-mcs-faqs\\n1/phd-time-limits-milestones\\n1/recent-phd-alumni\\n1/mrebl\\n1/ygertner\\n1/ymn\\n1/phd-requirements\\n1/ai4all\\n1/lukeo\\n1/yunhuang\\n1/lawrie\\n1/agha\\n1/affiliate-faculty\\n1/abdelzaher-leading-DARPA-effort-understand-how-people-respond-influence-messaging\\n1/lumetta\\n1/5-year-bs-ms-program\\n1/klevchen\\n1/lgui\\n1/nanjiang\\n1/accreditation\\n1/ms-general\\n1/nagi\\n1/rcunnin2\\n1/programming-languages-formal-methods-and-software-engineering\\n1/office-department-head\\n1/yihchun\\n1/sanmi\\n1/phd-ms-thesis-format-review-guidelines\\n1/mitras\\n1/resources\\n1/alumni-awards-past-recipients\\n1/rutameht\\n1/kkhauser\\n1/yongjoo\\n1/values\\n1/new-grant-helps-illinois-cs-develop-programs-to-support-undergraduate-women-in-cs\\n1/nikita\\n1/postdoctoral\\n1/minor-computer-science\\n1/lavalle\\n1/5-year-bs-mcs-program\\n1/qualifying-exam\\n1/padua\\n1/reconstruct-raises-series-b-advance-construction-management\\n1/klara\\n1/moralesa\\n1/rkiyer\\n1/additional-required-application-materials\\n1/national-international-awards\\n1/phd-general\\n1/minhdo\\n1/ranjitha\\n1/media-coverage\\n1/miforbes\\n1/ms-program\\n1/ways-give\\n1/sariel\\n1/ms-bioinformatics-program\\n1/online-master-computer-science-data-science\\n1/members\\n1/mcs-campus\\n1/online-master-computer-science\\n1/wgropp\\n1/mnowak1\\n1/lbo\\n1/misailo\\n1/overview-cs-student-life\\n1/meseguer\\n1/official-forms\\n1/rakeshk\\n1/w-hwu\\n1/policies-and-procedures\\n1/adjunct-faculty\\n1/loars-passion-for-expanding-possibilities-in-computing-leads-to-support-of-ican\\n1/pbg\\n1/mgolpar\\n1/namato\\n1/wendycho\\n1/rhc\\n1/mattox\\n1/ludaesch\\n1/nskim\\n1/sadve\\n1/zaher\\n1/wtkramer\\n1/salesforces-codet5-system-can-understand-and-generate-code\\n1/preliminary-exam\\n1/milenkov\\n1/rhk\\n2/spbhat2\\n2/statistics\\n2/kale\\n2/karthe\\n2/landmarks.html\\n2/security-and-privacy\\n2/kirlik\\n2/hanj\\n2/jingrui\\n2/impact-report-publications\\n2/staff-awards\\n2/technical-conferences-workshops\\n2/index.html\\n2/rankings_grad.html\\n2/impact-illinois-cs-degree\\n2/silva-leads-team-studying-interconnections-between-online-learning-equity-access\\n2/shj\\n2/honors\\n2/idoia\\n2/university-illinois-awards\\n2/student-organizations\\n2/hengji\\n2/jdiesner\\n2/rankings.html\\n2/instructional-development-team\\n2/rankings_ug.html\\n2/kcchang\\n2/haitham\\n2/graduate-fellowships-awards\\n2/k-12-resources\\n2/soc1024\\n2/jugal\\n2/this-ai-startup-aims-to-be-a-one-stop-writing-platform\\n2/ican-faqs\\n2/jianpeng\\n2/slazebni\\n2/tbretl\\n2/staff-positions\\n2/senior-design\\n2/graduating-phd-students\\n2/interactive-computing\\n2/scientific-computing\\n2/harandi\\n2/student-resources\\n2/kamin\\n2/shieh-li-scholarship\\n2/graduate-advising-office\\n2/heath\\n2/transfer-students\\n2/history-timeline\\n2/hl314\\n2/k-12-outreach\\n2/jch\\n2/ican\\n2/undergraduate-advising\\n2/saurabhg\\n2/systems-and-networking\\n2/jhasegaw\\n2/vadve\\n2/kesh\\n2/guidelines-forming-phd-committee\\n2/honor-code\\n2/j-liu1\\n2/hclane\\n2/sjp\\n2/kingli\\n2/undergraduate-advising-office\\n2/undergraduate-forms\\n2/kkarahal\\n2/theory-and-algorithms\\n2/graduate-student-annual-evaluation-process\\n2/indy\\n2/kindrtnk\\n2/jianh\\n2/juliahmr\\n2/tmc\\n'\n",
      "b'2/tribal-initatives.html\\n2/undergraduate.html\\n3/FAQs.html\\n3/Undergradhandbook.html\\n3/ProspectiveStudents.html\\n3/virtual-vt-visit.html\\n3/Prospective.html\\n3/BSMS.html\\n4/site-map.html\\n6/campus-highlights.html\\n'\n",
      "b'0/featured-lectures\\n1/recent-phd-alumni\\n2/shj\\n3/CS1014.html\\n3/CS4304.html\\n3/CS4884.html\\n3/CS3984.html\\n3/CS3654.html\\n3/featured-spotlight.html\\n3/CS3414.html\\n3/CS1604.html\\n3/FAQs.html\\n3/Degrees.html\\n3/cs-source-membership.html\\n3/CS3634.html\\n3/index.html\\n3/CS4124.html\\n3/CS4974.html\\n3/phd-recipients.html\\n3/Computer-Science-Press-Releases.html\\n3/CS4104.html\\n3/Undergradhandbook.html\\n3/MSThesis.html\\n3/CS2506.html\\n3/CS1054.html\\n3/cs-source-events.html\\n3/CS3824.html\\n3/Scholarships.html\\n3/ApplicationDeadlines.html\\n3/CS3214.html\\n3/Forms.html\\n3/CS4504.html\\n3/CS4284.html\\n3/CS4114.html\\n3/CS4944.html\\n3/courses.html\\n3/CS3604.html\\n3/ProspectiveStudents.html\\n3/CS1044.html\\n3/CS4704.html\\n3/CS1064.html\\n3/OptionsCertificates.html\\n3/Giving.html\\n3/CS2974.html\\n3/Assistantships.html\\n3/fall-career-fair.html\\n3/sp22grforceadd.html\\n3/CS4414.html\\n3/CS4654.html\\n3/CS4204.html\\n3/CS2104.html\\n3/CS1114.html\\n3/Undergraduate.html\\n3/CS1944.html\\n3/CS3754.html\\n3/CS3304.html\\n3/ForceAdd.html\\n3/CS3714.html\\n3/CS4784.html\\n3/CS2304.html\\n3/CS4570.html\\n3/StudentServices.html\\n3/CS4634.html\\n3/CS4264.html\\n3/CS4804.html\\n3/CS3744.html\\n3/CS2505.html\\n3/CS2114.html\\n3/CS4994.html\\n3/CS4214.html\\n3/CS4644.html\\n3/CS1124.html\\n3/CS4234.html\\n3/cs-source.html\\n3/CS4824.html\\n3/StudentServices..html\\n3/COVID19.html\\n3/ContactsRoles.html\\n3/CS4624.html\\n3/Courses2.html\\n3/Administrivia.html\\n3/CS3724.html\\n3/NewStudentFAQ.html\\n3/Prospective.html\\n3/CS3704.html\\n3/CS4254.html\\n3/CS4604.html\\n3/BSMS.html\\n3/Funding.html\\n3/CS3114.html\\n4/COVID19.html\\n6/blocksburg2021.html\\n'\n",
      "b'0/cs-student-opportunity-series-cs-sos\\n0/faculty-support-contacts\\n0/give-now\\n0/delgosha\\n0/ghose\\n0/davis68\\n0/bioinformatics-and-computational-biology\\n0/bpbailey\\n0/covid-19-projects\\n0/bs-statistics-computer-science\\n0/computer-science-chemistry\\n0/dmnicol\\n0/contact\\n0/application-deadlines\\n0/c-gear\\n0/glherman\\n0/andreask\\n0/choose-illinois-computer-science\\n0/graduate-advising-contacts\\n0/department-college-and-campus-events\\n0/featured-lectures\\n0/caesar\\n0/computer-science-music\\n0/arindamb\\n0/bs-computer-science\\n0/career-services\\n0/camillec\\n0/donor-profiles\\n0/cgunter\\n0/challen\\n0/csambassadors\\n0/emeritus-faculty\\n0/ca-training\\n0/charithm\\n0/cs-x-degree-requirements\\n0/dakshita\\n0/final-exam-thesis-defense\\n0/dskatz\\n0/daf\\n0/chackoge\\n0/features\\n0/application-checklist\\n0/data-and-information-systems\\n0/egunter\\n0/facilities-shipping-and-receiving\\n0/gdallen\\n0/CI-Fellowships-2021-support-postdoc-research\\n0/architecture-compilers-and-parallel-computing\\n0/computer-science-astronomy\\n0/computer-science-philosophy\\n0/financial-aid\\n0/course-hero-acquires-iconic-study-guides-cliffsnotes\\n0/facebooks-northwest-lead-envisions-big-future-in-virtual-reality\\n0/clblake\\n0/epi-exam-requirements\\n0/application-fee-waivers\\n0/computers-and-education\\n0/emer-kuck\\n0/dhoiem\\n0/communications-engagement-team\\n0/e-news\\n0/courses\\n0/celebration\\n0/girju\\n0/bs-mathematics-computer-science\\n0/bigdog\\n0/faculty-positions\\n0/computer-science-geography\\n0/colleenl\\n0/computer-science-crop-sciences\\n0/contact-us\\n0/governance\\n0/artificial-intelligence\\n0/friedman\\n0/department-news\\n0/computer-science-visionary-scholarship-donors\\n0/batesa\\n0/conferences-workshops\\n0/data-structures-proficiency-exam\\n0/girishc\\n0/computer-science-anthropology\\n0/cs-undergraduate-degree-options-faq\\n0/cskickstart\\n0/bcosman\\n0/donnacox\\n0/chairs-and-professorships\\n0/chekuri\\n0/campus-master-computer-science\\n0/dchen\\n0/angrave\\n0/computer-science-economics\\n0/business-office\\n0/department-faculty\\n0/Chowdhary-2021-Illinois-Innovtion-Network-Award\\n0/best-papers-roundup-August-2021\\n0/gerard-salton-award-provides-opportunity-for-zhai-to-reflect-before-looking-forward-again\\n0/eshwar\\n0/computer-science-animal-sciences\\n0/computer-science-linguistics\\n0/computer-science-advertising\\n1/phd-program-study-process\\n1/radhikam\\n1/marinov\\n1/alawini\\n1/mdbailey\\n1/professional-master-computer-science-mcs-program\\n1/postdocs\\n1/maa\\n1/reyhaneh\\n1/mchenry\\n1/mickunas\\n1/online-mcs-faqs\\n1/phd-time-limits-milestones\\n1/recent-phd-alumni\\n1/mrebl\\n1/ygertner\\n1/ymn\\n1/phd-requirements\\n1/ai4all\\n1/lukeo\\n1/yunhuang\\n1/lawrie\\n1/agha\\n1/affiliate-faculty\\n1/abdelzaher-leading-DARPA-effort-understand-how-people-respond-influence-messaging\\n1/lumetta\\n1/5-year-bs-ms-program\\n1/klevchen\\n1/lgui\\n1/nanjiang\\n1/accreditation\\n1/ms-general\\n1/nagi\\n1/rcunnin2\\n1/programming-languages-formal-methods-and-software-engineering\\n1/office-department-head\\n1/yihchun\\n1/sanmi\\n1/phd-ms-thesis-format-review-guidelines\\n1/mitras\\n1/resources\\n1/alumni-awards-past-recipients\\n1/rutameht\\n1/kkhauser\\n1/yongjoo\\n1/values\\n1/new-grant-helps-illinois-cs-develop-programs-to-support-undergraduate-women-in-cs\\n1/nikita\\n1/postdoctoral\\n1/minor-computer-science\\n1/lavalle\\n1/5-year-bs-mcs-program\\n1/qualifying-exam\\n1/padua\\n1/reconstruct-raises-series-b-advance-construction-management\\n1/klara\\n1/moralesa\\n1/rkiyer\\n1/additional-required-application-materials\\n1/national-international-awards\\n1/phd-general\\n1/minhdo\\n1/ranjitha\\n1/media-coverage\\n1/miforbes\\n1/ms-program\\n1/ways-give\\n1/sariel\\n1/ms-bioinformatics-program\\n1/online-master-computer-science-data-science\\n1/members\\n1/mcs-campus\\n1/online-master-computer-science\\n1/wgropp\\n1/mnowak1\\n1/lbo\\n1/misailo\\n1/overview-cs-student-life\\n1/meseguer\\n1/official-forms\\n1/rakeshk\\n1/w-hwu\\n1/policies-and-procedures\\n1/adjunct-faculty\\n1/loars-passion-for-expanding-possibilities-in-computing-leads-to-support-of-ican\\n1/pbg\\n1/mgolpar\\n1/namato\\n1/wendycho\\n1/rhc\\n1/mattox\\n1/ludaesch\\n1/nskim\\n1/sadve\\n1/zaher\\n1/wtkramer\\n1/salesforces-codet5-system-can-understand-and-generate-code\\n1/preliminary-exam\\n1/milenkov\\n1/rhk\\n2/spbhat2\\n2/statistics\\n2/kale\\n2/karthe\\n2/landmarks.html\\n2/security-and-privacy\\n2/kirlik\\n2/hanj\\n2/jingrui\\n2/impact-report-publications\\n2/staff-awards\\n2/technical-conferences-workshops\\n2/index.html\\n2/impact-illinois-cs-degree\\n2/silva-leads-team-studying-interconnections-between-online-learning-equity-access\\n2/shj\\n2/honors\\n2/idoia\\n2/university-illinois-awards\\n2/student-organizations\\n2/hengji\\n2/jdiesner\\n2/rankings.html\\n2/instructional-development-team\\n2/kcchang\\n2/haitham\\n2/graduate-fellowships-awards\\n2/k-12-resources\\n2/soc1024\\n2/jugal\\n2/this-ai-startup-aims-to-be-a-one-stop-writing-platform\\n2/ican-faqs\\n2/jianpeng\\n2/slazebni\\n2/tbretl\\n2/staff-positions\\n2/senior-design\\n2/graduating-phd-students\\n2/interactive-computing\\n2/scientific-computing\\n2/harandi\\n2/student-resources\\n2/kamin\\n2/shieh-li-scholarship\\n2/graduate-advising-office\\n2/heath\\n2/transfer-students\\n2/history-timeline\\n2/hl314\\n2/k-12-outreach\\n2/jch\\n2/ican\\n2/undergraduate-advising\\n2/saurabhg\\n2/systems-and-networking\\n2/jhasegaw\\n2/vadve\\n2/kesh\\n2/guidelines-forming-phd-committee\\n2/honor-code\\n2/j-liu1\\n2/hclane\\n2/sjp\\n2/kingli\\n2/undergraduate-advising-office\\n2/undergraduate-forms\\n2/kkarahal\\n2/theory-and-algorithms\\n2/graduate-student-annual-evaluation-process\\n2/indy\\n2/kindrtnk\\n2/jianh\\n2/juliahmr\\n2/tmc\\n3/CS1014.html\\n3/CS4304.html\\n3/CS4884.html\\n3/CS3984.html\\n3/CS3654.html\\n3/featured-spotlight.html\\n3/CS3414.html\\n3/CS1604.html\\n3/FAQs.html\\n3/Degrees.html\\n3/cs-source-membership.html\\n3/CS3634.html\\n3/index.html\\n3/CS4124.html\\n3/CS4974.html\\n3/phd-recipients.html\\n3/Computer-Science-Press-Releases.html\\n3/CS4104.html\\n3/Undergradhandbook.html\\n3/MSThesis.html\\n3/CS2506.html\\n3/CS1054.html\\n3/cs-source-events.html\\n3/CS3824.html\\n3/Scholarships.html\\n3/ApplicationDeadlines.html\\n3/CS3214.html\\n3/Forms.html\\n3/CS4504.html\\n3/CS4284.html\\n3/CS4114.html\\n3/CS4944.html\\n3/courses.html\\n3/CS3604.html\\n3/ProspectiveStudents.html\\n3/CS1044.html\\n3/CS4704.html\\n3/CS1064.html\\n3/OptionsCertificates.html\\n3/Giving.html\\n3/CS2974.html\\n3/Assistantships.html\\n3/fall-career-fair.html\\n3/sp22grforceadd.html\\n3/CS4414.html\\n3/CS4654.html\\n3/CS4204.html\\n3/CS2104.html\\n3/CS1114.html\\n3/Undergraduate.html\\n3/CS1944.html\\n3/CS3754.html\\n3/CS3304.html\\n3/ForceAdd.html\\n3/CS3714.html\\n3/CS4784.html\\n3/CS2304.html\\n3/CS4570.html\\n3/StudentServices.html\\n3/CS4634.html\\n3/CS4264.html\\n3/CS4804.html\\n3/CS3744.html\\n3/CS2505.html\\n3/CS2114.html\\n3/CS4994.html\\n3/CS4214.html\\n3/CS4644.html\\n3/CS1124.html\\n3/CS4234.html\\n3/cs-source.html\\n3/CS4824.html\\n3/StudentServices..html\\n3/COVID19.html\\n3/ContactsRoles.html\\n3/CS4624.html\\n3/Courses2.html\\n3/Administrivia.html\\n3/CS3724.html\\n3/NewStudentFAQ.html\\n3/Prospective.html\\n3/CS3704.html\\n3/CS4254.html\\n3/CS4604.html\\n3/BSMS.html\\n3/Funding.html\\n3/CS3114.html\\n4/agricultural-sciences.html\\n4/theatre-arts.html\\n4/public-health.html\\n4/mathematics.html\\n4/physics.html\\n4/materials-science-and-engineering.html\\n4/political-science.html\\n4/pre-education.html\\n4/pre-health-professions.html\\n4/spanish.html\\n4/pre-veterinary-medicine.html\\n4/staff.html\\n4/pre-medicine.html\\n4/COVID19.html\\n4/space.html\\n5/finance.html\\n5/industrial-and-systems-engineering.html\\n5/electrical-engineering.html\\n5/international-studies.html\\n5/english.html\\n5/history.html\\n5/european-and-transatlantic-studies.html\\n5/human-computer-interaction.html\\n5/general-engineering.html\\n6/computer-engineering.html\\n6/biological-systems-engineering.html\\n6/criminology.html\\n6/career-and-technical-education-agriculture-education.html\\n6/dairy-science.html\\n6/biochemistry.html\\n6/blocksburg2021.html\\n6/civil-engineering.html\\n6/chemistry.html\\n6/accounting-and-information-systems.html\\n6/crop-and-soil-sciences.html\\n'\n",
      "b'2/tribal-initatives.html\\n2/undergraduate.html\\n3/FAQs.html\\n3/Undergradhandbook.html\\n3/ProspectiveStudents.html\\n3/virtual-vt-visit.html\\n3/Prospective.html\\n3/BSMS.html\\n4/site-map.html\\n6/campus-highlights.html\\n'\n"
     ]
    }
   ],
   "source": [
    "for filename in os.listdir('dev_output'):\n",
    "    with open(os.path.join('dev_output', filename), 'rb') as f:\n",
    "        print(f.read())"
   ]
  },
  {
   "cell_type": "code",
   "execution_count": null,
   "metadata": {},
   "outputs": [],
   "source": []
  }
 ],
 "metadata": {
  "kernelspec": {
   "display_name": "Python 3",
   "language": "python",
   "name": "python3"
  },
  "language_info": {
   "codemirror_mode": {
    "name": "ipython",
    "version": 3
   },
   "file_extension": ".py",
   "mimetype": "text/x-python",
   "name": "python",
   "nbconvert_exporter": "python",
   "pygments_lexer": "ipython3",
   "version": "3.6.6"
  },
  "toc": {
   "base_numbering": 1,
   "nav_menu": {
    "height": "66px",
    "width": "252px"
   },
   "number_sections": true,
   "sideBar": true,
   "skip_h1_title": false,
   "title_cell": "Table of Contents",
   "title_sidebar": "Contents",
   "toc_cell": false,
   "toc_position": {},
   "toc_section_display": "block",
   "toc_window_display": false
  }
 },
 "nbformat": 4,
 "nbformat_minor": 2
}
